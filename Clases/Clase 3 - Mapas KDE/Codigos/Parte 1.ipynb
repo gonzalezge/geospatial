{
 "cells": [
  {
   "cell_type": "markdown",
   "metadata": {},
   "source": [
    "<img src=\"https://raw.githubusercontent.com/paular143/images_notebooks/master/logo-sin-nombre.png\" alt=\"Universidad de Los Andes\" style=\"width: 90px;\" align=\"left\" frameborder=\"300\"/>\n",
    "\n",
    "**UNIVERSIDAD DE LOS ANDES** <br>\n",
    "**FACULTAD DE ECONOMÍA - EDUCACIÓN CONTINUADA** <br>\n",
    "**Análisis espacial de datos y sus aplicaciones en Python** <br>\n",
    "**PROFESORES:** Germán González <br><br>\n",
    "\n",
    "\n",
    "# Clase 3: Estadísticas descriptivas de geolocalización\n",
    "\n",
    "- Paquete _geopandas_.\n",
    "- Capas y siluetas. \n",
    "\n",
    "\n"
   ]
  },
  {
   "cell_type": "code",
   "execution_count": 1,
   "metadata": {},
   "outputs": [
    {
     "name": "stderr",
     "output_type": "stream",
     "text": [
      "/Users/germangonzalez/.pyenv/versions/3.7.5/envs/motus/lib/python3.7/site-packages/pandas/compat/__init__.py:120: UserWarning: Could not import the lzma module. Your installed Python is incomplete. Attempting to use lzma compression will result in a RuntimeError.\n",
      "  warnings.warn(msg)\n"
     ]
    }
   ],
   "source": [
    "# !pip3 install geopandas\n",
    "# !pip3 install shapely\n",
    "# !pip3 install numpy\n",
    "# !pip3 install folium\n",
    "# !pip3 install geojson\n",
    "# !pip3 install branca\n",
    "\n",
    "from shapely import geometry, ops\n",
    "import numpy as np\n",
    "import shapely.geometry as shg\n",
    "from shapely.geometry.polygon import Polygon\n",
    "from shapely.geometry import Point\n",
    "import random\n",
    "import pandas as pd\n",
    "import geopandas as gpd\n",
    "import folium\n",
    "import json\n",
    "import geojson\n",
    "from shapely.ops import cascaded_union\n",
    "import branca\n",
    "import re\n",
    "import unicodedata\n"
   ]
  },
  {
   "cell_type": "markdown",
   "metadata": {},
   "source": [
    "## COVID - Cruce de bases de datos"
   ]
  },
  {
   "cell_type": "markdown",
   "metadata": {},
   "source": [
    "## Lectura de casos de COVID"
   ]
  },
  {
   "cell_type": "code",
   "execution_count": 3,
   "metadata": {},
   "outputs": [],
   "source": [
    "Casos_COVID  = pd.read_excel('Datos/COVID.xlsx')"
   ]
  },
  {
   "cell_type": "markdown",
   "metadata": {},
   "source": [
    "## Lectura de un archivo SHP"
   ]
  },
  {
   "cell_type": "code",
   "execution_count": 4,
   "metadata": {},
   "outputs": [],
   "source": [
    "File= 'Datos/MPM/MPM_FuenteCensal_2018.shp'\n",
    "Data_census = gpd.read_file(File)\n",
    "#### ---  EPSG:4326 -> WGS84 ---- ## \n",
    "Data_census.to_crs(epsg=4326, inplace=True)\n"
   ]
  },
  {
   "cell_type": "code",
   "execution_count": 5,
   "metadata": {},
   "outputs": [
    {
     "data": {
      "text/plain": [
       "Index(['DPTO_CCDGO', 'MPIO_CCDGO', 'MPIO_CNMBR', 'MPIO_CCNCT', 'DPTO_CNMBR',\n",
       "       'MPM', 'MPM_CAB', 'MPM_CPRD', 'AFBMO_TOT', 'AFBMO_CAB', 'AFBMO_CPRD',\n",
       "       'BLE_TOT', 'BLE_CAB', 'BLE_CPRD', 'BSCPI_TOT', 'BSCPI_CAB',\n",
       "       'BSCPI_CPRD', 'BASS_TOT', 'BASS_CAB', 'BASS_CPRD', 'TDE_TOT', 'TDE_CAB',\n",
       "       'TDE_CPRD', 'HC_TOT', 'HC_CAB', 'HC_CPRD', 'IEE_TOT', 'IEE_CAB',\n",
       "       'IEE_CPRD', 'IE_TOT', 'IE_CAB', 'IE_CPRD', 'MIPE_TOT', 'MIPE_CAB',\n",
       "       'MIPE_CPRD', 'MIP_TOT', 'MIP_CAB', 'MIP_CPRD', 'RE_TOT', 'RE_CAB',\n",
       "       'RE_CPRD', 'SAFAM_TOT', 'SAFAM_CAB', 'SAFAM_CPRD', 'SAS_TOT', 'SAS_CAB',\n",
       "       'SAS_CPRD', 'TRINF_TOT', 'TRINF_CAB', 'TRINF_CPRD', 'TRIML_TOT',\n",
       "       'TRIML_CAB', 'TRIML_CPRD', 'geometry'],\n",
       "      dtype='object')"
      ]
     },
     "execution_count": 5,
     "metadata": {},
     "output_type": "execute_result"
    }
   ],
   "source": [
    "Data_census.columns"
   ]
  },
  {
   "cell_type": "markdown",
   "metadata": {},
   "source": [
    "## Este archivo contiene 52 variables sobre los municipios de colombia "
   ]
  },
  {
   "cell_type": "markdown",
   "metadata": {},
   "source": [
    "## Seleccionaremos solo tres variables de todas estas\n",
    "* **MPM:**  Medida de pobreza multidimensional de fuente censal en el total del municipio\n",
    "* **AFBMO_TOT:**  Indicador de analfabetismo en el total del municipio\n",
    "* **TRIML_TOT:**  Indicador de trabajo informal en el total del municipio"
   ]
  },
  {
   "cell_type": "code",
   "execution_count": 6,
   "metadata": {},
   "outputs": [],
   "source": [
    "Data_census = Data_census[['MPIO_CCNCT','DPTO_CNMBR','MPIO_CNMBR','MPM','AFBMO_TOT','TRIML_TOT','geometry']]"
   ]
  },
  {
   "cell_type": "code",
   "execution_count": 7,
   "metadata": {},
   "outputs": [
    {
     "data": {
      "text/html": [
       "<div>\n",
       "<style scoped>\n",
       "    .dataframe tbody tr th:only-of-type {\n",
       "        vertical-align: middle;\n",
       "    }\n",
       "\n",
       "    .dataframe tbody tr th {\n",
       "        vertical-align: top;\n",
       "    }\n",
       "\n",
       "    .dataframe thead th {\n",
       "        text-align: right;\n",
       "    }\n",
       "</style>\n",
       "<table border=\"1\" class=\"dataframe\">\n",
       "  <thead>\n",
       "    <tr style=\"text-align: right;\">\n",
       "      <th></th>\n",
       "      <th>MPIO_CCNCT</th>\n",
       "      <th>DPTO_CNMBR</th>\n",
       "      <th>MPIO_CNMBR</th>\n",
       "      <th>MPM</th>\n",
       "      <th>AFBMO_TOT</th>\n",
       "      <th>TRIML_TOT</th>\n",
       "      <th>geometry</th>\n",
       "    </tr>\n",
       "  </thead>\n",
       "  <tbody>\n",
       "    <tr>\n",
       "      <th>0</th>\n",
       "      <td>18001</td>\n",
       "      <td>CAQUETÁ</td>\n",
       "      <td>FLORENCIA</td>\n",
       "      <td>29.6</td>\n",
       "      <td>9.1</td>\n",
       "      <td>85.0</td>\n",
       "      <td>POLYGON ((-75.42074 2.19413, -75.42042 2.19412...</td>\n",
       "    </tr>\n",
       "    <tr>\n",
       "      <th>1</th>\n",
       "      <td>18029</td>\n",
       "      <td>CAQUETÁ</td>\n",
       "      <td>ALBANIA</td>\n",
       "      <td>38.8</td>\n",
       "      <td>12.1</td>\n",
       "      <td>88.1</td>\n",
       "      <td>POLYGON ((-75.89506 1.36570, -75.89506 1.36570...</td>\n",
       "    </tr>\n",
       "    <tr>\n",
       "      <th>2</th>\n",
       "      <td>18094</td>\n",
       "      <td>CAQUETÁ</td>\n",
       "      <td>BELÉN DE LOS ANDAQUÍES</td>\n",
       "      <td>50.0</td>\n",
       "      <td>18.4</td>\n",
       "      <td>88.6</td>\n",
       "      <td>POLYGON ((-75.78705 1.74982, -75.78715 1.74956...</td>\n",
       "    </tr>\n",
       "    <tr>\n",
       "      <th>3</th>\n",
       "      <td>18247</td>\n",
       "      <td>CAQUETÁ</td>\n",
       "      <td>EL DONCELLO</td>\n",
       "      <td>44.3</td>\n",
       "      <td>14.7</td>\n",
       "      <td>90.7</td>\n",
       "      <td>POLYGON ((-75.36167 2.32143, -75.36142 2.32122...</td>\n",
       "    </tr>\n",
       "    <tr>\n",
       "      <th>4</th>\n",
       "      <td>18256</td>\n",
       "      <td>CAQUETÁ</td>\n",
       "      <td>EL PAUJÍL</td>\n",
       "      <td>45.5</td>\n",
       "      <td>14.7</td>\n",
       "      <td>90.0</td>\n",
       "      <td>POLYGON ((-75.36638 2.20952, -75.35963 2.17388...</td>\n",
       "    </tr>\n",
       "  </tbody>\n",
       "</table>\n",
       "</div>"
      ],
      "text/plain": [
       "  MPIO_CCNCT DPTO_CNMBR              MPIO_CNMBR   MPM  AFBMO_TOT  TRIML_TOT  \\\n",
       "0      18001    CAQUETÁ               FLORENCIA  29.6        9.1       85.0   \n",
       "1      18029    CAQUETÁ                 ALBANIA  38.8       12.1       88.1   \n",
       "2      18094    CAQUETÁ  BELÉN DE LOS ANDAQUÍES  50.0       18.4       88.6   \n",
       "3      18247    CAQUETÁ             EL DONCELLO  44.3       14.7       90.7   \n",
       "4      18256    CAQUETÁ               EL PAUJÍL  45.5       14.7       90.0   \n",
       "\n",
       "                                            geometry  \n",
       "0  POLYGON ((-75.42074 2.19413, -75.42042 2.19412...  \n",
       "1  POLYGON ((-75.89506 1.36570, -75.89506 1.36570...  \n",
       "2  POLYGON ((-75.78705 1.74982, -75.78715 1.74956...  \n",
       "3  POLYGON ((-75.36167 2.32143, -75.36142 2.32122...  \n",
       "4  POLYGON ((-75.36638 2.20952, -75.35963 2.17388...  "
      ]
     },
     "execution_count": 7,
     "metadata": {},
     "output_type": "execute_result"
    }
   ],
   "source": [
    "Data_census.head()"
   ]
  },
  {
   "cell_type": "markdown",
   "metadata": {},
   "source": [
    "## Renombramos las variables"
   ]
  },
  {
   "cell_type": "code",
   "execution_count": 8,
   "metadata": {},
   "outputs": [],
   "source": [
    "Data_census.columns = ['Codigo','Departamento','Municipio','Pobreza','Analfabestimo','Trabajo informal','Geometria']\n",
    "### ----- Volvemos el código un String ----- ##### \n",
    "Data_census['Codigo']= Data_census['Codigo'].apply(lambda x: str(x))\n",
    "Data_census=Data_census.set_index('Codigo')"
   ]
  },
  {
   "cell_type": "code",
   "execution_count": 9,
   "metadata": {},
   "outputs": [],
   "source": [
    "def Arreglar_tilde(Texto):\n",
    "    Texto = unicodedata.normalize('NFD', Texto)\n",
    "    Texto = Texto.encode('ascii', 'ignore')\n",
    "    Texto = Texto.decode(\"utf-8\")\n",
    "    return(Texto)"
   ]
  },
  {
   "cell_type": "code",
   "execution_count": 10,
   "metadata": {},
   "outputs": [],
   "source": [
    "###### -------- Para Departamento ------- ######\n",
    "Data_census['Departamento'] = Data_census['Departamento'].apply(lambda x: Arreglar_tilde(Texto=x))\n",
    "###### -------- Para Municipio ------- ######\n",
    "\n",
    "Data_census['Municipio'] = Data_census['Municipio'].apply(lambda x: Arreglar_tilde(Texto=x))"
   ]
  },
  {
   "cell_type": "code",
   "execution_count": 11,
   "metadata": {},
   "outputs": [
    {
     "data": {
      "text/html": [
       "<div>\n",
       "<style scoped>\n",
       "    .dataframe tbody tr th:only-of-type {\n",
       "        vertical-align: middle;\n",
       "    }\n",
       "\n",
       "    .dataframe tbody tr th {\n",
       "        vertical-align: top;\n",
       "    }\n",
       "\n",
       "    .dataframe thead th {\n",
       "        text-align: right;\n",
       "    }\n",
       "</style>\n",
       "<table border=\"1\" class=\"dataframe\">\n",
       "  <thead>\n",
       "    <tr style=\"text-align: right;\">\n",
       "      <th></th>\n",
       "      <th>ID de caso</th>\n",
       "      <th>Fecha de notificación</th>\n",
       "      <th>Codigo DIVIPOLA</th>\n",
       "      <th>Ciudad de ubicación</th>\n",
       "      <th>Departamento o Distrito</th>\n",
       "      <th>atención</th>\n",
       "      <th>Edad</th>\n",
       "      <th>Sexo</th>\n",
       "      <th>Tipo</th>\n",
       "      <th>Estado</th>\n",
       "      <th>País de procedencia</th>\n",
       "      <th>FIS</th>\n",
       "      <th>Fecha de muerte</th>\n",
       "      <th>Fecha diagnostico</th>\n",
       "      <th>Fecha recuperado</th>\n",
       "      <th>fecha reporte web</th>\n",
       "      <th>Tipo recuperación</th>\n",
       "    </tr>\n",
       "  </thead>\n",
       "  <tbody>\n",
       "    <tr>\n",
       "      <th>0</th>\n",
       "      <td>1</td>\n",
       "      <td>2020-03-02T00:00:00.000</td>\n",
       "      <td>11001</td>\n",
       "      <td>Bogotá D.C.</td>\n",
       "      <td>Bogotá D.C.</td>\n",
       "      <td>Recuperado</td>\n",
       "      <td>19</td>\n",
       "      <td>F</td>\n",
       "      <td>Importado</td>\n",
       "      <td>Leve</td>\n",
       "      <td>Italia</td>\n",
       "      <td>2020-02-27T00:00:00.000</td>\n",
       "      <td>NaN</td>\n",
       "      <td>2020-03-06T00:00:00.000</td>\n",
       "      <td>2020-03-13T00:00:00.000</td>\n",
       "      <td>2020-03-06T00:00:00.000</td>\n",
       "      <td>PCR</td>\n",
       "    </tr>\n",
       "    <tr>\n",
       "      <th>1</th>\n",
       "      <td>2</td>\n",
       "      <td>2020-03-06T00:00:00.000</td>\n",
       "      <td>76111</td>\n",
       "      <td>Guadalajara de Buga</td>\n",
       "      <td>Valle del Cauca</td>\n",
       "      <td>Recuperado</td>\n",
       "      <td>34</td>\n",
       "      <td>M</td>\n",
       "      <td>Importado</td>\n",
       "      <td>Leve</td>\n",
       "      <td>España</td>\n",
       "      <td>2020-03-04T00:00:00.000</td>\n",
       "      <td>NaN</td>\n",
       "      <td>2020-03-09T00:00:00.000</td>\n",
       "      <td>2020-03-19T00:00:00.000</td>\n",
       "      <td>2020-03-09T00:00:00.000</td>\n",
       "      <td>PCR</td>\n",
       "    </tr>\n",
       "    <tr>\n",
       "      <th>2</th>\n",
       "      <td>3</td>\n",
       "      <td>2020-03-07T00:00:00.000</td>\n",
       "      <td>5001</td>\n",
       "      <td>Medellín</td>\n",
       "      <td>Antioquia</td>\n",
       "      <td>Recuperado</td>\n",
       "      <td>50</td>\n",
       "      <td>F</td>\n",
       "      <td>Importado</td>\n",
       "      <td>Leve</td>\n",
       "      <td>España</td>\n",
       "      <td>2020-02-29T00:00:00.000</td>\n",
       "      <td>NaN</td>\n",
       "      <td>2020-03-09T00:00:00.000</td>\n",
       "      <td>2020-03-15T00:00:00.000</td>\n",
       "      <td>2020-03-09T00:00:00.000</td>\n",
       "      <td>PCR</td>\n",
       "    </tr>\n",
       "    <tr>\n",
       "      <th>3</th>\n",
       "      <td>4</td>\n",
       "      <td>2020-03-09T00:00:00.000</td>\n",
       "      <td>5001</td>\n",
       "      <td>Medellín</td>\n",
       "      <td>Antioquia</td>\n",
       "      <td>Recuperado</td>\n",
       "      <td>55</td>\n",
       "      <td>M</td>\n",
       "      <td>Relacionado</td>\n",
       "      <td>Leve</td>\n",
       "      <td>Colombia</td>\n",
       "      <td>2020-03-06T00:00:00.000</td>\n",
       "      <td>NaN</td>\n",
       "      <td>2020-03-11T00:00:00.000</td>\n",
       "      <td>2020-03-26T00:00:00.000</td>\n",
       "      <td>2020-03-11T00:00:00.000</td>\n",
       "      <td>PCR</td>\n",
       "    </tr>\n",
       "    <tr>\n",
       "      <th>4</th>\n",
       "      <td>5</td>\n",
       "      <td>2020-03-09T00:00:00.000</td>\n",
       "      <td>5001</td>\n",
       "      <td>Medellín</td>\n",
       "      <td>Antioquia</td>\n",
       "      <td>Recuperado</td>\n",
       "      <td>25</td>\n",
       "      <td>M</td>\n",
       "      <td>Relacionado</td>\n",
       "      <td>Leve</td>\n",
       "      <td>Colombia</td>\n",
       "      <td>2020-03-08T00:00:00.000</td>\n",
       "      <td>NaN</td>\n",
       "      <td>2020-03-11T00:00:00.000</td>\n",
       "      <td>2020-03-23T00:00:00.000</td>\n",
       "      <td>2020-03-11T00:00:00.000</td>\n",
       "      <td>PCR</td>\n",
       "    </tr>\n",
       "  </tbody>\n",
       "</table>\n",
       "</div>"
      ],
      "text/plain": [
       "   ID de caso    Fecha de notificación  Codigo DIVIPOLA  Ciudad de ubicación  \\\n",
       "0           1  2020-03-02T00:00:00.000            11001          Bogotá D.C.   \n",
       "1           2  2020-03-06T00:00:00.000            76111  Guadalajara de Buga   \n",
       "2           3  2020-03-07T00:00:00.000             5001             Medellín   \n",
       "3           4  2020-03-09T00:00:00.000             5001             Medellín   \n",
       "4           5  2020-03-09T00:00:00.000             5001             Medellín   \n",
       "\n",
       "  Departamento o Distrito     atención  Edad Sexo         Tipo Estado  \\\n",
       "0              Bogotá D.C.  Recuperado    19    F    Importado   Leve   \n",
       "1          Valle del Cauca  Recuperado    34    M    Importado   Leve   \n",
       "2                Antioquia  Recuperado    50    F    Importado   Leve   \n",
       "3                Antioquia  Recuperado    55    M  Relacionado   Leve   \n",
       "4                Antioquia  Recuperado    25    M  Relacionado   Leve   \n",
       "\n",
       "  País de procedencia                      FIS Fecha de muerte  \\\n",
       "0              Italia  2020-02-27T00:00:00.000             NaN   \n",
       "1              España  2020-03-04T00:00:00.000             NaN   \n",
       "2              España  2020-02-29T00:00:00.000             NaN   \n",
       "3            Colombia  2020-03-06T00:00:00.000             NaN   \n",
       "4            Colombia  2020-03-08T00:00:00.000             NaN   \n",
       "\n",
       "         Fecha diagnostico         Fecha recuperado        fecha reporte web  \\\n",
       "0  2020-03-06T00:00:00.000  2020-03-13T00:00:00.000  2020-03-06T00:00:00.000   \n",
       "1  2020-03-09T00:00:00.000  2020-03-19T00:00:00.000  2020-03-09T00:00:00.000   \n",
       "2  2020-03-09T00:00:00.000  2020-03-15T00:00:00.000  2020-03-09T00:00:00.000   \n",
       "3  2020-03-11T00:00:00.000  2020-03-26T00:00:00.000  2020-03-11T00:00:00.000   \n",
       "4  2020-03-11T00:00:00.000  2020-03-23T00:00:00.000  2020-03-11T00:00:00.000   \n",
       "\n",
       "  Tipo recuperación  \n",
       "0               PCR  \n",
       "1               PCR  \n",
       "2               PCR  \n",
       "3               PCR  \n",
       "4               PCR  "
      ]
     },
     "execution_count": 11,
     "metadata": {},
     "output_type": "execute_result"
    }
   ],
   "source": [
    "Casos_COVID.head()"
   ]
  },
  {
   "cell_type": "markdown",
   "metadata": {},
   "source": [
    "## Ahora nos concetramos en la base de datos de casos del COVID\n"
   ]
  },
  {
   "cell_type": "code",
   "execution_count": 12,
   "metadata": {},
   "outputs": [],
   "source": [
    "### ---- Filtramos la base de datos --- ### \n",
    "Casos_COVID=Casos_COVID[['Codigo DIVIPOLA','ID de caso']]\n",
    "Casos_COVID.columns = ['Codigo','ID']\n",
    "### ----- Volvemos el código un String ----- ##### \n",
    "Casos_COVID['Codigo']= Casos_COVID['Codigo'].apply(lambda x: str(x))"
   ]
  },
  {
   "cell_type": "markdown",
   "metadata": {},
   "source": [
    "## Cuántos casos existen por código"
   ]
  },
  {
   "cell_type": "code",
   "execution_count": 13,
   "metadata": {},
   "outputs": [],
   "source": [
    "Casos_COVID=Casos_COVID.groupby('Codigo').count()\n",
    "### --- Cambiamos el nombre ---- ####\n",
    "Casos_COVID.columns = ['Casos Covid']"
   ]
  },
  {
   "cell_type": "markdown",
   "metadata": {},
   "source": [
    "## Se consolidan las bases"
   ]
  },
  {
   "cell_type": "code",
   "execution_count": 14,
   "metadata": {},
   "outputs": [],
   "source": [
    "Casos_COVID = pd.concat([Casos_COVID,Data_census],axis = 1)\n",
    "# --- Se devuele el nombre a los indices -- ##\n",
    "Casos_COVID = Casos_COVID.rename_axis('Codigo')\n",
    "# --- Se devuele los indices -- ##\n",
    "Casos_COVID = Casos_COVID.reset_index(drop=False)"
   ]
  },
  {
   "cell_type": "code",
   "execution_count": 15,
   "metadata": {},
   "outputs": [],
   "source": [
    "#### ------ Se remplazan Nan por cero ----- #### \n",
    "Casos_COVID['Casos Covid'] = Casos_COVID['Casos Covid'].fillna(0)\n",
    "Casos_COVID = Casos_COVID.dropna()"
   ]
  },
  {
   "cell_type": "markdown",
   "metadata": {},
   "source": [
    "## Cómo se relacionan estas variables"
   ]
  },
  {
   "cell_type": "code",
   "execution_count": 16,
   "metadata": {},
   "outputs": [
    {
     "data": {
      "text/html": [
       "<div>\n",
       "<style scoped>\n",
       "    .dataframe tbody tr th:only-of-type {\n",
       "        vertical-align: middle;\n",
       "    }\n",
       "\n",
       "    .dataframe tbody tr th {\n",
       "        vertical-align: top;\n",
       "    }\n",
       "\n",
       "    .dataframe thead th {\n",
       "        text-align: right;\n",
       "    }\n",
       "</style>\n",
       "<table border=\"1\" class=\"dataframe\">\n",
       "  <thead>\n",
       "    <tr style=\"text-align: right;\">\n",
       "      <th></th>\n",
       "      <th>Casos Covid</th>\n",
       "      <th>Pobreza</th>\n",
       "      <th>Analfabestimo</th>\n",
       "      <th>Trabajo informal</th>\n",
       "    </tr>\n",
       "  </thead>\n",
       "  <tbody>\n",
       "    <tr>\n",
       "      <th>Casos Covid</th>\n",
       "      <td>1.000000</td>\n",
       "      <td>-0.085593</td>\n",
       "      <td>-0.091096</td>\n",
       "      <td>-0.098760</td>\n",
       "    </tr>\n",
       "    <tr>\n",
       "      <th>Pobreza</th>\n",
       "      <td>-0.085593</td>\n",
       "      <td>1.000000</td>\n",
       "      <td>0.796599</td>\n",
       "      <td>0.738982</td>\n",
       "    </tr>\n",
       "    <tr>\n",
       "      <th>Analfabestimo</th>\n",
       "      <td>-0.091096</td>\n",
       "      <td>0.796599</td>\n",
       "      <td>1.000000</td>\n",
       "      <td>0.627045</td>\n",
       "    </tr>\n",
       "    <tr>\n",
       "      <th>Trabajo informal</th>\n",
       "      <td>-0.098760</td>\n",
       "      <td>0.738982</td>\n",
       "      <td>0.627045</td>\n",
       "      <td>1.000000</td>\n",
       "    </tr>\n",
       "  </tbody>\n",
       "</table>\n",
       "</div>"
      ],
      "text/plain": [
       "                  Casos Covid   Pobreza  Analfabestimo  Trabajo informal\n",
       "Casos Covid          1.000000 -0.085593      -0.091096         -0.098760\n",
       "Pobreza             -0.085593  1.000000       0.796599          0.738982\n",
       "Analfabestimo       -0.091096  0.796599       1.000000          0.627045\n",
       "Trabajo informal    -0.098760  0.738982       0.627045          1.000000"
      ]
     },
     "execution_count": 16,
     "metadata": {},
     "output_type": "execute_result"
    }
   ],
   "source": [
    "Casos_COVID[['Casos Covid','Pobreza','Analfabestimo','Trabajo informal']].corr()"
   ]
  },
  {
   "cell_type": "code",
   "execution_count": 17,
   "metadata": {},
   "outputs": [],
   "source": [
    "### ---- Se crea una llave ---- ### "
   ]
  },
  {
   "cell_type": "code",
   "execution_count": 18,
   "metadata": {},
   "outputs": [],
   "source": [
    "Casos_COVID['Str_code'] = Casos_COVID['Municipio'] + ' - ' + Casos_COVID['Codigo']"
   ]
  },
  {
   "cell_type": "markdown",
   "metadata": {},
   "source": [
    "## Construcción de un Geojson que contega el número de casos de COVID por unidad geográfica "
   ]
  },
  {
   "cell_type": "code",
   "execution_count": 19,
   "metadata": {},
   "outputs": [],
   "source": [
    "#### -- Creamos una lista vacia ---- #### \n",
    "Figuras_json = []\n",
    "\n",
    "##### ----- Para cada una de las figuras se va consolidar un polígono ------ ##### \n",
    "for k in range(0,len(Casos_COVID)):\n",
    "    Zona_analisis = geojson.Feature(geometry=Casos_COVID.iloc[k]['Geometria'])\n",
    "\n",
    "    Poligono = {\n",
    "        'type': 'Feature',\n",
    "        'geometry': { \"type\": Zona_analisis['geometry']['type'], \"coordinates\": Zona_analisis['geometry']['coordinates']},\n",
    "        'properties' :  {\"id\": k,\"Municipio\": str(Casos_COVID.iloc[k]['Str_code']) } \n",
    "    }\n",
    "    #### ---- A figuras se añade este poligono ---- ### \n",
    "    Figuras_json.append(Poligono)\n",
    "\n",
    "\n",
    "    \n",
    "##### --------- Se consolidan todos los polígonos como una colección de datos ------ ######  \n",
    "Coleccion_json = {\n",
    "    'type': 'FeatureCollection',\n",
    "    'features': Figuras_json,\n",
    "}\n",
    "\n",
    "### ----  Verifica que la estructura sea correcta para JSON ----- #### \n",
    "geo_str = json.dumps(Coleccion_json) \n",
    "\n",
    "#### ---- load ----- ##### \n",
    "geo_str = json.loads(geo_str)\n",
    "\n",
    "\n",
    "#outfile = open('Covid.json', 'w+')\n",
    "#outfile.write(geo_str)\n"
   ]
  },
  {
   "cell_type": "markdown",
   "metadata": {},
   "source": [
    "## Heatmap "
   ]
  },
  {
   "cell_type": "code",
   "execution_count": 20,
   "metadata": {},
   "outputs": [
    {
     "name": "stderr",
     "output_type": "stream",
     "text": [
      "/Users/germangonzalez/.pyenv/versions/3.7.5/envs/motus/lib/python3.7/site-packages/folium/folium.py:413: FutureWarning: The choropleth  method has been deprecated. Instead use the new Choropleth class, which has the same arguments. See the example notebook 'GeoJSON_and_choropleth' for how to do this.\n",
      "  FutureWarning\n"
     ]
    }
   ],
   "source": [
    "mapa = folium.Map(location=[4.316107698094774,-74.18107270162268],zoom_start=7,tiles='cartodbpositron')\n",
    "### --- Scale HeatMap --- ###\n",
    "\n",
    "    \n",
    "### --- Diferents tile formats --- ### \n",
    "folium.TileLayer('Stamen Terrain').add_to(mapa)\n",
    "folium.TileLayer('openstreetmap').add_to(mapa)\n",
    "folium.TileLayer('Stamen Toner').add_to(mapa)\n",
    "\n",
    "\n",
    "mapa.choropleth(\n",
    " geo_data=geo_str,\n",
    " name='choropleth',\n",
    " data=Casos_COVID,\n",
    " columns=['Str_code', 'Casos Covid'],\n",
    " key_on='properties.Municipio',\n",
    " fill_color='YlGn',\n",
    " fill_opacity=0.4,\n",
    " line_opacity=0.6,\n",
    " legend_name='Covid'\n",
    ")\n",
    "folium.LayerControl().add_to(mapa)\n",
    "\n",
    "\n",
    "mapa.save('Outputs/Covid_municipios.html')"
   ]
  },
  {
   "cell_type": "markdown",
   "metadata": {},
   "source": [
    "## Se crea un Score para el color"
   ]
  },
  {
   "cell_type": "code",
   "execution_count": 21,
   "metadata": {},
   "outputs": [],
   "source": [
    "Casos_COVID['Color'] = (Casos_COVID['Casos Covid']/Casos_COVID['Casos Covid'].max())*100"
   ]
  },
  {
   "cell_type": "markdown",
   "metadata": {},
   "source": [
    "## Mapa"
   ]
  },
  {
   "cell_type": "code",
   "execution_count": 22,
   "metadata": {},
   "outputs": [],
   "source": [
    "mapa = folium.Map(location=[4.316107698094774,-74.18107270162268],zoom_start=7,tiles='cartodbpositron')\n",
    "### --- Scale HeatMap --- ###\n",
    "#### https://colorbrewer2.org/#type=sequential&scheme=BuGn&n=3 \n",
    "colormap = branca.colormap.LinearColormap(colors=['#543005','#8c510a','#bf812d','#dfc27d','#f6e8c3','#f5f5f5','#c7eae5','#80cdc1','#35978f','#01665e','#003c30'], index=[0,10,20,30,40,50,60,70,80,90,100],vmin=0,vmax=100)\n",
    "### --- Add Scale heatmap color --- ### \n",
    "colormap.caption = 'Casos Covid'\n",
    "\n",
    "\n",
    "    \n",
    "### --- Diferents tile formats --- ### \n",
    "folium.TileLayer('Stamen Terrain').add_to(mapa)\n",
    "folium.TileLayer('openstreetmap').add_to(mapa)\n",
    "folium.TileLayer('Stamen Toner').add_to(mapa)\n",
    "\n",
    "\n",
    "folium.GeoJson(geo_str,\n",
    "    style_function=lambda feature: {\n",
    "        'fillColor': colormap(int(Casos_COVID.set_index('Str_code').loc[str(re.sub(pattern='Municipio:.',repl='',string=feature['properties']['Municipio']))]['Color'])),\n",
    "        'color': '#788691',\n",
    "        'weight': 0.5,\n",
    "        'fillOpacity':0.5,\n",
    "    },\n",
    "    highlight_function=lambda x: {'weight':1,'fillColor':'#e7e3d7','color': '#e7e3d7'}, tooltip=folium.GeoJsonTooltip(fields=['Municipio'], labels=False,sticky=False),\n",
    "    name='AE1').add_to(mapa)\n",
    "\n",
    "\n",
    "colormap.add_to(mapa)\n",
    "\n",
    "\n",
    "folium.LayerControl().add_to(mapa)\n",
    "mapa.save('Outputs/Covid_municipios_v2.html')\n"
   ]
  },
  {
   "cell_type": "code",
   "execution_count": 23,
   "metadata": {},
   "outputs": [],
   "source": [
    "Data_census = Data_census.reset_index(drop=False)"
   ]
  },
  {
   "cell_type": "markdown",
   "metadata": {},
   "source": [
    "## Agregación por Departamentos"
   ]
  },
  {
   "cell_type": "code",
   "execution_count": 24,
   "metadata": {},
   "outputs": [],
   "source": [
    "Data_depto = Casos_COVID.groupby('Departamento').apply(lambda x: pd.DataFrame({'Codigo':[x['Codigo']],'Geomety': [cascaded_union(x['Geometria']).buffer(0)] , \n",
    "                                                                              'Casos': [x['Casos Covid'].sum()]}))\n",
    "Data_depto=Data_depto.reset_index(drop=False)"
   ]
  },
  {
   "cell_type": "code",
   "execution_count": 25,
   "metadata": {},
   "outputs": [],
   "source": [
    "Data_depto=Data_depto.drop('level_1',1)"
   ]
  },
  {
   "cell_type": "code",
   "execution_count": 26,
   "metadata": {},
   "outputs": [],
   "source": [
    "#### -- Creamos una lista vacia ---- #### \n",
    "Figuras_json_depto = []\n",
    "\n",
    "##### ----- Para cada una de las figuras se va consolidar un polígono ------ ##### \n",
    "for k in range(0,len(Data_depto)):\n",
    "    Zona_analisis = geojson.Feature(geometry=Data_depto.iloc[k]['Geomety'])\n",
    "\n",
    "    Poligono = {\n",
    "        'type': 'Feature',\n",
    "        'geometry': { \"type\": Zona_analisis['geometry']['type'], \"coordinates\": Zona_analisis['geometry']['coordinates']},\n",
    "        'properties' :  {\"id\": k,\"Departamento\": str(Data_depto.iloc[k]['Departamento']) } \n",
    "    }\n",
    "    #### ---- A figuras se añade este poligono ---- ### \n",
    "    Figuras_json_depto.append(Poligono)\n",
    "\n",
    "\n",
    "    \n",
    "##### --------- Se consolidan todos los polígonos como una colección de datos ------ ######  \n",
    "Coleccion_json_depto = {\n",
    "    'type': 'FeatureCollection',\n",
    "    'features': Figuras_json_depto,\n",
    "}\n",
    "\n",
    "### ----  Verifica que la estructura sea correcta para JSON ----- #### \n",
    "geo_str_depto = json.dumps(Coleccion_json_depto) \n",
    "\n",
    "#### ---- load ----- ##### \n",
    "geo_str_depto = json.loads(geo_str_depto)\n",
    "\n",
    "\n",
    "#outfile = open('Covid.json', 'w+')\n",
    "#outfile.write(geo_str)\n",
    "\n"
   ]
  },
  {
   "cell_type": "code",
   "execution_count": 27,
   "metadata": {},
   "outputs": [],
   "source": [
    "Data_depto['Color'] = (Data_depto['Casos']/Data_depto['Casos'].max())*100"
   ]
  },
  {
   "cell_type": "code",
   "execution_count": 28,
   "metadata": {},
   "outputs": [],
   "source": [
    "mapa = folium.Map(location=[4.316107698094774,-74.18107270162268],zoom_start=5,tiles='cartodbpositron')\n",
    "### --- Scale HeatMap --- ###\n",
    "#### https://colorbrewer2.org/#type=sequential&scheme=BuGn&n=3 \n",
    "colormap = branca.colormap.LinearColormap(colors=['#ffffff','#f7fbff','#deebf7','#c6dbef','#9ecae1','#6baed6','#4292c6','#2171b5','#08519c','#08306b','#14305a'], index=[0,10,20,30,40,50,60,70,80,90,100],vmin=0,vmax=100)\n",
    "### --- Add Scale heatmap color --- ### \n",
    "colormap.caption = 'Casos Covid'\n",
    "\n",
    "\n",
    "    \n",
    "### --- Diferents tile formats --- ### \n",
    "folium.TileLayer('Stamen Terrain').add_to(mapa)\n",
    "folium.TileLayer('openstreetmap').add_to(mapa)\n",
    "folium.TileLayer('Stamen Toner').add_to(mapa)\n",
    "\n",
    "\n",
    "folium.GeoJson(geo_str_depto,\n",
    "    style_function=lambda feature: {\n",
    "        'fillColor': colormap(int(Data_depto.set_index('Departamento').loc[str(re.sub(pattern='Departamento:.',repl='',string=feature['properties']['Departamento']))]['Color'])),\n",
    "        'color': '#788691',\n",
    "        'weight': 0.5,\n",
    "        'fillOpacity':0.9,\n",
    "    },\n",
    "    highlight_function=lambda x: {'weight':1,'fillColor':'#e7e3d7','color': '#e7e3d7'}, tooltip=folium.GeoJsonTooltip(fields=['Departamento'], labels=False,sticky=False),\n",
    "    name='AE1').add_to(mapa)\n",
    "\n",
    "\n",
    "colormap.add_to(mapa)\n",
    "\n",
    "\n",
    "folium.LayerControl().add_to(mapa)\n",
    "mapa.save('Outputs/Covid_departamento.html')\n",
    "\n"
   ]
  },
  {
   "cell_type": "code",
   "execution_count": null,
   "metadata": {},
   "outputs": [],
   "source": []
  }
 ],
 "metadata": {
  "kernelspec": {
   "display_name": "Python 3",
   "language": "python",
   "name": "python3"
  },
  "language_info": {
   "codemirror_mode": {
    "name": "ipython",
    "version": 3
   },
   "file_extension": ".py",
   "mimetype": "text/x-python",
   "name": "python",
   "nbconvert_exporter": "python",
   "pygments_lexer": "ipython3",
   "version": "3.7.5"
  }
 },
 "nbformat": 4,
 "nbformat_minor": 4
}
