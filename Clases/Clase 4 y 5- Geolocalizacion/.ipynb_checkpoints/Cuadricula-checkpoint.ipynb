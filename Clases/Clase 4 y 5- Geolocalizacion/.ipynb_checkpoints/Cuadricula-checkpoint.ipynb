{
 "cells": [
  {
   "cell_type": "markdown",
   "metadata": {},
   "source": [
    "<img src=\"https://raw.githubusercontent.com/paular143/images_notebooks/master/logo-sin-nombre.png\" alt=\"Universidad de Los Andes\" style=\"width: 90px;\" align=\"left\" frameborder=\"300\"/>\n",
    "\n",
    "**UNIVERSIDAD DE LOS ANDES** <br>\n",
    "**FACULTAD DE ECONOMÍA - EDUCACIÓN CONTINUADA** <br>\n",
    "**Análisis espacial de datos y sus aplicaciones en Python 2020** <br>\n",
    "**PROFESORES:** Germán González y Mateo Dulce <br><br>\n",
    "\n",
    "\n",
    "# Sessión 5: Golocalización\n",
    "\n",
    "- cuadrícula\n",
    "\n",
    "\n"
   ]
  },
  {
   "cell_type": "code",
   "execution_count": null,
   "metadata": {},
   "outputs": [],
   "source": [
    "# !pip3 install shapely\n",
    "# !pip3 install pyproj\n",
    "# !pip3 install functools\n",
    "# !pip3 install folium\n",
    "# !pip3 install pandas\n",
    "# !pip3 install requests\n",
    "# !pip3 install geopy\n",
    "\n",
    "import pyproj\n",
    "from functools import partial\n",
    "import shapely.geometry\n",
    "from shapely.ops import transform\n",
    "from shapely.geometry.polygon import Polygon\n",
    "from shapely.geometry import Point\n",
    "import folium\n",
    "import geojson\n",
    "import json\n",
    "import pandas as pd\n",
    "import geopandas as gpd\n",
    "import re\n",
    "import geopy\n",
    "import requests\n",
    "from geopy.distance import geodesic\n",
    "from geopy.geocoders import Nominatim\n",
    "import numpy as np\n",
    "from shapely.ops import cascaded_union\n",
    "import time\n",
    "\n"
   ]
  },
  {
   "cell_type": "code",
   "execution_count": null,
   "metadata": {},
   "outputs": [],
   "source": [
    "Latitud = 4.667095\n",
    "Longitud = -74.052542"
   ]
  },
  {
   "cell_type": "markdown",
   "metadata": {},
   "source": [
    "Para poder construir la cuadricula se requiere un sistema en metros\n",
    "\n",
    "**Información del Sistema Geodésico Mundial 1984 (WGS84) en grados**\n",
    "https://epsg.io/4326\n",
    "\n",
    "\n",
    "**Información del Sistema Geodésico Mundial 1984 (WGS84) en metros**\n",
    "https://epsg.io/3857"
   ]
  },
  {
   "cell_type": "code",
   "execution_count": null,
   "metadata": {},
   "outputs": [],
   "source": [
    "####### -------- Convertir a un sistema en donde la unidad es metros ------- #######\n",
    "A_metros = partial(\n",
    "    pyproj.transform,\n",
    "    pyproj.Proj('EPSG:4326'),\n",
    "    pyproj.Proj('EPSG:3857'))\n",
    "\n",
    "###### ------- Inversa convertir a un sistema en donde la unidad es grados -------- ######## \n",
    "A_grados = partial(\n",
    "    pyproj.transform,\n",
    "    pyproj.Proj('EPSG:3857'),\n",
    "    pyproj.Proj('EPSG:4326'))\n"
   ]
  },
  {
   "cell_type": "markdown",
   "metadata": {},
   "source": [
    "### Resultado transformado"
   ]
  },
  {
   "cell_type": "code",
   "execution_count": null,
   "metadata": {},
   "outputs": [],
   "source": [
    "Transformacion_metros = transform(A_metros, Point(Latitud, Longitud)).coords[0]"
   ]
  },
  {
   "cell_type": "code",
   "execution_count": null,
   "metadata": {},
   "outputs": [],
   "source": [
    "Transformacion_metros"
   ]
  },
  {
   "cell_type": "markdown",
   "metadata": {},
   "source": [
    "## Le sumamos 100 metros en las cordenadas transformadas en la escala de metros"
   ]
  },
  {
   "cell_type": "code",
   "execution_count": null,
   "metadata": {},
   "outputs": [],
   "source": [
    "Tamano_metros = 1000 \n",
    "Transformacion_grados = transform(A_grados, Point(Transformacion_metros[0] + Tamano_metros,Transformacion_metros[1] + Tamano_metros)).coords[0] "
   ]
  },
  {
   "cell_type": "code",
   "execution_count": null,
   "metadata": {},
   "outputs": [],
   "source": [
    "Transformacion_grados"
   ]
  },
  {
   "cell_type": "code",
   "execution_count": null,
   "metadata": {},
   "outputs": [],
   "source": [
    "##### ------- Mapa ----- #####\n",
    "mapa = folium.Map(location=[Latitud,Longitud],zoom_start=15,tiles='cartodbpositron')\n",
    "folium.Marker([Latitud,Longitud]).add_to(mapa)\n",
    "folium.Marker([Transformacion_grados[0],Transformacion_grados[1]]).add_to(mapa)"
   ]
  },
  {
   "cell_type": "markdown",
   "metadata": {},
   "source": [
    "# Cuadrícula "
   ]
  },
  {
   "cell_type": "code",
   "execution_count": null,
   "metadata": {},
   "outputs": [],
   "source": [
    "mapa = folium.Map(location=[Latitud,Longitud],zoom_start=15,tiles='cartodbpositron')\n",
    "folium.Marker([Latitud,Longitud],icon=folium.Icon(icon='cloud',color='blue')).add_to(mapa)\n",
    "\n",
    "#### ------- Latitud (arriba y abajo) -------- ######### \n",
    "arriba_derecha = transform(A_grados, Point(Transformacion_metros[0] + Tamano_metros,Transformacion_metros[1] + Tamano_metros)).coords[0] \n",
    "folium.Marker([arriba_derecha[0],arriba_derecha[1]],icon=folium.Icon(icon='cloud',color='red')).add_to(mapa)\n",
    "\n",
    "abajo_derecha = transform(A_grados, Point(Transformacion_metros[0] + Tamano_metros,Transformacion_metros[1] - Tamano_metros)).coords[0] \n",
    "folium.Marker([abajo_derecha[0],abajo_derecha[1]],icon=folium.Icon(icon='cloud',color='green')).add_to(mapa)\n",
    "\n",
    "\n",
    "#### ------- Longitud (derecha y izquierda) -------- ######### \n",
    "arriba_izquierda = transform(A_grados, Point(Transformacion_metros[0] - Tamano_metros,Transformacion_metros[1] + Tamano_metros)).coords[0] \n",
    "folium.Marker([arriba_izquierda[0],arriba_izquierda[1]],icon=folium.Icon(icon='cloud',color='darkpurple')).add_to(mapa)\n",
    "\n",
    "abajo_izquierda = transform(A_grados, Point(Transformacion_metros[0] - Tamano_metros,Transformacion_metros[1] - Tamano_metros)).coords[0] \n",
    "folium.Marker([abajo_izquierda[0],abajo_izquierda[1]],icon=folium.Icon(icon='cloud',color='black')).add_to(mapa)\n"
   ]
  },
  {
   "cell_type": "markdown",
   "metadata": {},
   "source": [
    "# Construir un cuadrado"
   ]
  },
  {
   "cell_type": "code",
   "execution_count": null,
   "metadata": {},
   "outputs": [],
   "source": [
    "#### -- Creamos una lista vacia ---- #### \n",
    "Latitud = 4.667095\n",
    "Longitud = -74.052542\n",
    "#### ---- Distance --- #### \n",
    "Tamano_metros = 5000\n",
    "Transformacion_grados = transform(A_grados, Point(Transformacion_metros[0] + Tamano_metros,Transformacion_metros[1] + Tamano_metros)).coords[0] \n",
    "\n",
    "Figuras_json = []\n",
    "Figuras_poligonos = []\n",
    "Subcuadrados = 10\n",
    "\n",
    "Latitud_inicial = Latitud\n",
    "Latitud_final = Transformacion_grados[0]\n",
    "\n",
    "###### ------ Se crea una malla entre la latitud inicial y latitud final a n subcuadrados ----- ######\n",
    "Latitudes_cuadricula = np.linspace(Latitud_inicial, Latitud_final, Subcuadrados+1)\n",
    "###### ------ Se crea una malla entre la longitud inicial y longitud final a n subcuadrados ----- ######\n",
    "Longitudes_cuadricula = np.linspace(Longitud,Transformacion_grados[1], Subcuadrados+1)\n",
    "\n",
    "#### ------- Total distancia ---------- #######\n",
    "Diferencia_latitude = Latitudes_cuadricula[1] - Latitudes_cuadricula[0]\n",
    "Diferencia_longitud = Longitudes_cuadricula[1] - Longitudes_cuadricula[0]\n",
    "\n",
    "for lat in Latitudes_cuadricula[:-1]:\n",
    "    for lon in Longitudes_cuadricula[:-1]:\n",
    "        superior_derecha = [lon + Diferencia_longitud, lat + Diferencia_latitude]\n",
    "        superior_izquierda = [lon, lat + Diferencia_latitude]\n",
    "        inferior_derecha = [lon + Diferencia_longitud, lat]\n",
    "        inferior_izquierda = [lon, lat]\n",
    "\n",
    "        \n",
    "        Figura = Polygon([\n",
    "            list(superior_derecha),\n",
    "            list(superior_izquierda),\n",
    "            list(inferior_izquierda),\n",
    "            list(inferior_derecha),\n",
    "        ])\n",
    "\n",
    "        \n",
    "        \n",
    "        Zona_analisis = geojson.Feature(geometry=Figura.buffer(0))\n",
    "\n",
    "        Poligono = {\n",
    "            'type': 'Feature',\n",
    "            'geometry': { \"type\": Zona_analisis['geometry']['type'], \"coordinates\": Zona_analisis['geometry']['coordinates']},\n",
    "            'properties' :  {\"id\": '1',\"Municipio\": 'Zona' } \n",
    "        }\n",
    "        #### ---- A figuras se añade este poligono ---- ### \n",
    "        Figuras_json.append(Poligono)\n",
    "        Figuras_poligonos.append(Figura)\n",
    "\n",
    "\n",
    "    \n",
    "##### --------- Se consolidan todos los polígonos como una colección de datos ------ ######  \n",
    "Coleccion_json = {\n",
    "    'type': 'FeatureCollection',\n",
    "    'features': Figuras_json,\n",
    "}\n",
    "\n",
    "### ----  Verifica que la estructura sea correcta para JSON ----- #### \n",
    "\n",
    "#### ---- load ----- ##### \n",
    "geo_str = json.loads(json.dumps(Coleccion_json) )\n"
   ]
  },
  {
   "cell_type": "markdown",
   "metadata": {},
   "source": [
    "# Graficar Mapa"
   ]
  },
  {
   "cell_type": "code",
   "execution_count": null,
   "metadata": {},
   "outputs": [],
   "source": [
    "Mapa = folium.Map(location=[Latitud,Longitud],zoom_start=14,tiles='cartodbpositron')\n",
    "\n",
    "####----- Agregamos la capa geojson ---- #####\n",
    "folium.GeoJson(geo_str,\n",
    "style_function=lambda feature: {\n",
    "    'fillColor': 'gray',\n",
    "    'color': '#7d868c',\n",
    "    'weight': 1,\n",
    "    'fillOpacity':0.2,\n",
    "},\n",
    "highlight_function=lambda x: {'weight':10,'fillColor':'#fec821','color': '#fec821'},tooltip='Bogota',\n",
    "name='Cuadricula').add_to(Mapa)\n",
    "\n",
    "folium.LayerControl().add_to(Mapa)"
   ]
  },
  {
   "cell_type": "code",
   "execution_count": null,
   "metadata": {},
   "outputs": [],
   "source": [
    "Mapa"
   ]
  },
  {
   "cell_type": "markdown",
   "metadata": {},
   "source": [
    "## Buscar puntos en esa malla"
   ]
  },
  {
   "cell_type": "code",
   "execution_count": null,
   "metadata": {},
   "outputs": [],
   "source": [
    "Consolidado_fuguras = pd.DataFrame({'Figura': Figuras_poligonos})\n",
    "Consolidado_fuguras = Consolidado_fuguras.rename_axis('Cuadro').reset_index(drop=False)"
   ]
  },
  {
   "cell_type": "markdown",
   "metadata": {},
   "source": [
    "## Comercios de bogotá: Camara de Comercio 2016"
   ]
  },
  {
   "cell_type": "code",
   "execution_count": null,
   "metadata": {},
   "outputs": [],
   "source": [
    "Establecimientos_totales = pd.read_pickle('Comercios.gzip',compression='gzip')"
   ]
  },
  {
   "cell_type": "code",
   "execution_count": null,
   "metadata": {},
   "outputs": [],
   "source": [
    "start_time = time.time()\n",
    "Lugares = list(map(lambda y: Establecimientos_totales[Establecimientos_totales['Point'].apply(lambda x: x.within(y))] ,list(Consolidado_fuguras['Figura']) ))\n",
    "print(\"--- %s seconds ---\" % (time.time() - start_time))"
   ]
  },
  {
   "cell_type": "markdown",
   "metadata": {},
   "source": [
    "## Se remplazan el número de lugares dentro "
   ]
  },
  {
   "cell_type": "code",
   "execution_count": null,
   "metadata": {},
   "outputs": [],
   "source": [
    "Consolidado_fuguras['Lugares_lento'] = Lugares "
   ]
  },
  {
   "cell_type": "markdown",
   "metadata": {},
   "source": [
    "# Procesamiento en paralelo "
   ]
  },
  {
   "cell_type": "code",
   "execution_count": null,
   "metadata": {},
   "outputs": [],
   "source": [
    "################ ------------- Multi parallel -------------- ##################\n",
    "import multiprocessing\n",
    "from multiprocessing import Pool\n",
    "\n",
    "_func = None\n",
    "\n",
    "def worker_init(func):\n",
    "    global _func\n",
    "    _func = func\n",
    "\n",
    "def worker(x):\n",
    "    return _func(x)"
   ]
  },
  {
   "cell_type": "code",
   "execution_count": null,
   "metadata": {},
   "outputs": [],
   "source": [
    "####### ------------ multiprocesing ------ ######### \n",
    "start_time = time.time()\n",
    "#### -------- Definir numero de nucleos ---- ####### \n",
    "processes_cpu = (int(multiprocessing.cpu_count())-1)\n",
    "pool = Pool(processes=processes_cpu ,initializer=worker_init, initargs=(lambda y: Establecimientos_totales[Establecimientos_totales['Point'].apply(lambda x: x.within(y))],))\n",
    "Lugares = pool.map(worker, list(Consolidado_fuguras['Figura']))\n",
    "pool.close() \n",
    "print(\"--- %s seconds ---\" % (time.time() - start_time))\n"
   ]
  },
  {
   "cell_type": "markdown",
   "metadata": {},
   "source": [
    "## Se remplazan el número de lugares dentro "
   ]
  },
  {
   "cell_type": "code",
   "execution_count": null,
   "metadata": {},
   "outputs": [],
   "source": [
    "Consolidado_fuguras['Lugares_paralelo'] = Lugares "
   ]
  },
  {
   "cell_type": "markdown",
   "metadata": {},
   "source": [
    "# Mapa"
   ]
  },
  {
   "cell_type": "code",
   "execution_count": null,
   "metadata": {},
   "outputs": [],
   "source": [
    "Mapa = folium.Map(location=[Latitud,Longitud],zoom_start=14,tiles='cartodbpositron')\n",
    "\n",
    "####----- Agregamos la capa geojson ---- #####\n",
    "folium.GeoJson(geo_str,\n",
    "style_function=lambda feature: {\n",
    "    'fillColor': 'gray',\n",
    "    'color': '#7d868c',\n",
    "    'weight': 1,\n",
    "    'fillOpacity':0.2,\n",
    "},\n",
    "highlight_function=lambda x: {'weight':10,'fillColor':'#fec821','color': '#fec821'},tooltip='Bogota',\n",
    "name='Cudricula').add_to(Mapa)\n",
    "\n",
    "folium.LayerControl().add_to(Mapa)\n",
    "\n",
    "##### ------ Ejemplo cuadro k ----- ###### \n",
    "k = 0\n",
    "Subcuadro = Consolidado_fuguras['Lugares_paralelo'].iloc[k].reset_index(drop=True)\n",
    "\n",
    "for lugar in range(0,len(Subcuadro)):\n",
    "    folium.Marker([Subcuadro.iloc[lugar]['Latitude'],Subcuadro.iloc[lugar]['Longitude']],tooltip=Subcuadro.iloc[lugar]['Nombre']).add_to(Mapa)\n",
    "\n"
   ]
  },
  {
   "cell_type": "markdown",
   "metadata": {},
   "source": [
    "# Proceso inverso: Dado unos circulos buscar en un radio R objetos cercanos"
   ]
  },
  {
   "cell_type": "code",
   "execution_count": 636,
   "metadata": {},
   "outputs": [],
   "source": [
    "###### --------- Funcion para crear circulos ------- #######\n",
    "def Proyectar_circulo(lat, lon, metros):\n",
    "    import warnings\n",
    "    warnings.filterwarnings('ignore')\n",
    "    ##### Crear un circulo de radio m\n",
    "    Circulo = Point(0, 0).buffer(metros)  # distance in metres\n",
    "\n",
    "    proj_wgs84 = pyproj.Proj(init='epsg:4326')\n",
    "\n",
    "    # Proyección acimutal equidistante (Azimuthal equidistant projection) - AEQD\n",
    "    aeqd_proj = '+proj=aeqd +lat_0={lat} +lon_0={lon} +x_0=0 +y_0=0'\n",
    "    aeqd_proj = aeqd_proj.format(lat=lat, lon=lon)\n",
    "    ### ----- Funcion de proyeccion --- ## \n",
    "    project = partial(\n",
    "        pyproj.transform,\n",
    "        pyproj.Proj(aeqd_proj.format(lat=lat, lon=lon)),\n",
    "        proj_wgs84)\n",
    "    \n",
    "    #### ---------- Transformacion ------- #######\n",
    "    Resultado = transform(project, Circulo).exterior.coords[:]\n",
    "        \n",
    "    return(Resultado)\n",
    "\n"
   ]
  },
  {
   "cell_type": "code",
   "execution_count": 652,
   "metadata": {},
   "outputs": [],
   "source": [
    "#### -- Creamos una lista vacia ---- #### \n",
    "Latitud = 4.667095\n",
    "Longitud = -74.052542\n",
    "#### ---- Distance --- #### \n",
    "Tamano_metros = 800\n",
    "Transformacion_grados =transform(A_grados, Point(Transformacion_metros[0] + Tamano_metros,Transformacion_metros[1] + Tamano_metros)).coords[0] \n",
    "\n",
    "Latitud_inicial = Transformacion_grados[0] \n",
    "Latitud_final = Latitud\n",
    "\n",
    "Longitud_inicial = Transformacion_grados[1]\n",
    "Longitud_final = Longitud \n",
    "Distancia_circulos = 200\n",
    "\n",
    "######## -------- Define the boundary of rectangle to be transformed to a grid ------- #######\n",
    "ne = shapely.geometry.Point((Longitud_inicial,Latitud_inicial))\n",
    "sw = shapely.geometry.Point((Longitud_final,Latitud_final))\n",
    "\n",
    "#### ------- Project corners --------- #######\n",
    "transformed_ne = transform(A_metros, Point(ne.y, ne.x)).coords[0] #  same for SE\n",
    "transformed_sw = transform(A_metros, Point(sw.y, sw.x)).coords[0] # Transform NW point to 3857\n",
    "\n",
    "####### -------- Iterate over 2D area ------ ######\n",
    "Malla_puntos = []\n",
    "x = transformed_sw[0]\n",
    "while x < transformed_ne[0]:\n",
    "    y = transformed_sw[1]\n",
    "    while y < transformed_ne[1]:\n",
    "        trans_p = transform(A_grados, Point(x,y)).coords[0]\n",
    "        \n",
    "        p = shapely.geometry.Point(trans_p[1],trans_p[0])\n",
    "        Malla_puntos.append(p)\n",
    "        \n",
    "        y += Distancia_circulos\n",
    "    x += Distancia_circulos\n",
    "    "
   ]
  },
  {
   "cell_type": "code",
   "execution_count": 659,
   "metadata": {},
   "outputs": [],
   "source": [
    "Mapa = folium.Map(location=[4.675179, -74.043473],zoom_start=14,tiles='cartodbpositron')\n",
    "##### ------- Centros circulos ----- ####### \n",
    "for lugar in Malla_puntos:\n",
    "    folium.Marker([lugar.coords[0][1],lugar.coords[0][0]]).add_to(Mapa)\n",
    "    \n",
    "    Centro = lugar.coords[0]\n",
    "    #### ------ Hacer circulos ---- #### \n",
    "    b = Proyectar_circulo(lat = Centro[1], lon = Centro[0] , metros=140)\n",
    "    geo_str = json.loads(json.dumps(geojson.Feature(geometry=Polygon(b))) )\n",
    "\n",
    "\n",
    "    folium.GeoJson(geo_str,\n",
    "               style_function=lambda feature: {\n",
    "                 'fillColor': 'black',\n",
    "                 'color': 'black',\n",
    "                 'weight': 1,\n",
    "                 'dashArray': '5, 5',\n",
    "                 'fillOpacity':0.9,\n",
    "               },highlight_function=lambda x: {'weight':3,'fillColor':'#485a54','fillOpacity':0.5},name='Residential Properties').add_to(Mapa)\n",
    "\n",
    "#for point_grid in list(Points_evaluated['Coords']):\n",
    "#coords_point_griid = point_grid.coords[0]\n",
    "#folium.Marker([coords_point_griid[1],coords_point_griid[0]],icon=folium.Icon(icon='book')).add_to(Map)\n",
    "\n",
    "\n"
   ]
  },
  {
   "cell_type": "code",
   "execution_count": 660,
   "metadata": {},
   "outputs": [
    {
     "data": {
      "text/html": [
       "<div style=\"width:100%;\"><div style=\"position:relative;width:100%;height:0;padding-bottom:60%;\"><span style=\"color:#565656\">Make this Notebook Trusted to load map: File -> Trust Notebook</span><iframe src=\"about:blank\" style=\"position:absolute;width:100%;height:100%;left:0;top:0;border:none !important;\" data-html=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 onload=\"this.contentDocument.open();this.contentDocument.write(atob(this.getAttribute('data-html')));this.contentDocument.close();\" allowfullscreen webkitallowfullscreen mozallowfullscreen></iframe></div></div>"
      ],
      "text/plain": [
       "<folium.folium.Map at 0x18b6b4c10>"
      ]
     },
     "execution_count": 660,
     "metadata": {},
     "output_type": "execute_result"
    }
   ],
   "source": [
    "Mapa"
   ]
  },
  {
   "cell_type": "code",
   "execution_count": null,
   "metadata": {},
   "outputs": [],
   "source": [
    "MY_ID='DemoAppId01082013GAL'\n",
    "CODE='AJKnXv84fjrb0KIHawS0Tg'\n",
    "\n",
    "lat = Coords[1]\n",
    "long = Coords[0]\n",
    "distance_radio = 1000\n",
    "#Construccion de la url para la busqueda\n",
    "URL= \"https://places.cit.api.here.com/places/v1/browse?\"+\\\n",
    "f\"&in={lat},{long};r={distance_radio}\" +\\\n",
    "f\"&app_id={MY_ID}\"+\\\n",
    "f\"&app_code={CODE}\"\n",
    "\n",
    "r=requests.get(url = URL)\n",
    "data = r.json()\n",
    "Base=pd.DataFrame()\n",
    "Base_total=pd.DataFrame()\n",
    "\n",
    "\n",
    "\n",
    "\n",
    "\n",
    "\n",
    "    "
   ]
  }
 ],
 "metadata": {
  "kernelspec": {
   "display_name": "Python 3",
   "language": "python",
   "name": "python3"
  },
  "language_info": {
   "codemirror_mode": {
    "name": "ipython",
    "version": 3
   },
   "file_extension": ".py",
   "mimetype": "text/x-python",
   "name": "python",
   "nbconvert_exporter": "python",
   "pygments_lexer": "ipython3",
   "version": "3.7.5"
  }
 },
 "nbformat": 4,
 "nbformat_minor": 4
}
