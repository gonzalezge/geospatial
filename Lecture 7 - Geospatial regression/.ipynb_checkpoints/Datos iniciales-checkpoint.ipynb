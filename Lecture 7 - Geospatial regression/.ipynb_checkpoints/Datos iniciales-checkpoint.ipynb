{
 "cells": [
  {
   "cell_type": "code",
   "execution_count": 2,
   "metadata": {},
   "outputs": [],
   "source": [
    "#importacion de paquetes\n",
    "import pandas as pd\n",
    "import numpy as np\n",
    "from datetime import datetime\n",
    "import geopandas as gpd\n",
    "import mplleaflet \n",
    "import matplotlib.pyplot as plt\n",
    "from shapely.geometry import Point"
   ]
  },
  {
   "cell_type": "code",
   "execution_count": 3,
   "metadata": {},
   "outputs": [],
   "source": [
    "datos = pd.read_csv(\"./Datos/alertas.csv\", index_col = \"No. ALERTA\")\n",
    "datos = datos.loc[:,[\"FECHA\", \"HORA\", \"LATITUD\", \"LONGITUD\"]].reindex()"
   ]
  },
  {
   "cell_type": "code",
   "execution_count": 4,
   "metadata": {},
   "outputs": [],
   "source": [
    "datos[\"hora\"] = [int(k[:2]) for k in datos[\"HORA\"]]\n",
    "datos[\"minutos\"] = [int(k[3:5]) for k in datos[\"HORA\"]]\n",
    "datos[\"datetime\"] = [datetime.strptime(k, \"%m/%d/%y\") for k in datos[\"FECHA\"]]\n",
    "datos[\"dia_semana\"] = [k.weekday() for k in datos[\"datetime\"]]\n",
    "datos[\"hora_semana\"] = datos[\"hora\"] + datos[\"dia_semana\"]*24"
   ]
  },
  {
   "cell_type": "code",
   "execution_count": 5,
   "metadata": {},
   "outputs": [
    {
     "data": {
      "text/html": [
       "<div>\n",
       "<style scoped>\n",
       "    .dataframe tbody tr th:only-of-type {\n",
       "        vertical-align: middle;\n",
       "    }\n",
       "\n",
       "    .dataframe tbody tr th {\n",
       "        vertical-align: top;\n",
       "    }\n",
       "\n",
       "    .dataframe thead th {\n",
       "        text-align: right;\n",
       "    }\n",
       "</style>\n",
       "<table border=\"1\" class=\"dataframe\">\n",
       "  <thead>\n",
       "    <tr style=\"text-align: right;\">\n",
       "      <th></th>\n",
       "      <th>FECHA</th>\n",
       "      <th>HORA</th>\n",
       "      <th>LATITUD</th>\n",
       "      <th>LONGITUD</th>\n",
       "      <th>hora</th>\n",
       "      <th>minutos</th>\n",
       "      <th>datetime</th>\n",
       "      <th>dia_semana</th>\n",
       "      <th>hora_semana</th>\n",
       "    </tr>\n",
       "    <tr>\n",
       "      <th>No. ALERTA</th>\n",
       "      <th></th>\n",
       "      <th></th>\n",
       "      <th></th>\n",
       "      <th></th>\n",
       "      <th></th>\n",
       "      <th></th>\n",
       "      <th></th>\n",
       "      <th></th>\n",
       "      <th></th>\n",
       "    </tr>\n",
       "  </thead>\n",
       "  <tbody>\n",
       "    <tr>\n",
       "      <th>1231G2-441-2018</th>\n",
       "      <td>12/31/18</td>\n",
       "      <td>10:49R</td>\n",
       "      <td>7.548611</td>\n",
       "      <td>-83.833056</td>\n",
       "      <td>10</td>\n",
       "      <td>49</td>\n",
       "      <td>2018-12-31</td>\n",
       "      <td>0</td>\n",
       "      <td>10</td>\n",
       "    </tr>\n",
       "    <tr>\n",
       "      <th>1231G2-441-2018</th>\n",
       "      <td>12/31/18</td>\n",
       "      <td>12:30R</td>\n",
       "      <td>7.291944</td>\n",
       "      <td>-83.765000</td>\n",
       "      <td>12</td>\n",
       "      <td>30</td>\n",
       "      <td>2018-12-31</td>\n",
       "      <td>0</td>\n",
       "      <td>12</td>\n",
       "    </tr>\n",
       "    <tr>\n",
       "      <th>0101G2-001-2019</th>\n",
       "      <td>1/1/19</td>\n",
       "      <td>18:30R</td>\n",
       "      <td>3.947222</td>\n",
       "      <td>-91.008611</td>\n",
       "      <td>18</td>\n",
       "      <td>30</td>\n",
       "      <td>2019-01-01</td>\n",
       "      <td>1</td>\n",
       "      <td>42</td>\n",
       "    </tr>\n",
       "    <tr>\n",
       "      <th>1225G2-436-2018</th>\n",
       "      <td>1/2/19</td>\n",
       "      <td>10:10R</td>\n",
       "      <td>-0.778889</td>\n",
       "      <td>-82.390833</td>\n",
       "      <td>10</td>\n",
       "      <td>10</td>\n",
       "      <td>2019-01-02</td>\n",
       "      <td>2</td>\n",
       "      <td>58</td>\n",
       "    </tr>\n",
       "    <tr>\n",
       "      <th>1225G2-436-2018</th>\n",
       "      <td>1/2/19</td>\n",
       "      <td>14:50R</td>\n",
       "      <td>-1.541111</td>\n",
       "      <td>-84.713889</td>\n",
       "      <td>14</td>\n",
       "      <td>50</td>\n",
       "      <td>2019-01-02</td>\n",
       "      <td>2</td>\n",
       "      <td>62</td>\n",
       "    </tr>\n",
       "  </tbody>\n",
       "</table>\n",
       "</div>"
      ],
      "text/plain": [
       "                    FECHA    HORA   LATITUD   LONGITUD  hora  minutos  \\\n",
       "No. ALERTA                                                              \n",
       "1231G2-441-2018  12/31/18  10:49R  7.548611 -83.833056    10       49   \n",
       "1231G2-441-2018  12/31/18  12:30R  7.291944 -83.765000    12       30   \n",
       "0101G2-001-2019    1/1/19  18:30R  3.947222 -91.008611    18       30   \n",
       "1225G2-436-2018    1/2/19  10:10R -0.778889 -82.390833    10       10   \n",
       "1225G2-436-2018    1/2/19  14:50R -1.541111 -84.713889    14       50   \n",
       "\n",
       "                  datetime  dia_semana  hora_semana  \n",
       "No. ALERTA                                           \n",
       "1231G2-441-2018 2018-12-31           0           10  \n",
       "1231G2-441-2018 2018-12-31           0           12  \n",
       "0101G2-001-2019 2019-01-01           1           42  \n",
       "1225G2-436-2018 2019-01-02           2           58  \n",
       "1225G2-436-2018 2019-01-02           2           62  "
      ]
     },
     "execution_count": 5,
     "metadata": {},
     "output_type": "execute_result"
    }
   ],
   "source": [
    "datos.head()"
   ]
  },
  {
   "cell_type": "code",
   "execution_count": 12,
   "metadata": {},
   "outputs": [
    {
     "data": {
      "image/png": "[encoded data removed]",
      "text/plain": [
       "<Figure size 432x288 with 1 Axes>"
      ]
     },
     "metadata": {
      "needs_background": "light"
     },
     "output_type": "display_data"
    }
   ],
   "source": [
    "#mirar la distribucion de eventos por dia de la semana\n",
    "plt.hist(datos[\"dia_semana\"],7)\n",
    "plt.show()"
   ]
  },
  {
   "cell_type": "code",
   "execution_count": 14,
   "metadata": {},
   "outputs": [
    {
     "data": {
      "image/png": "[encoded data removed]",
      "text/plain": [
       "<Figure size 432x288 with 1 Axes>"
      ]
     },
     "metadata": {
      "needs_background": "light"
     },
     "output_type": "display_data"
    }
   ],
   "source": [
    "#mirar la distribucion de eventos por horas en una semana\n",
    "plt.hist(datos[\"hora_semana\"],24*7)\n",
    "plt.show()"
   ]
  },
  {
   "cell_type": "markdown",
   "metadata": {},
   "source": [
    "# Eventos en el mapa"
   ]
  },
  {
   "cell_type": "code",
   "execution_count": 15,
   "metadata": {},
   "outputs": [],
   "source": [
    "#build a geopandas.GeoDataFrame\n",
    "## build column of (lat, lon) tuples\n",
    "datos['coord_tuple'] = list(zip(datos.LONGITUD, datos.LATITUD))\n",
    "\n",
    "## convert (lat, lon) pairs into shapely.Points\n",
    "datos.loc[:, 'coord'] = datos.coord_tuple.apply(Point)\n",
    "\n",
    "gdf_loc = gpd.GeoDataFrame(datos, geometry='coord', crs={'init' :'epsg:4326'}) "
   ]
  },
  {
   "cell_type": "code",
   "execution_count": 16,
   "metadata": {},
   "outputs": [],
   "source": [
    "# plot all districts and munis \n",
    "_f, ax = plt.subplots(1, 1, figsize=(12, 12)) \n",
    "    \n",
    "# in case the visualization is too heavy use just a sample of the points\n",
    "path_interactive_viz = 'Trafico_test.html'\n",
    "# try:\n",
    "gdf_loc.plot(ax=ax, color='blue', markersize=6.0) #gdf_loc.sample(n=1000)\n",
    "\n",
    "    # gdf_loc.drop_duplicates(subset='original_query').plot(ax=ax, color='blue', markersize=6.0)\n",
    "mplleaflet.show(fig=ax.figure, crs=gdf_loc.crs, tiles='cartodb_positron',\n",
    "                path=path_interactive_viz)"
   ]
  },
  {
   "cell_type": "code",
   "execution_count": null,
   "metadata": {},
   "outputs": [],
   "source": []
  }
 ],
 "metadata": {
  "kernelspec": {
   "display_name": "Python 3",
   "language": "python",
   "name": "python3"
  },
  "language_info": {
   "codemirror_mode": {
    "name": "ipython",
    "version": 3
   },
   "file_extension": ".py",
   "mimetype": "text/x-python",
   "name": "python",
   "nbconvert_exporter": "python",
   "pygments_lexer": "ipython3",
   "version": "3.6.5"
  }
 },
 "nbformat": 4,
 "nbformat_minor": 2
}
