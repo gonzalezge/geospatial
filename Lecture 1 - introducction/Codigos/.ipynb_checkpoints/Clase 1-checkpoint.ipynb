{
 "cells": [
  {
   "cell_type": "markdown",
   "metadata": {},
   "source": [
    "# **Introducción al análisis de datos en Python**"
   ]
  },
  {
   "cell_type": "markdown",
   "metadata": {},
   "source": [
    "# Clase 1: Introducción Python\n",
    "El objetivo de este clase es darles herramientas para que se familiaricen con los básicos de Python. \n",
    "\n",
    "¿Qué es y Por qué Python? \n",
    "\n",
    "Python es un [lenguaje de programación](https://es.wikipedia.org/wiki/Lenguaje_de_programaci%C3%B3n)\n",
    "- Es el tercer lenguaje de programación más popular del mundo.\n",
    "- Es el primero cuando se trata de temas de análisis de datos.\n",
    "- Es un lenguaje de propósito general, es decir que se utiliza para muchas cosas como Machine Learning, Internet of things, creación de aplicaciones web, de escritorio y de móviles.\n",
    "- Open-source\n",
    "- Comunidad grande y colaborativa\n"
   ]
  },
  {
   "cell_type": "markdown",
   "metadata": {},
   "source": [
    "### Jupyter Notebook\n",
    "Los archivos de extensión *.ipynb* presentan una interfaz muy cómoda para el aprendizaje, y la colaboración. Contiene:\n",
    "- Celdas de código\n",
    "- Celdas de [markdown](https://github.com/adam-p/markdown-here/wiki/Markdown-Cheatsheet) (como esta)\n",
    "- Celdas de texto crudo\n",
    "- Kernel\n",
    "\n",
    "<div class=\"alert alert-info\">\n",
    "La documentación oficial de Jupyter está  \n",
    "<a href=\"https://jupyter-notebook.readthedocs.io/en/stable/\" class=\"alert-link\">aquí</a>\n",
    "y puede encontrar algunos Notebooks didácticos \n",
    "<a href=\"https://github.com/jupyter/notebook/tree/master/docs/source/examples/Notebook\" class=\"alert-link\">aquí</a>\n",
    "."
   ]
  },
  {
   "cell_type": "markdown",
   "metadata": {},
   "source": [
    "## Bienvenidos"
   ]
  },
  {
   "cell_type": "markdown",
   "metadata": {},
   "source": [
    "### Kernel\n",
    "El \"kernel\" es lo que permite que se corran cosas en python, Jupyter es una interfaz para que los bloques de código corran dentro de una consola de python, el kernel es el que conecta esta interfaz con la parte del computador que corre el código.\n",
    "\n",
    "El kernel también guarda **espacio de trabajo**, es decir todas las variables que se han declarado. \n",
    "\n",
    "Se puede reiniciar el kernel de manera rápida en la pestaña de \"kernel\" en el tope."
   ]
  },
  {
   "cell_type": "markdown",
   "metadata": {},
   "source": [
    "### Objetos básicos de Python\n",
    "1. Integers\n",
    "2. Float\n",
    "3. Lists\n",
    "4. Dictionaries"
   ]
  },
  {
   "cell_type": "markdown",
   "metadata": {},
   "source": [
    "### Definiendo Variables\n",
    "1. Defina la variable \"a\" como un entero cualquiera.\n",
    "2. Defina la variable \"b\" como un entero cualquiera.\n",
    "3. Defina la variable \"c\" como un entero cualquiera.\n",
    "4. Defina la variable \"mi_nombre\" como la cadena de caracteres que es su nombre"
   ]
  },
  {
   "cell_type": "code",
   "execution_count": 1,
   "metadata": {},
   "outputs": [],
   "source": [
    "a=7\n",
    "b=3\n",
    "c=8\n",
    "mi_nombre='Pepito'"
   ]
  },
  {
   "cell_type": "code",
   "execution_count": 2,
   "metadata": {},
   "outputs": [
    {
     "data": {
      "text/plain": [
       "'Pepito'"
      ]
     },
     "execution_count": 2,
     "metadata": {},
     "output_type": "execute_result"
    }
   ],
   "source": [
    "mi_nombre"
   ]
  },
  {
   "cell_type": "markdown",
   "metadata": {},
   "source": [
    "1. Imprima el valor de \"b\"\n",
    "2. Imprima la suma entre \"b\" y \"c\"\n",
    "3. Imprima el valor de \"mi_nombre\n",
    "4. Cree una nueva variable \"d\" que sea la suma de \"a\", \"b\" y \"c\"\n",
    "5. Imprima \"d\""
   ]
  },
  {
   "cell_type": "code",
   "execution_count": 3,
   "metadata": {},
   "outputs": [
    {
     "name": "stdout",
     "output_type": "stream",
     "text": [
      "3\n",
      "11\n",
      "Pepito\n",
      "18\n"
     ]
    }
   ],
   "source": [
    "print(b)\n",
    "print(b+c)\n",
    "print(mi_nombre)\n",
    "d=a+b+c\n",
    "print(d)"
   ]
  },
  {
   "cell_type": "markdown",
   "metadata": {},
   "source": [
    "Actualice el valor de \"a\", súmele 3 y posteriormente imprímalo"
   ]
  },
  {
   "cell_type": "code",
   "execution_count": 4,
   "metadata": {},
   "outputs": [
    {
     "name": "stdout",
     "output_type": "stream",
     "text": [
      "10\n"
     ]
    }
   ],
   "source": [
    "a=a+3 \n",
    "print(a)"
   ]
  },
  {
   "cell_type": "markdown",
   "metadata": {},
   "source": [
    "**Recuerde que en programación = significa asignar mientras que en matemáticas es igualdad.**"
   ]
  },
  {
   "cell_type": "markdown",
   "metadata": {},
   "source": [
    "Imprima los siguientes cálculos\n",
    "1. Divida \"a\" en \"b\"\n",
    "2. Divida usando \"//\" interactue \"a\" en \"b\" ¿qué hace \"//\"?\n",
    "3. Multiplique \"a\" y \"b\". \n",
    "4. Eleve \"c\" a la 3\n",
    "5. Calcule el residuo entre \"a\" y \"c\""
   ]
  },
  {
   "cell_type": "code",
   "execution_count": 6,
   "metadata": {},
   "outputs": [
    {
     "name": "stdout",
     "output_type": "stream",
     "text": [
      "3.3333333333333335\n",
      "3\n",
      "30\n",
      "512\n",
      "2\n"
     ]
    }
   ],
   "source": [
    "print(a/b)\n",
    "print(a//b)\n",
    "print(a*b)\n",
    "print(c**3)\n",
    "print(a%c)"
   ]
  },
  {
   "cell_type": "markdown",
   "metadata": {},
   "source": [
    "### Operadores de asignación\n",
    "1. ¿Qué hace +=?\n",
    "2. ¿Qué hace -=?\n",
    "3. ¿Qué hace *=?\n",
    "4. ¿Qué hace /=?"
   ]
  },
  {
   "cell_type": "code",
   "execution_count": 10,
   "metadata": {},
   "outputs": [],
   "source": [
    "r = 5\n"
   ]
  },
  {
   "cell_type": "code",
   "execution_count": 13,
   "metadata": {},
   "outputs": [
    {
     "data": {
      "text/plain": [
       "15"
      ]
     },
     "execution_count": 13,
     "metadata": {},
     "output_type": "execute_result"
    }
   ],
   "source": [
    "r += 10"
   ]
  },
  {
   "cell_type": "code",
   "execution_count": 14,
   "metadata": {},
   "outputs": [
    {
     "name": "stdout",
     "output_type": "stream",
     "text": [
      "5\n",
      "7\n",
      "5\n",
      "10\n",
      "2.0\n"
     ]
    }
   ],
   "source": [
    "x=5\n",
    "print(x)\n",
    "#  suma a la variable del lado izquierdo el valor del lado derecho. \n",
    "x+=2\n",
    "print(x)\n",
    "# Resta a la variable del lado izquierdo el valor del lado derecho.\n",
    "x-=2\n",
    "print(x)\n",
    "# Multiplica a la variable del lado izquierdo el valor del lado derecho.\n",
    "x*=2\n",
    "print(x)\n",
    "# Divide a la variable del lado izquierdo el valor del lado derecho.\n",
    "x/=5\n",
    "print(x)"
   ]
  },
  {
   "cell_type": "markdown",
   "metadata": {},
   "source": [
    "### Valores Booleanos (comparar valores)\n",
    "1. Pregunte si \"a\" es mayor que \"b\"\n",
    "2. Pregunte si \"a\" es mayor o igual que \"a\"\n",
    "3. Pregunte si \"a\" es igual a cualquier número\n",
    "4. Pregunte si \"mi_nombre\" es igual a \"German\""
   ]
  },
  {
   "cell_type": "code",
   "execution_count": 15,
   "metadata": {},
   "outputs": [
    {
     "name": "stdout",
     "output_type": "stream",
     "text": [
      "True\n",
      "True\n",
      "False\n",
      "True\n"
     ]
    }
   ],
   "source": [
    "print(a>b)\n",
    "print(a>=b)\n",
    "print(a==6)\n",
    "print(mi_nombre=='Pepito')"
   ]
  },
  {
   "cell_type": "markdown",
   "metadata": {},
   "source": [
    "1. Sume un True y un False\n",
    "2. Sume dos True\n",
    "3. Sume dos False"
   ]
  },
  {
   "cell_type": "code",
   "execution_count": 16,
   "metadata": {},
   "outputs": [
    {
     "name": "stdout",
     "output_type": "stream",
     "text": [
      "2\n",
      "1\n",
      "0\n"
     ]
    }
   ],
   "source": [
    "print(True+True)\n",
    "print(True+False)\n",
    "print(False+False)"
   ]
  },
  {
   "cell_type": "markdown",
   "metadata": {},
   "source": [
    "1. Pregunte si \"a\" es mayor a 5 y menor o igual a 10\n",
    "2. Pregunte si \"a\" es mayor a 5 o múltiplo de 3"
   ]
  },
  {
   "cell_type": "code",
   "execution_count": 17,
   "metadata": {},
   "outputs": [
    {
     "name": "stdout",
     "output_type": "stream",
     "text": [
      "True\n",
      "True\n"
     ]
    }
   ],
   "source": [
    "print(a>5 and a<=10)\n",
    "print(a>5 or a%3==0)"
   ]
  },
  {
   "cell_type": "markdown",
   "metadata": {},
   "source": [
    "### Strings\n",
    "1. ¿Qué métodos tiene un string? use \"mi_nombre\" y la tecla tab.\n",
    "2. Cree un string que sea \"nombre\" y \"apellido\". Súmelos\n",
    "3. Multiplique por 3 la variable \"nombre\" e imprimala\n",
    "4. Obtenga el número de caracteres en \"nombre\"\n",
    "5. Pregunte si una cadena de caracteres está dentro su variable \"nombre\"\n",
    "6. Extraiga el segundo y tercer caracter de \"apellido\""
   ]
  },
  {
   "cell_type": "code",
   "execution_count": 21,
   "metadata": {},
   "outputs": [
    {
     "name": "stdout",
     "output_type": "stream",
     "text": [
      "PepitoGonzalez\n",
      "PepitoPepitoPepito\n",
      "6\n",
      "True\n",
      "on\n"
     ]
    }
   ],
   "source": [
    "nombre='Pepito'\n",
    "apellido='Gonzalez'\n",
    "print(nombre+apellido)\n",
    "print(nombre*3)\n",
    "print(len(nombre))\n",
    "print('Pepito' in nombre)\n",
    "print(apellido[1:3])"
   ]
  },
  {
   "cell_type": "markdown",
   "metadata": {},
   "source": [
    "1. Cree la variable \"edad\" y guarde su edad en ella como un entero.\n",
    "2. Cree la variable \"carrera\" y guarde su carrera en ella como un string.\n",
    "3. Imprima su presentación combinando en el _print_ strings y variables (nombre, apellido, edad y carrera).\n",
    "4. Repita lo anterior usando la suma de strings.\n",
    "5. Repita lo anterior usando .format()\n",
    "6. Repita lo anterior usando .join()"
   ]
  },
  {
   "cell_type": "code",
   "execution_count": 23,
   "metadata": {},
   "outputs": [
    {
     "name": "stdout",
     "output_type": "stream",
     "text": [
      "Yo soy  Pepito Gonzalez , tengo 25 años y soy economista\n",
      "Yo soy Pepito Gonzalez, tengo 25 años y soy economista\n",
      "Yo soy Pepito Gonzalez, tengo 25 años y soy economista\n",
      "Yo soy Pepito Gonzalez , tengo 25 años y soy economista\n"
     ]
    }
   ],
   "source": [
    "edad=25\n",
    "carrera='economista'\n",
    "print('Yo soy ', nombre, apellido, ', tengo', edad, 'años y soy', carrera)\n",
    "print('Yo soy ' + nombre + ' ' + apellido + ', tengo ' + str(edad) + ' años y soy ' + carrera)\n",
    "print('Yo soy {} {}, tengo {} años y soy {}'.format(nombre, apellido, edad, carrera))\n",
    "print(' '.join(['Yo soy', nombre, apellido, ', tengo', str(edad), 'años y soy', carrera]))"
   ]
  },
  {
   "cell_type": "markdown",
   "metadata": {},
   "source": [
    "### Listas\n",
    "1. Construya una lista llamada lista_1 que contenga las variables \"a\", \"b\", el número 0,5 y mi_nombre.\n",
    "2. Extraiga e imprima el primer elemento de la lista (recuerde que en python se comienza desde la posición 0).\n",
    "3. Extraiga e imprima el último elemento de la lista (recuerde que para hacer esto no es necesario saber el tamaño de la lista).\n",
    "4. Extraiga e imprima los dos primeros elementos.\n"
   ]
  },
  {
   "cell_type": "code",
   "execution_count": 37,
   "metadata": {},
   "outputs": [
    {
     "name": "stdout",
     "output_type": "stream",
     "text": [
      "('a', 'b', 'c', 'd', 'e', 'f', 'g', 'h')\n",
      "Pepito\n",
      "[('a', 'b', 'c', 'd', 'e', 'f', 'g', 'h'), 3]\n"
     ]
    }
   ],
   "source": [
    "lista_1=[a,b,0.5, mi_nombre]\n",
    "print(lista_1[0])\n",
    "print(lista_1[-1])\n",
    "print(lista_1[0:2])\n"
   ]
  },
  {
   "cell_type": "markdown",
   "metadata": {},
   "source": [
    "## Funciones internas\n",
    "### Matemáticas\n",
    "1. Para qué sirve _abs()_\n",
    "2. Para qué sirve _max()_\n",
    "3. Para qué sirve _min()_\n",
    "4. Para qué sirve _sum()_\n"
   ]
  },
  {
   "cell_type": "code",
   "execution_count": 38,
   "metadata": {},
   "outputs": [
    {
     "name": "stdout",
     "output_type": "stream",
     "text": [
      "5\n",
      "9\n",
      "1\n",
      "6\n"
     ]
    }
   ],
   "source": [
    "Lista=[1,3,5,7,9]\n",
    "print(abs(-5))\n",
    "print(max(Lista))\n",
    "print(min(Lista))\n",
    "print(sum([1,2,3]))"
   ]
  },
  {
   "cell_type": "markdown",
   "metadata": {},
   "source": [
    "### Iterables\n",
    "1. Para qué sirve _all()_\n",
    "3. Para qué sirve _any()_\n",
    "3. Para qué sirve _len()_"
   ]
  },
  {
   "cell_type": "code",
   "execution_count": 40,
   "metadata": {},
   "outputs": [
    {
     "name": "stdout",
     "output_type": "stream",
     "text": [
      "False\n",
      "True\n",
      "3\n"
     ]
    }
   ],
   "source": [
    "# Evalua si todos los elementos de una lista son Verdaderos \n",
    "print(all([True, True, False]))\n",
    "# Evalua si alguno los elementos de una lista son Verdaderos \n",
    "print(any([True, True, False]))\n",
    "print(len([True, True, False]))"
   ]
  },
  {
   "cell_type": "markdown",
   "metadata": {},
   "source": [
    "### Conversión\n",
    "1. Para qué sirve _float()_\n",
    "2. Para qué sirve _integer()_\n",
    "3. Para qué sirve _str()_\n",
    "4. Para qué sirve _type()_"
   ]
  },
  {
   "cell_type": "code",
   "execution_count": 41,
   "metadata": {},
   "outputs": [
    {
     "name": "stdout",
     "output_type": "stream",
     "text": [
      "5.0\n",
      "5\n",
      "5\n",
      "<class 'int'>\n"
     ]
    }
   ],
   "source": [
    "print(float('5'))\n",
    "print(int(5.2))\n",
    "print(str(5))\n",
    "print(type(5))"
   ]
  },
  {
   "cell_type": "markdown",
   "metadata": {},
   "source": [
    "### Composición de tipos de datos\n",
    "1. Para qué sirve _list()_\n",
    "2. Para qué sirve _tuple()_\n",
    "3. Para qué sirve _set()_\n",
    "4. Para qué sirve _dict()_"
   ]
  },
  {
   "cell_type": "markdown",
   "metadata": {},
   "source": [
    "### Métodos de las listas\n",
    "Pruebe los siguientes métodos de listas y diga para qué sirven:\n",
    "1. .sort()\n",
    "2. .append()\n",
    "3. .remove()\n",
    "4. reverse()\n",
    "5. index()"
   ]
  },
  {
   "cell_type": "code",
   "execution_count": 42,
   "metadata": {},
   "outputs": [],
   "source": [
    "lista=[16,88,33,40] # Creamos una lista arbitraria"
   ]
  },
  {
   "cell_type": "code",
   "execution_count": 43,
   "metadata": {},
   "outputs": [
    {
     "data": {
      "text/plain": [
       "[16, 33, 40, 88]"
      ]
     },
     "execution_count": 43,
     "metadata": {},
     "output_type": "execute_result"
    }
   ],
   "source": [
    "lista.sort() # ordena de menor a mayor. Busque la documentación en línea para saber como hacerlo de mayor a menor\n",
    "lista"
   ]
  },
  {
   "cell_type": "code",
   "execution_count": 44,
   "metadata": {},
   "outputs": [
    {
     "data": {
      "text/plain": [
       "[16, 33, 40, 88, 2]"
      ]
     },
     "execution_count": 44,
     "metadata": {},
     "output_type": "execute_result"
    }
   ],
   "source": [
    "lista.append(2) # agrega elementos\n",
    "lista"
   ]
  },
  {
   "cell_type": "code",
   "execution_count": 45,
   "metadata": {},
   "outputs": [
    {
     "data": {
      "text/plain": [
       "[16, 33, 88, 2]"
      ]
     },
     "execution_count": 45,
     "metadata": {},
     "output_type": "execute_result"
    }
   ],
   "source": [
    "lista.remove(40) # quita los elementos\n",
    "lista"
   ]
  },
  {
   "cell_type": "code",
   "execution_count": 46,
   "metadata": {},
   "outputs": [
    {
     "data": {
      "text/plain": [
       "[2, 88, 33, 16]"
      ]
     },
     "execution_count": 46,
     "metadata": {},
     "output_type": "execute_result"
    }
   ],
   "source": [
    "lista.reverse()  # invierte el orden de la lista\n",
    "lista"
   ]
  },
  {
   "cell_type": "code",
   "execution_count": 47,
   "metadata": {},
   "outputs": [
    {
     "data": {
      "text/plain": [
       "2"
      ]
     },
     "execution_count": 47,
     "metadata": {},
     "output_type": "execute_result"
    }
   ],
   "source": [
    "lista.index(33) # dice la posición en la lista donde se encuentra el elemento pasado a la lista"
   ]
  },
  {
   "cell_type": "markdown",
   "metadata": {},
   "source": [
    "6. Usando _.index()_ ¿cómo podría encontrar la posición donde esté el máximo de una lista?"
   ]
  },
  {
   "cell_type": "code",
   "execution_count": 48,
   "metadata": {},
   "outputs": [
    {
     "data": {
      "text/plain": [
       "1"
      ]
     },
     "execution_count": 48,
     "metadata": {},
     "output_type": "execute_result"
    }
   ],
   "source": [
    "lista.index(max(lista)) # Con max puedo ver el valor máximo de la lista, con index veo en que posición está"
   ]
  },
  {
   "cell_type": "markdown",
   "metadata": {},
   "source": [
    "### Miscelania\n",
    "1. Para qué sirve _help()_"
   ]
  },
  {
   "cell_type": "code",
   "execution_count": 15,
   "metadata": {},
   "outputs": [
    {
     "name": "stdout",
     "output_type": "stream",
     "text": [
      "Help on built-in function sum in module builtins:\n",
      "\n",
      "sum(iterable, start=0, /)\n",
      "    Return the sum of a 'start' value (default: 0) plus an iterable of numbers\n",
      "    \n",
      "    When the iterable is empty, return the start value.\n",
      "    This function is intended specifically for use with numeric values and may\n",
      "    reject non-numeric types.\n",
      "\n"
     ]
    }
   ],
   "source": [
    "help(sum)"
   ]
  },
  {
   "cell_type": "markdown",
   "metadata": {},
   "source": [
    "### Paquetes\n",
    "1. Instale el paquete numpy desde Jupyter. "
   ]
  },
  {
   "cell_type": "code",
   "execution_count": 16,
   "metadata": {},
   "outputs": [
    {
     "name": "stdout",
     "output_type": "stream",
     "text": [
      "Requirement already satisfied: numpy in c:\\users\\jsmor\\appdata\\roaming\\python\\python36\\site-packages (1.15.4)\n"
     ]
    }
   ],
   "source": [
    "!pip install numpy"
   ]
  },
  {
   "cell_type": "markdown",
   "metadata": {},
   "source": [
    "2. Importe numpy como np\n"
   ]
  },
  {
   "cell_type": "code",
   "execution_count": 50,
   "metadata": {},
   "outputs": [],
   "source": [
    "# pip install numpy\n",
    "import numpy as np"
   ]
  },
  {
   "cell_type": "markdown",
   "metadata": {},
   "source": [
    "3. Cree e imprima la variable \"muestra\" que corresponde un entero aleatorio entre 0 y 1000 creado con [np.random.ranint] (https://docs.scipy.org/doc/numpy-1.15.1/reference/generated/numpy.random.randint.html)\n",
    "4. Cree una lista llamada \"muestras\" que tenga 15 enteros aleatorios entre 0 y 1000 **en una sola línea de código**.\n",
    "5. Imprima el máximo de \"muestras\".\n",
    "6. Imprima el mínimo de \"muestras\"."
   ]
  },
  {
   "cell_type": "code",
   "execution_count": 51,
   "metadata": {},
   "outputs": [
    {
     "name": "stdout",
     "output_type": "stream",
     "text": [
      "196\n",
      "904\n",
      "17\n"
     ]
    }
   ],
   "source": [
    "muestra=np.random.randint(0,1000) # Creo un entero aleatorio entre 0 y 1000\n",
    "print(muestra)\n",
    "muestras=[np.random.randint(0,1000) for i in range(15)] # Creo una lista de enteros aleatorios entre 0 y 1000 de tamaño 15\n",
    "print(max(muestras)) # imprimo el máximo\n",
    "print(min(muestras)) # imprimo el mínimo"
   ]
  },
  {
   "cell_type": "markdown",
   "metadata": {},
   "source": [
    "### Loops & Condicionales\n",
    "Construya un loop que imprima los números pares hasta el 20"
   ]
  },
  {
   "cell_type": "code",
   "execution_count": 19,
   "metadata": {},
   "outputs": [
    {
     "name": "stdout",
     "output_type": "stream",
     "text": [
      "2\n",
      "4\n",
      "6\n",
      "8\n",
      "10\n",
      "12\n",
      "14\n",
      "16\n",
      "18\n"
     ]
    }
   ],
   "source": [
    "for number in range(2, 20, 2): \n",
    "    print(number)"
   ]
  },
  {
   "cell_type": "markdown",
   "metadata": {},
   "source": [
    "Genere un número aleatorio uniforme entre 1 y 10. Revise si es mayor a 5, en caso de serlo retrone True. False en caso contrario. "
   ]
  },
  {
   "cell_type": "code",
   "execution_count": 52,
   "metadata": {},
   "outputs": [
    {
     "name": "stdout",
     "output_type": "stream",
     "text": [
      "True\n"
     ]
    }
   ],
   "source": [
    "num = np.random.uniform(1, 10)\n",
    "if num > 5:\n",
    "    print(True)\n",
    "else:\n",
    "    print(False)"
   ]
  },
  {
   "cell_type": "markdown",
   "metadata": {},
   "source": [
    "Construya un loop que genere e imprima en cada ciclo un entero aleatorio entre 0 y 100, cuando el número sea superior a 75 se debe detener el loop. "
   ]
  },
  {
   "cell_type": "code",
   "execution_count": 20,
   "metadata": {},
   "outputs": [
    {
     "name": "stdout",
     "output_type": "stream",
     "text": [
      "46\n",
      "23\n",
      "88\n"
     ]
    }
   ],
   "source": [
    "num=0 # Creo un número arbitrario llamado num\n",
    "while num<=75:\n",
    "    num=np.random.randint(0,100) # Reemplazo el valor de num por un entero aleatorio\n",
    "    print(num) # Imprimo num"
   ]
  },
  {
   "cell_type": "markdown",
   "metadata": {},
   "source": [
    "1. Construya una lista llamada \"conteo\" que tenga los primeros mil numeros naturales **en una sola línea de código**. \n"
   ]
  },
  {
   "cell_type": "code",
   "execution_count": 54,
   "metadata": {},
   "outputs": [
    {
     "name": "stdout",
     "output_type": "stream",
     "text": [
      "1000\n"
     ]
    }
   ],
   "source": [
    "conteo=[i for i in range(0,1000)]\n",
    "print(len(conteo)) # len es la función que da el tamano de la lista"
   ]
  },
  {
   "cell_type": "markdown",
   "metadata": {},
   "source": [
    "### Funciones\n",
    "1. Construya una función que reciba un número y retorne la palabra \"par\" o \"impar\" dependiendo del insumo. Llame a la función _parImpar_. Pruébela sobre los números 2,3,7,12. Pista: busque que hace __%__. "
   ]
  },
  {
   "cell_type": "code",
   "execution_count": 55,
   "metadata": {},
   "outputs": [],
   "source": [
    "def parImpar(number):\n",
    "    if (number % 2 == 0): # Si el residuo de un número dividido 2 es cero, significa que es múltiplo de 2\n",
    "        return(\"par\")\n",
    "    else: \n",
    "        return(\"impar\")"
   ]
  },
  {
   "cell_type": "code",
   "execution_count": 56,
   "metadata": {},
   "outputs": [],
   "source": [
    "def Construir_nombre(Nombre,Apellido):\n",
    "    Resultado = Nombre + ' ' + Apellido\n",
    "    return(Resultado)"
   ]
  },
  {
   "cell_type": "code",
   "execution_count": 57,
   "metadata": {},
   "outputs": [
    {
     "data": {
      "text/plain": [
       "'Pepito perez'"
      ]
     },
     "execution_count": 57,
     "metadata": {},
     "output_type": "execute_result"
    }
   ],
   "source": [
    "Construir_nombre(Nombre='Pepito',Apellido='perez')"
   ]
  },
  {
   "cell_type": "code",
   "execution_count": 58,
   "metadata": {},
   "outputs": [
    {
     "name": "stdout",
     "output_type": "stream",
     "text": [
      "par\n",
      "impar\n",
      "impar\n",
      "par\n"
     ]
    }
   ],
   "source": [
    "print(parImpar(2))\n",
    "print(parImpar(3))\n",
    "print(parImpar(7))\n",
    "print(parImpar(12))"
   ]
  },
  {
   "cell_type": "markdown",
   "metadata": {},
   "source": [
    "# Map"
   ]
  },
  {
   "cell_type": "code",
   "execution_count": null,
   "metadata": {},
   "outputs": [],
   "source": []
  },
  {
   "cell_type": "markdown",
   "metadata": {},
   "source": [
    "### Magic Functions\n",
    "Estas funciones solo funcionan dentro de jupyter, no son de python, son de la interfaz"
   ]
  },
  {
   "cell_type": "markdown",
   "metadata": {},
   "source": [
    "- %whos: Permite ver que hay en el ambiente de trabajo\n",
    "- %time: Permite cuantificar el tiempo que dura en correr el código de una celda\n",
    "- %cd: Cambia el directorio\n",
    "- %dirs: Retorna el directorio actual\n",
    "- %lsmagic: Ver la lista de funciones mágicas\n",
    "- %timeit: Corre varias veces la celda para determinar un tiempo promedio e intervalo de confianza"
   ]
  },
  {
   "cell_type": "code",
   "execution_count": 59,
   "metadata": {},
   "outputs": [
    {
     "name": "stdout",
     "output_type": "stream",
     "text": [
      "Variable           Type        Data/Info\n",
      "----------------------------------------\n",
      "Construir_nombre   function    <function Construir_nombre at 0x11af2dcb0>\n",
      "Lista              list        n=5\n",
      "a                  tuple       n=8\n",
      "apellido           str         Gonzalez\n",
      "b                  int         3\n",
      "c                  int         8\n",
      "carrera            str         economista\n",
      "conteo             list        n=1000\n",
      "d                  int         18\n",
      "edad               int         25\n",
      "lista              list        n=4\n",
      "lista_1            list        n=4\n",
      "mi_nombre          str         Pepito\n",
      "muestra            int         196\n",
      "muestras           list        n=15\n",
      "nombre             str         Pepito\n",
      "np                 module      <module 'numpy' from '/Us<...>kages/numpy/__init__.py'>\n",
      "num                float       6.375500996369952\n",
      "parImpar           function    <function parImpar at 0x10c4893b0>\n",
      "r                  int         15\n",
      "x                  slice       slice(None, 1, None)\n"
     ]
    }
   ],
   "source": [
    "%whos"
   ]
  },
  {
   "cell_type": "code",
   "execution_count": 40,
   "metadata": {},
   "outputs": [
    {
     "name": "stdout",
     "output_type": "stream",
     "text": [
      "Wall time: 0 ns\n"
     ]
    },
    {
     "data": {
      "text/plain": [
       "[1, 2, 5, 10, 25, 50]"
      ]
     },
     "execution_count": 40,
     "metadata": {},
     "output_type": "execute_result"
    }
   ],
   "source": [
    "%%time\n",
    "# Permite cuantificar el tiempo que dura en correr el código de una celda\n",
    "ListDivisores(50)"
   ]
  },
  {
   "cell_type": "code",
   "execution_count": 41,
   "metadata": {},
   "outputs": [
    {
     "name": "stdout",
     "output_type": "stream",
     "text": [
      "6.32 µs ± 301 ns per loop (mean ± std. dev. of 7 runs, 100000 loops each)\n"
     ]
    }
   ],
   "source": [
    "%%timeit\n",
    "# Permite cuantificar el tiempo que dura en correr el código de una celda\n",
    "ListDivisores(50)"
   ]
  },
  {
   "cell_type": "code",
   "execution_count": null,
   "metadata": {},
   "outputs": [],
   "source": []
  }
 ],
 "metadata": {
  "kernelspec": {
   "display_name": "Python 3",
   "language": "python",
   "name": "python3"
  },
  "language_info": {
   "codemirror_mode": {
    "name": "ipython",
    "version": 3
   },
   "file_extension": ".py",
   "mimetype": "text/x-python",
   "name": "python",
   "nbconvert_exporter": "python",
   "pygments_lexer": "ipython3",
   "version": "3.7.5"
  }
 },
 "nbformat": 4,
 "nbformat_minor": 4
}
