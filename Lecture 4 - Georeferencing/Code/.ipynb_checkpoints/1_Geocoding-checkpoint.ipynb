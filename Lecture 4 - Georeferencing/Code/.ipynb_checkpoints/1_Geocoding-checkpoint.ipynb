{
 "cells": [
  {
   "cell_type": "markdown",
   "metadata": {},
   "source": [
    "<img src=\"https://raw.githubusercontent.com/paular143/images_notebooks/master/logo-sin-nombre.png\" alt=\"Universidad de Los Andes\" style=\"width: 90px;\" align=\"left\" frameborder=\"300\"/>\n",
    "\n",
    "**UNIVERSIDAD DE LOS ANDES** <br>\n",
    "**FACULTAD DE ECONOMÍA - EDUCACIÓN CONTINUADA** <br>\n",
    "**Análisis espacial de datos y sus aplicaciones en Python 2020** <br>\n",
    "**PROFESORES:** Germán González y Mateo Dulce <br><br>\n",
    "\n",
    "\n",
    "# Clase 5: Golocalización\n",
    "\n",
    "- Geoencoding\n",
    "\n"
   ]
  },
  {
   "cell_type": "code",
   "execution_count": 12,
   "metadata": {},
   "outputs": [],
   "source": [
    "# !pip3 install shapely\n",
    "# !pip3 install pyproj\n",
    "# !pip3 install folium\n",
    "# !pip3 install pandas\n",
    "# !pip3 install requests\n",
    "# !pip3 install geopy\n",
    "# !pip3 install geojson\n",
    "# !pip3 install xlrd\n",
    "import pyproj\n",
    "from functools import partial\n",
    "import shapely.geometry\n",
    "from shapely.ops import transform\n",
    "from shapely.geometry.polygon import Polygon\n",
    "from shapely.geometry import Point\n",
    "import folium\n",
    "import geojson\n",
    "import json\n",
    "import pandas as pd\n",
    "import re\n",
    "import geopy\n",
    "import requests\n",
    "from geopy.distance import geodesic\n",
    "from geopy.geocoders import Nominatim"
   ]
  },
  {
   "cell_type": "markdown",
   "metadata": {},
   "source": [
    "# Cargamos un excel que contiene las direcciones y los nombres de hospedajes en Bogotá"
   ]
  },
  {
   "cell_type": "code",
   "execution_count": 15,
   "metadata": {},
   "outputs": [],
   "source": [
    "Alojamientos_hospedaje = pd.read_excel('Datos/Direcciones.xlsx')"
   ]
  },
  {
   "cell_type": "code",
   "execution_count": 25,
   "metadata": {},
   "outputs": [],
   "source": [
    "string_sucio = 'Cll #57 #18 #26'"
   ]
  },
  {
   "cell_type": "code",
   "execution_count": 27,
   "metadata": {},
   "outputs": [],
   "source": [
    "string_limpio = re.sub(pattern='\\#',repl='',string=string_sucio)"
   ]
  },
  {
   "cell_type": "markdown",
   "metadata": {},
   "source": [
    "## Preprocesamiento"
   ]
  },
  {
   "cell_type": "code",
   "execution_count": 58,
   "metadata": {},
   "outputs": [
    {
     "data": {
      "text/plain": [
       "'Calle 150 # 16 56'"
      ]
     },
     "execution_count": 58,
     "metadata": {},
     "output_type": "execute_result"
    }
   ],
   "source": [
    "String = \"\"\"Visita nuestra página web: https://lnkd.in/dtfwaDU\n",
    "\n",
    "📣Contacto📣\n",
    "Calle 150 No. 16 – 56\n",
    "Of. 4002 CC Cedritos Bogotá, Colombia.\n",
    "☎ (+57 1) 926 1654\"\"\"\n",
    "\n",
    "String_limpio = re.findall(string= String,pattern= 'Ca.+[0-9]{2}')\n",
    "\n",
    "\n",
    "String_limpio = String_limpio[0]\n",
    "String_limpio = re.sub(pattern='\\–',repl='',string=String_limpio)\n",
    "String_limpio = re.sub(pattern='  ',repl=' ',string=String_limpio)\n",
    "String_limpio = re.sub(pattern='No.',repl='#',string=String_limpio)\n",
    "String_limpio"
   ]
  },
  {
   "cell_type": "markdown",
   "metadata": {},
   "source": [
    "## Definimos latitud y longitud"
   ]
  },
  {
   "cell_type": "code",
   "execution_count": 59,
   "metadata": {},
   "outputs": [],
   "source": [
    "Alojamientos_hospedaje['Latitud'] = None\n",
    "Alojamientos_hospedaje['Longitud'] = None"
   ]
  },
  {
   "cell_type": "code",
   "execution_count": 60,
   "metadata": {},
   "outputs": [
    {
     "data": {
      "text/html": [
       "<div>\n",
       "<style scoped>\n",
       "    .dataframe tbody tr th:only-of-type {\n",
       "        vertical-align: middle;\n",
       "    }\n",
       "\n",
       "    .dataframe tbody tr th {\n",
       "        vertical-align: top;\n",
       "    }\n",
       "\n",
       "    .dataframe thead th {\n",
       "        text-align: right;\n",
       "    }\n",
       "</style>\n",
       "<table border=\"1\" class=\"dataframe\">\n",
       "  <thead>\n",
       "    <tr style=\"text-align: right;\">\n",
       "      <th></th>\n",
       "      <th>Direccion</th>\n",
       "      <th>Hospedaje</th>\n",
       "      <th>Latitud</th>\n",
       "      <th>Longitud</th>\n",
       "    </tr>\n",
       "  </thead>\n",
       "  <tbody>\n",
       "    <tr>\n",
       "      <th>0</th>\n",
       "      <td>Carrera 64 103C 16</td>\n",
       "      <td>103 WONDERFULL HOUSE</td>\n",
       "      <td>None</td>\n",
       "      <td>None</td>\n",
       "    </tr>\n",
       "    <tr>\n",
       "      <th>1</th>\n",
       "      <td>Calle 51A 74 20</td>\n",
       "      <td>A BOGOTA ON HOLIDAYS</td>\n",
       "      <td>None</td>\n",
       "      <td>None</td>\n",
       "    </tr>\n",
       "    <tr>\n",
       "      <th>2</th>\n",
       "      <td>Carrera 48 93 64</td>\n",
       "      <td>ALPES BOGOTA HOSTAL</td>\n",
       "      <td>None</td>\n",
       "      <td>None</td>\n",
       "    </tr>\n",
       "    <tr>\n",
       "      <th>3</th>\n",
       "      <td>Calle 10 2 40</td>\n",
       "      <td>APARTAESTUDIOS LA CANDELARIA</td>\n",
       "      <td>None</td>\n",
       "      <td>None</td>\n",
       "    </tr>\n",
       "    <tr>\n",
       "      <th>4</th>\n",
       "      <td>Calle 57 18 26</td>\n",
       "      <td>CASA COLONIAL INN</td>\n",
       "      <td>None</td>\n",
       "      <td>None</td>\n",
       "    </tr>\n",
       "    <tr>\n",
       "      <th>...</th>\n",
       "      <td>...</td>\n",
       "      <td>...</td>\n",
       "      <td>...</td>\n",
       "      <td>...</td>\n",
       "    </tr>\n",
       "    <tr>\n",
       "      <th>408</th>\n",
       "      <td>Carrera 63 98 66</td>\n",
       "      <td>WONDERFULL HOUSE 100</td>\n",
       "      <td>None</td>\n",
       "      <td>None</td>\n",
       "    </tr>\n",
       "    <tr>\n",
       "      <th>409</th>\n",
       "      <td>Calle 11 0 38</td>\n",
       "      <td>DESTINO NOMADA HOSTEL</td>\n",
       "      <td>None</td>\n",
       "      <td>None</td>\n",
       "    </tr>\n",
       "    <tr>\n",
       "      <th>410</th>\n",
       "      <td>Calle 12F 2 38</td>\n",
       "      <td>HOSTAL LA CANDELARIA BOGOTA</td>\n",
       "      <td>None</td>\n",
       "      <td>None</td>\n",
       "    </tr>\n",
       "    <tr>\n",
       "      <th>411</th>\n",
       "      <td>Calle 12F 2 55</td>\n",
       "      <td>HOSTAL SUE E.U.</td>\n",
       "      <td>None</td>\n",
       "      <td>None</td>\n",
       "    </tr>\n",
       "    <tr>\n",
       "      <th>412</th>\n",
       "      <td>Carrera 4 9 80</td>\n",
       "      <td>ZOHAR HOSTEL</td>\n",
       "      <td>None</td>\n",
       "      <td>None</td>\n",
       "    </tr>\n",
       "  </tbody>\n",
       "</table>\n",
       "<p>413 rows × 4 columns</p>\n",
       "</div>"
      ],
      "text/plain": [
       "              Direccion                     Hospedaje Latitud Longitud\n",
       "0    Carrera 64 103C 16          103 WONDERFULL HOUSE    None     None\n",
       "1       Calle 51A 74 20          A BOGOTA ON HOLIDAYS    None     None\n",
       "2      Carrera 48 93 64           ALPES BOGOTA HOSTAL    None     None\n",
       "3         Calle 10 2 40  APARTAESTUDIOS LA CANDELARIA    None     None\n",
       "4        Calle 57 18 26             CASA COLONIAL INN    None     None\n",
       "..                  ...                           ...     ...      ...\n",
       "408    Carrera 63 98 66          WONDERFULL HOUSE 100    None     None\n",
       "409       Calle 11 0 38         DESTINO NOMADA HOSTEL    None     None\n",
       "410      Calle 12F 2 38   HOSTAL LA CANDELARIA BOGOTA    None     None\n",
       "411      Calle 12F 2 55               HOSTAL SUE E.U.    None     None\n",
       "412      Carrera 4 9 80                  ZOHAR HOSTEL    None     None\n",
       "\n",
       "[413 rows x 4 columns]"
      ]
     },
     "execution_count": 60,
     "metadata": {},
     "output_type": "execute_result"
    }
   ],
   "source": [
    "Alojamientos_hospedaje"
   ]
  },
  {
   "cell_type": "markdown",
   "metadata": {},
   "source": [
    "# Forma Manual "
   ]
  },
  {
   "cell_type": "markdown",
   "metadata": {},
   "source": [
    "## Para una dirección"
   ]
  },
  {
   "cell_type": "markdown",
   "metadata": {},
   "source": [
    "Para crear las credenciales de HERE se deben registrar en https://developer.here.com/login\n",
    "\n",
    "Más información de conexiones: https://developer.here.com/blog/understanding-geocoding-with-python "
   ]
  },
  {
   "cell_type": "code",
   "execution_count": 61,
   "metadata": {},
   "outputs": [],
   "source": [
    "api_here = '5ELMuTthvjz1Blo6MzU2yhUqD7Jig9tBX4bDrz247-Y'"
   ]
  },
  {
   "cell_type": "code",
   "execution_count": 54,
   "metadata": {},
   "outputs": [],
   "source": [
    "Direccion = Alojamientos_hospedaje['Direccion'].iloc[0]\n",
    "busqueda = Direccion + ', Bogotá, Colombia'\n",
    "PARAMS = {'apikey':api_here,'q':busqueda} "
   ]
  },
  {
   "cell_type": "code",
   "execution_count": 68,
   "metadata": {},
   "outputs": [],
   "source": [
    "params = PARAMS"
   ]
  },
  {
   "cell_type": "code",
   "execution_count": 86,
   "metadata": {},
   "outputs": [],
   "source": [
    "Direccion = Alojamientos_hospedaje['Direccion'].iloc[0]\n",
    "busqueda = Direccion + ', Bogotá, Colombia'\n",
    "PARAMS = {'apikey':api_here,'q':busqueda} \n",
    "\n",
    "# Construir solicitud\n",
    "URL = \"https://geocode.search.hereapi.com/v1/geocode\"\n",
    "r = requests.get(url = URL, params = PARAMS) \n",
    "data = r.json()\n",
    "\n",
    "latitude = data['items'][0]['position']['lat']\n",
    "longitude = data['items'][0]['position']['lng']"
   ]
  },
  {
   "cell_type": "code",
   "execution_count": 89,
   "metadata": {},
   "outputs": [
    {
     "data": {
      "text/plain": [
       "-74.0672"
      ]
     },
     "execution_count": 89,
     "metadata": {},
     "output_type": "execute_result"
    }
   ],
   "source": [
    "longitude"
   ]
  },
  {
   "cell_type": "code",
   "execution_count": 97,
   "metadata": {},
   "outputs": [
    {
     "name": "stdout",
     "output_type": "stream",
     "text": [
      "Geocoding de la dirección: Carrera 64 103C 16, Bogotá, Colombia\n",
      "Geocoding de la dirección: Calle 51A 74 20, Bogotá, Colombia\n",
      "Geocoding de la dirección: Carrera 48 93 64, Bogotá, Colombia\n",
      "Geocoding de la dirección: Calle 10 2 40, Bogotá, Colombia\n",
      "Geocoding de la dirección: Calle 57 18 26, Bogotá, Colombia\n",
      "Geocoding de la dirección: Carrera 18 124 50, Bogotá, Colombia\n",
      "Geocoding de la dirección: Carrera 12 119 26, Bogotá, Colombia\n",
      "Geocoding de la dirección: Calle 93 18 11, Bogotá, Colombia\n",
      "Geocoding de la dirección: Calle 74 10 33, Bogotá, Colombia\n",
      "Geocoding de la dirección: Carrera 10 27 51, Bogotá, Colombia\n"
     ]
    }
   ],
   "source": [
    "for j in range(0,10):    \n",
    "\n",
    "    try: \n",
    "        Direccion = Alojamientos_hospedaje['Direccion'].iloc[j]\n",
    "        busqueda = Direccion + ', Bogotá, Colombia'\n",
    "        PARAMS = {'apikey':api_here,'q':busqueda} \n",
    "        print('Geocoding de la dirección: '+ busqueda)\n",
    "        ####### --- Enviar la solicitud -- #### \n",
    "        URL = \"https://geocode.search.hereapi.com/v1/geocode\"\n",
    "        r = requests.get(url = URL, params = PARAMS) \n",
    "        data = r.json()\n",
    "\n",
    "        latitud = data['items'][0]['position']['lat']\n",
    "        longitud = data['items'][0]['position']['lng']\n",
    "    except: \n",
    "        latitud = None\n",
    "        longitud = None\n",
    "    \n",
    "    ###### ----- Vamos a sobre escribir ----- #### \n",
    "    Alojamientos_hospedaje['Latitud'].iloc[j] = latitud\n",
    "    Alojamientos_hospedaje['Longitud'].iloc[j] = longitud"
   ]
  },
  {
   "cell_type": "markdown",
   "metadata": {},
   "source": [
    "# Forma automática: Geopy"
   ]
  },
  {
   "cell_type": "markdown",
   "metadata": {},
   "source": [
    "## Para una dirección"
   ]
  },
  {
   "cell_type": "code",
   "execution_count": 11,
   "metadata": {},
   "outputs": [],
   "source": [
    "Direccion = 'Carrera 64 103C 16'\n",
    "busqueda = Direccion + ', Bogotá, Colombia'\n",
    "\n"
   ]
  },
  {
   "cell_type": "code",
   "execution_count": 104,
   "metadata": {},
   "outputs": [],
   "source": [
    "### --- Se define el motor de geocoder que se va utilizar: En este caso se utilizara HERE ----- #### \n",
    "motor_busqueda = geopy.geocoders.Here(app_id=None, app_code=None, apikey=api_here)\n",
    "Resultado_busqueda = motor_busqueda.geocode(busqueda,timeout = 10000)"
   ]
  },
  {
   "cell_type": "markdown",
   "metadata": {},
   "source": [
    "Resultado"
   ]
  },
  {
   "cell_type": "markdown",
   "metadata": {},
   "source": [
    "## Busquéda inversa: Dirección a partir de una latitud, longitud"
   ]
  },
  {
   "cell_type": "code",
   "execution_count": 112,
   "metadata": {},
   "outputs": [],
   "source": [
    "cordenadas_buscar = str(Resultado_busqueda.latitude)+','+str(Resultado_busqueda.longitude)"
   ]
  },
  {
   "cell_type": "markdown",
   "metadata": {},
   "source": [
    "# Para las 10 primeras"
   ]
  },
  {
   "cell_type": "code",
   "execution_count": 118,
   "metadata": {},
   "outputs": [
    {
     "name": "stdout",
     "output_type": "stream",
     "text": [
      "Carrera 64 103C 16, Bogotá, Colombia\n",
      "Calle 51A 74 20, Bogotá, Colombia\n",
      "Carrera 48 93 64, Bogotá, Colombia\n",
      "Calle 10 2 40, Bogotá, Colombia\n",
      "Calle 57 18 26, Bogotá, Colombia\n",
      "Carrera 18 124 50, Bogotá, Colombia\n",
      "Carrera 12 119 26, Bogotá, Colombia\n",
      "Calle 93 18 11, Bogotá, Colombia\n",
      "Calle 74 10 33, Bogotá, Colombia\n",
      "Carrera 10 27 51, Bogotá, Colombia\n"
     ]
    }
   ],
   "source": [
    "#### ---- El motor de busqueda solo se tiene que definir una vez --- ### \n",
    "motor_busqueda = geopy.geocoders.Here(app_id=None, app_code=None, apikey=api_here)\n",
    "\n",
    "for j in range(0,10):    \n",
    "    Direccion = Alojamientos_hospedaje['Direccion'].iloc[j]\n",
    "    busqueda = Direccion + ', Bogotá, Colombia'\n",
    "    print(busqueda)\n",
    "    #### ---- Se realiza la busqueda --- ### \n",
    "    Resultado_busqueda = motor_busqueda.geocode(busqueda,timeout = 10000)\n",
    "\n",
    "    ###### ----- Vamos a sobre escribir ----- #### \n",
    "    Alojamientos_hospedaje['Latitud'].iloc[j] = Resultado_busqueda.latitude\n",
    "    Alojamientos_hospedaje['Longitud'].iloc[j] = Resultado_busqueda.longitude"
   ]
  },
  {
   "cell_type": "code",
   "execution_count": 119,
   "metadata": {},
   "outputs": [
    {
     "data": {
      "text/html": [
       "<div>\n",
       "<style scoped>\n",
       "    .dataframe tbody tr th:only-of-type {\n",
       "        vertical-align: middle;\n",
       "    }\n",
       "\n",
       "    .dataframe tbody tr th {\n",
       "        vertical-align: top;\n",
       "    }\n",
       "\n",
       "    .dataframe thead th {\n",
       "        text-align: right;\n",
       "    }\n",
       "</style>\n",
       "<table border=\"1\" class=\"dataframe\">\n",
       "  <thead>\n",
       "    <tr style=\"text-align: right;\">\n",
       "      <th></th>\n",
       "      <th>Direccion</th>\n",
       "      <th>Hospedaje</th>\n",
       "      <th>Latitud</th>\n",
       "      <th>Longitud</th>\n",
       "    </tr>\n",
       "  </thead>\n",
       "  <tbody>\n",
       "    <tr>\n",
       "      <th>0</th>\n",
       "      <td>Carrera 64 103C 16</td>\n",
       "      <td>103 WONDERFULL HOUSE</td>\n",
       "      <td>4.69179</td>\n",
       "      <td>-74.0672</td>\n",
       "    </tr>\n",
       "    <tr>\n",
       "      <th>1</th>\n",
       "      <td>Calle 51A 74 20</td>\n",
       "      <td>A BOGOTA ON HOLIDAYS</td>\n",
       "      <td>4.67247</td>\n",
       "      <td>-74.1108</td>\n",
       "    </tr>\n",
       "    <tr>\n",
       "      <th>2</th>\n",
       "      <td>Carrera 48 93 64</td>\n",
       "      <td>ALPES BOGOTA HOSTAL</td>\n",
       "      <td>4.6814</td>\n",
       "      <td>-74.0612</td>\n",
       "    </tr>\n",
       "    <tr>\n",
       "      <th>3</th>\n",
       "      <td>Calle 10 2 40</td>\n",
       "      <td>APARTAESTUDIOS LA CANDELARIA</td>\n",
       "      <td>4.59482</td>\n",
       "      <td>-74.0718</td>\n",
       "    </tr>\n",
       "    <tr>\n",
       "      <th>4</th>\n",
       "      <td>Calle 57 18 26</td>\n",
       "      <td>CASA COLONIAL INN</td>\n",
       "      <td>4.64484</td>\n",
       "      <td>-74.0696</td>\n",
       "    </tr>\n",
       "    <tr>\n",
       "      <th>...</th>\n",
       "      <td>...</td>\n",
       "      <td>...</td>\n",
       "      <td>...</td>\n",
       "      <td>...</td>\n",
       "    </tr>\n",
       "    <tr>\n",
       "      <th>408</th>\n",
       "      <td>Carrera 63 98 66</td>\n",
       "      <td>WONDERFULL HOUSE 100</td>\n",
       "      <td>None</td>\n",
       "      <td>None</td>\n",
       "    </tr>\n",
       "    <tr>\n",
       "      <th>409</th>\n",
       "      <td>Calle 11 0 38</td>\n",
       "      <td>DESTINO NOMADA HOSTEL</td>\n",
       "      <td>None</td>\n",
       "      <td>None</td>\n",
       "    </tr>\n",
       "    <tr>\n",
       "      <th>410</th>\n",
       "      <td>Calle 12F 2 38</td>\n",
       "      <td>HOSTAL LA CANDELARIA BOGOTA</td>\n",
       "      <td>None</td>\n",
       "      <td>None</td>\n",
       "    </tr>\n",
       "    <tr>\n",
       "      <th>411</th>\n",
       "      <td>Calle 12F 2 55</td>\n",
       "      <td>HOSTAL SUE E.U.</td>\n",
       "      <td>None</td>\n",
       "      <td>None</td>\n",
       "    </tr>\n",
       "    <tr>\n",
       "      <th>412</th>\n",
       "      <td>Carrera 4 9 80</td>\n",
       "      <td>ZOHAR HOSTEL</td>\n",
       "      <td>None</td>\n",
       "      <td>None</td>\n",
       "    </tr>\n",
       "  </tbody>\n",
       "</table>\n",
       "<p>413 rows × 4 columns</p>\n",
       "</div>"
      ],
      "text/plain": [
       "              Direccion                     Hospedaje  Latitud Longitud\n",
       "0    Carrera 64 103C 16          103 WONDERFULL HOUSE  4.69179 -74.0672\n",
       "1       Calle 51A 74 20          A BOGOTA ON HOLIDAYS  4.67247 -74.1108\n",
       "2      Carrera 48 93 64           ALPES BOGOTA HOSTAL   4.6814 -74.0612\n",
       "3         Calle 10 2 40  APARTAESTUDIOS LA CANDELARIA  4.59482 -74.0718\n",
       "4        Calle 57 18 26             CASA COLONIAL INN  4.64484 -74.0696\n",
       "..                  ...                           ...      ...      ...\n",
       "408    Carrera 63 98 66          WONDERFULL HOUSE 100     None     None\n",
       "409       Calle 11 0 38         DESTINO NOMADA HOSTEL     None     None\n",
       "410      Calle 12F 2 38   HOSTAL LA CANDELARIA BOGOTA     None     None\n",
       "411      Calle 12F 2 55               HOSTAL SUE E.U.     None     None\n",
       "412      Carrera 4 9 80                  ZOHAR HOSTEL     None     None\n",
       "\n",
       "[413 rows x 4 columns]"
      ]
     },
     "execution_count": 119,
     "metadata": {},
     "output_type": "execute_result"
    }
   ],
   "source": [
    "Alojamientos_hospedaje"
   ]
  },
  {
   "cell_type": "markdown",
   "metadata": {},
   "source": [
    "## Nominatim: Open Street maps "
   ]
  },
  {
   "cell_type": "code",
   "execution_count": 123,
   "metadata": {},
   "outputs": [],
   "source": [
    "Direccion = 'Carrera 64 103C 16'\n",
    "busqueda = Direccion + ', Bogotá, Colombia'"
   ]
  },
  {
   "cell_type": "code",
   "execution_count": 124,
   "metadata": {},
   "outputs": [],
   "source": [
    "buscador_open = Nominatim(user_agent=\"pepito@dominio.com.co\")\n",
    "## ----- Busqueda ---- ######\n",
    "Resultado = buscador_open.geocode(busqueda,timeout = 10000)"
   ]
  },
  {
   "cell_type": "code",
   "execution_count": 125,
   "metadata": {},
   "outputs": [
    {
     "data": {
      "text/plain": [
       "Location(Carrera 64, Torcoroma, UPZ San Rafael, Localidad Puente Aranda, Bogotá, Bogotá Distrito Capital, Región Andina, 111621, Colombia, (4.6209197, -74.1225901, 0.0))"
      ]
     },
     "execution_count": 125,
     "metadata": {},
     "output_type": "execute_result"
    }
   ],
   "source": [
    "Resultado"
   ]
  },
  {
   "cell_type": "markdown",
   "metadata": {},
   "source": [
    "## Busquéda inversa: Dirección a partir de una latitud, longitud"
   ]
  },
  {
   "cell_type": "code",
   "execution_count": 126,
   "metadata": {},
   "outputs": [],
   "source": [
    "cordenadas_buscar = str(Resultado.latitude)+','+str(Resultado.longitude)"
   ]
  },
  {
   "cell_type": "code",
   "execution_count": 127,
   "metadata": {},
   "outputs": [
    {
     "data": {
      "text/plain": [
       "'4.6209197,-74.1225901'"
      ]
     },
     "execution_count": 127,
     "metadata": {},
     "output_type": "execute_result"
    }
   ],
   "source": [
    "cordenadas_buscar"
   ]
  },
  {
   "cell_type": "code",
   "execution_count": 128,
   "metadata": {},
   "outputs": [],
   "source": [
    "Inversa = buscador_open.reverse(cordenadas_buscar,timeout = 10000)"
   ]
  },
  {
   "cell_type": "code",
   "execution_count": 129,
   "metadata": {},
   "outputs": [
    {
     "data": {
      "text/plain": [
       "Location(Panadería El Cacique, 2C-01, Carrera 64, Torcoroma, UPZ San Rafael, Localidad Puente Aranda, Bogotá, Bogotá Distrito Capital, Región Andina, 111621, Colombia, (4.6209382, -74.1225783, 0.0))"
      ]
     },
     "execution_count": 129,
     "metadata": {},
     "output_type": "execute_result"
    }
   ],
   "source": [
    "Inversa"
   ]
  },
  {
   "cell_type": "markdown",
   "metadata": {},
   "source": [
    "## Distancias entre kilometros"
   ]
  },
  {
   "cell_type": "code",
   "execution_count": 130,
   "metadata": {},
   "outputs": [
    {
     "name": "stdout",
     "output_type": "stream",
     "text": [
      "0.116557303498864\n"
     ]
    }
   ],
   "source": [
    "ML_centro_comercial = (4.602927,-74.065299)\n",
    "SD = (4.603926,-74.065634)\n",
    "\n",
    "print(geodesic(ML_centro_comercial, SD).kilometers)"
   ]
  },
  {
   "cell_type": "code",
   "execution_count": null,
   "metadata": {},
   "outputs": [],
   "source": []
  },
  {
   "cell_type": "code",
   "execution_count": null,
   "metadata": {},
   "outputs": [],
   "source": []
  }
 ],
 "metadata": {
  "kernelspec": {
   "display_name": "Python 3",
   "language": "python",
   "name": "python3"
  },
  "language_info": {
   "codemirror_mode": {
    "name": "ipython",
    "version": 3
   },
   "file_extension": ".py",
   "mimetype": "text/x-python",
   "name": "python",
   "nbconvert_exporter": "python",
   "pygments_lexer": "ipython3",
   "version": "3.7.5"
  }
 },
 "nbformat": 4,
 "nbformat_minor": 4
}
