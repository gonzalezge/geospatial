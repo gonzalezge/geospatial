{
 "cells": [
  {
   "cell_type": "markdown",
   "metadata": {},
   "source": [
    "<img src=\"https://raw.githubusercontent.com/paular143/images_notebooks/master/logo-sin-nombre.png\" alt=\"Universidad de Los Andes\" style=\"width: 90px;\" align=\"left\" frameborder=\"300\"/>\n",
    "\n",
    "**UNIVERSIDAD DE LOS ANDES** <br>\n",
    "**FACULTAD DE ECONOMÍA - EDUCACIÓN CONTINUADA** <br>\n",
    "**Análisis espacial de datos y sus aplicaciones en Python 2020** <br>\n",
    "**PROFESORES:** Germán González y Mateo Dulce <br><br>\n",
    "\n",
    "\n",
    "# Sessión 5: Golocalización\n",
    "\n",
    "- Geoencoding\n",
    "\n"
   ]
  },
  {
   "cell_type": "code",
   "execution_count": 7,
   "metadata": {},
   "outputs": [],
   "source": [
    "# !pip3 install shapely\n",
    "# !pip3 install pyproj\n",
    "# !pip3 install functools\n",
    "# !pip3 install folium\n",
    "# !pip3 install pandas\n",
    "# !pip3 install requests\n",
    "# !pip3 install geopy\n",
    "\n",
    "import pyproj\n",
    "from functools import partial\n",
    "import shapely.geometry\n",
    "from shapely.ops import transform\n",
    "from shapely.geometry.polygon import Polygon\n",
    "from shapely.geometry import Point\n",
    "import folium\n",
    "import geojson\n",
    "import json\n",
    "import pandas as pd\n",
    "import re\n",
    "import geopy\n",
    "import requests\n",
    "from geopy.distance import geodesic\n",
    "from geopy.geocoders import Nominatim"
   ]
  },
  {
   "cell_type": "markdown",
   "metadata": {},
   "source": [
    "# Cargamos un excel que contiene las direcciones y los nombres de hospedajes en Bogotá"
   ]
  },
  {
   "cell_type": "code",
   "execution_count": 8,
   "metadata": {},
   "outputs": [],
   "source": [
    "Alojamientos_hospedaje = pd.read_excel('Direcciones.xlsx')"
   ]
  },
  {
   "cell_type": "markdown",
   "metadata": {},
   "source": [
    "## Definimos latitud y longitud"
   ]
  },
  {
   "cell_type": "code",
   "execution_count": 9,
   "metadata": {},
   "outputs": [],
   "source": [
    "Alojamientos_hospedaje['Latitud'] = None\n",
    "Alojamientos_hospedaje['Longitud'] = None"
   ]
  },
  {
   "cell_type": "code",
   "execution_count": 10,
   "metadata": {},
   "outputs": [
    {
     "data": {
      "text/html": [
       "<div>\n",
       "<style scoped>\n",
       "    .dataframe tbody tr th:only-of-type {\n",
       "        vertical-align: middle;\n",
       "    }\n",
       "\n",
       "    .dataframe tbody tr th {\n",
       "        vertical-align: top;\n",
       "    }\n",
       "\n",
       "    .dataframe thead th {\n",
       "        text-align: right;\n",
       "    }\n",
       "</style>\n",
       "<table border=\"1\" class=\"dataframe\">\n",
       "  <thead>\n",
       "    <tr style=\"text-align: right;\">\n",
       "      <th></th>\n",
       "      <th>Direccion</th>\n",
       "      <th>Hospedaje</th>\n",
       "      <th>Latitud</th>\n",
       "      <th>Longitud</th>\n",
       "    </tr>\n",
       "  </thead>\n",
       "  <tbody>\n",
       "    <tr>\n",
       "      <th>0</th>\n",
       "      <td>Carrera 64 103C 16</td>\n",
       "      <td>103 WONDERFULL HOUSE</td>\n",
       "      <td>None</td>\n",
       "      <td>None</td>\n",
       "    </tr>\n",
       "    <tr>\n",
       "      <th>1</th>\n",
       "      <td>Calle 51A 74 20</td>\n",
       "      <td>A BOGOTA ON HOLIDAYS</td>\n",
       "      <td>None</td>\n",
       "      <td>None</td>\n",
       "    </tr>\n",
       "    <tr>\n",
       "      <th>2</th>\n",
       "      <td>Carrera 48 93 64</td>\n",
       "      <td>ALPES BOGOTA HOSTAL</td>\n",
       "      <td>None</td>\n",
       "      <td>None</td>\n",
       "    </tr>\n",
       "    <tr>\n",
       "      <th>3</th>\n",
       "      <td>Calle 10 2 40</td>\n",
       "      <td>APARTAESTUDIOS LA CANDELARIA</td>\n",
       "      <td>None</td>\n",
       "      <td>None</td>\n",
       "    </tr>\n",
       "    <tr>\n",
       "      <th>4</th>\n",
       "      <td>Calle 57 18 26</td>\n",
       "      <td>CASA COLONIAL INN</td>\n",
       "      <td>None</td>\n",
       "      <td>None</td>\n",
       "    </tr>\n",
       "    <tr>\n",
       "      <th>...</th>\n",
       "      <td>...</td>\n",
       "      <td>...</td>\n",
       "      <td>...</td>\n",
       "      <td>...</td>\n",
       "    </tr>\n",
       "    <tr>\n",
       "      <th>408</th>\n",
       "      <td>Carrera 63 98 66</td>\n",
       "      <td>WONDERFULL HOUSE 100</td>\n",
       "      <td>None</td>\n",
       "      <td>None</td>\n",
       "    </tr>\n",
       "    <tr>\n",
       "      <th>409</th>\n",
       "      <td>Calle 11 0 38</td>\n",
       "      <td>DESTINO NOMADA HOSTEL</td>\n",
       "      <td>None</td>\n",
       "      <td>None</td>\n",
       "    </tr>\n",
       "    <tr>\n",
       "      <th>410</th>\n",
       "      <td>Calle 12F 2 38</td>\n",
       "      <td>HOSTAL LA CANDELARIA BOGOTA</td>\n",
       "      <td>None</td>\n",
       "      <td>None</td>\n",
       "    </tr>\n",
       "    <tr>\n",
       "      <th>411</th>\n",
       "      <td>Calle 12F 2 55</td>\n",
       "      <td>HOSTAL SUE E.U.</td>\n",
       "      <td>None</td>\n",
       "      <td>None</td>\n",
       "    </tr>\n",
       "    <tr>\n",
       "      <th>412</th>\n",
       "      <td>Carrera 4 9 80</td>\n",
       "      <td>ZOHAR HOSTEL</td>\n",
       "      <td>None</td>\n",
       "      <td>None</td>\n",
       "    </tr>\n",
       "  </tbody>\n",
       "</table>\n",
       "<p>413 rows × 4 columns</p>\n",
       "</div>"
      ],
      "text/plain": [
       "              Direccion                     Hospedaje Latitud Longitud\n",
       "0    Carrera 64 103C 16          103 WONDERFULL HOUSE    None     None\n",
       "1       Calle 51A 74 20          A BOGOTA ON HOLIDAYS    None     None\n",
       "2      Carrera 48 93 64           ALPES BOGOTA HOSTAL    None     None\n",
       "3         Calle 10 2 40  APARTAESTUDIOS LA CANDELARIA    None     None\n",
       "4        Calle 57 18 26             CASA COLONIAL INN    None     None\n",
       "..                  ...                           ...     ...      ...\n",
       "408    Carrera 63 98 66          WONDERFULL HOUSE 100    None     None\n",
       "409       Calle 11 0 38         DESTINO NOMADA HOSTEL    None     None\n",
       "410      Calle 12F 2 38   HOSTAL LA CANDELARIA BOGOTA    None     None\n",
       "411      Calle 12F 2 55               HOSTAL SUE E.U.    None     None\n",
       "412      Carrera 4 9 80                  ZOHAR HOSTEL    None     None\n",
       "\n",
       "[413 rows x 4 columns]"
      ]
     },
     "execution_count": 10,
     "metadata": {},
     "output_type": "execute_result"
    }
   ],
   "source": [
    "Alojamientos_hospedaje"
   ]
  },
  {
   "cell_type": "markdown",
   "metadata": {},
   "source": [
    "# Forma Manual "
   ]
  },
  {
   "cell_type": "markdown",
   "metadata": {},
   "source": [
    "## Para una dirección"
   ]
  },
  {
   "cell_type": "markdown",
   "metadata": {},
   "source": [
    "Para crear las credenciales de HERE se deben registrar en https://developer.here.com/login\n",
    "\n",
    "Más información de conexiones: https://developer.here.com/blog/understanding-geocoding-with-python "
   ]
  },
  {
   "cell_type": "code",
   "execution_count": 11,
   "metadata": {},
   "outputs": [],
   "source": [
    "api_here = '5ELMuTthvjz1Blo6MzU2yhUqD7Jig9tBX4bDrz247-Y'"
   ]
  },
  {
   "cell_type": "code",
   "execution_count": 12,
   "metadata": {},
   "outputs": [],
   "source": [
    "Direccion = Alojamientos_hospedaje['Direccion'].iloc[0]\n",
    "busqueda = Direccion + ', Bogotá, Colombia'\n",
    "PARAMS = {'apikey':api_here,'q':busqueda} \n",
    "\n",
    "# Construir solicitud\n",
    "URL = \"https://geocode.search.hereapi.com/v1/geocode\"\n",
    "r = requests.get(url = URL, params = PARAMS) \n",
    "data = r.json()\n",
    "\n",
    "latitude = data['items'][0]['position']['lat']\n",
    "longitude = data['items'][0]['position']['lng']"
   ]
  },
  {
   "cell_type": "code",
   "execution_count": 13,
   "metadata": {},
   "outputs": [
    {
     "data": {
      "text/plain": [
       "'Carrera 64 103C 16, Bogotá, Colombia'"
      ]
     },
     "execution_count": 13,
     "metadata": {},
     "output_type": "execute_result"
    }
   ],
   "source": [
    "busqueda"
   ]
  },
  {
   "cell_type": "code",
   "execution_count": 14,
   "metadata": {},
   "outputs": [
    {
     "data": {
      "text/plain": [
       "{'items': [{'title': 'Carrera 64 103C-16, 111121 Bogotá, D.C., Colombia',\n",
       "   'id': 'here:af:streetsection:d9o9B4VePTASUbsYmXGikD:CggIBCD29q-qAhABGgIxNihk',\n",
       "   'resultType': 'houseNumber',\n",
       "   'houseNumberType': 'PA',\n",
       "   'address': {'label': 'Carrera 64 103C-16, 111121 Bogotá, D.C., Colombia',\n",
       "    'countryCode': 'COL',\n",
       "    'countryName': 'Colombia',\n",
       "    'county': 'Bogotá, D.C.',\n",
       "    'city': 'Bogotá, D.C.',\n",
       "    'district': 'Suba',\n",
       "    'street': 'Carrera 64 103C',\n",
       "    'postalCode': '111121',\n",
       "    'houseNumber': '16'},\n",
       "   'position': {'lat': 4.69179, 'lng': -74.0672},\n",
       "   'access': [{'lat': 4.69181, 'lng': -74.06725}],\n",
       "   'mapView': {'west': -74.0681,\n",
       "    'south': 4.69089,\n",
       "    'east': -74.0663,\n",
       "    'north': 4.69269},\n",
       "   'scoring': {'queryScore': 1.0,\n",
       "    'fieldScore': {'country': 1.0,\n",
       "     'city': 1.0,\n",
       "     'streets': [1.0],\n",
       "     'houseNumber': 1.0}}}]}"
      ]
     },
     "execution_count": 14,
     "metadata": {},
     "output_type": "execute_result"
    }
   ],
   "source": [
    "data"
   ]
  },
  {
   "cell_type": "code",
   "execution_count": 15,
   "metadata": {},
   "outputs": [
    {
     "name": "stdout",
     "output_type": "stream",
     "text": [
      "Geocoding de la dirección: Carrera 64 103C 16, Bogotá, Colombia\n",
      "Geocoding de la dirección: Calle 51A 74 20, Bogotá, Colombia\n",
      "Geocoding de la dirección: Carrera 48 93 64, Bogotá, Colombia\n",
      "Geocoding de la dirección: Calle 10 2 40, Bogotá, Colombia\n",
      "Geocoding de la dirección: Calle 57 18 26, Bogotá, Colombia\n",
      "Geocoding de la dirección: Carrera 18 124 50, Bogotá, Colombia\n",
      "Geocoding de la dirección: Carrera 12 119 26, Bogotá, Colombia\n",
      "Geocoding de la dirección: Calle 93 18 11, Bogotá, Colombia\n",
      "Geocoding de la dirección: Calle 74 10 33, Bogotá, Colombia\n",
      "Geocoding de la dirección: Carrera 10 27 51, Bogotá, Colombia\n"
     ]
    }
   ],
   "source": [
    "for j in range(0,10):    \n",
    "    Direccion = Alojamientos_hospedaje['Direccion'].iloc[j]\n",
    "    busqueda = Direccion + ', Bogotá, Colombia'\n",
    "    PARAMS = {'apikey':api_here,'q':busqueda} \n",
    "    print('Geocoding de la dirección: '+ busqueda)\n",
    "    ####### --- Enviar la solicitud -- #### \n",
    "    URL = \"https://geocode.search.hereapi.com/v1/geocode\"\n",
    "    r = requests.get(url = URL, params = PARAMS) \n",
    "    data = r.json()\n",
    "\n",
    "    latitud = data['items'][0]['position']['lat']\n",
    "    longitud = data['items'][0]['position']['lng']\n",
    "\n",
    "    ###### ----- Vamos a sobre escribir ----- #### \n",
    "    Alojamientos_hospedaje['Latitud'].iloc[j] = latitud\n",
    "    Alojamientos_hospedaje['Longitud'].iloc[j] = longitud"
   ]
  },
  {
   "cell_type": "code",
   "execution_count": 16,
   "metadata": {},
   "outputs": [
    {
     "data": {
      "text/html": [
       "<div>\n",
       "<style scoped>\n",
       "    .dataframe tbody tr th:only-of-type {\n",
       "        vertical-align: middle;\n",
       "    }\n",
       "\n",
       "    .dataframe tbody tr th {\n",
       "        vertical-align: top;\n",
       "    }\n",
       "\n",
       "    .dataframe thead th {\n",
       "        text-align: right;\n",
       "    }\n",
       "</style>\n",
       "<table border=\"1\" class=\"dataframe\">\n",
       "  <thead>\n",
       "    <tr style=\"text-align: right;\">\n",
       "      <th></th>\n",
       "      <th>Direccion</th>\n",
       "      <th>Hospedaje</th>\n",
       "      <th>Latitud</th>\n",
       "      <th>Longitud</th>\n",
       "    </tr>\n",
       "  </thead>\n",
       "  <tbody>\n",
       "    <tr>\n",
       "      <th>0</th>\n",
       "      <td>Carrera 64 103C 16</td>\n",
       "      <td>103 WONDERFULL HOUSE</td>\n",
       "      <td>4.69179</td>\n",
       "      <td>-74.0672</td>\n",
       "    </tr>\n",
       "    <tr>\n",
       "      <th>1</th>\n",
       "      <td>Calle 51A 74 20</td>\n",
       "      <td>A BOGOTA ON HOLIDAYS</td>\n",
       "      <td>4.67247</td>\n",
       "      <td>-74.1108</td>\n",
       "    </tr>\n",
       "    <tr>\n",
       "      <th>2</th>\n",
       "      <td>Carrera 48 93 64</td>\n",
       "      <td>ALPES BOGOTA HOSTAL</td>\n",
       "      <td>4.67581</td>\n",
       "      <td>-74.0487</td>\n",
       "    </tr>\n",
       "    <tr>\n",
       "      <th>3</th>\n",
       "      <td>Calle 10 2 40</td>\n",
       "      <td>APARTAESTUDIOS LA CANDELARIA</td>\n",
       "      <td>4.49595</td>\n",
       "      <td>-74.1156</td>\n",
       "    </tr>\n",
       "    <tr>\n",
       "      <th>4</th>\n",
       "      <td>Calle 57 18 26</td>\n",
       "      <td>CASA COLONIAL INN</td>\n",
       "      <td>4.64399</td>\n",
       "      <td>-74.0648</td>\n",
       "    </tr>\n",
       "    <tr>\n",
       "      <th>5</th>\n",
       "      <td>Carrera 18 124 50</td>\n",
       "      <td>CASA DEL VALLE HOTEL</td>\n",
       "      <td>4.7037</td>\n",
       "      <td>-74.0465</td>\n",
       "    </tr>\n",
       "    <tr>\n",
       "      <th>6</th>\n",
       "      <td>Carrera 12 119 26</td>\n",
       "      <td>CASA REGIS</td>\n",
       "      <td>4.69906</td>\n",
       "      <td>-74.0391</td>\n",
       "    </tr>\n",
       "    <tr>\n",
       "      <th>7</th>\n",
       "      <td>Calle 93 18 11</td>\n",
       "      <td>CASABLANCA 93</td>\n",
       "      <td>4.67783</td>\n",
       "      <td>-74.0541</td>\n",
       "    </tr>\n",
       "    <tr>\n",
       "      <th>8</th>\n",
       "      <td>Calle 74 10 33</td>\n",
       "      <td>CELEBRITIES SUITES - MODERNO PARK SA</td>\n",
       "      <td>4.65925</td>\n",
       "      <td>-74.0579</td>\n",
       "    </tr>\n",
       "    <tr>\n",
       "      <th>9</th>\n",
       "      <td>Carrera 10 27 51</td>\n",
       "      <td>CROWNE PLAZA SUITES TEQUENDAMA BOGOTA (SUITES ...</td>\n",
       "      <td>4.61464</td>\n",
       "      <td>-74.0696</td>\n",
       "    </tr>\n",
       "  </tbody>\n",
       "</table>\n",
       "</div>"
      ],
      "text/plain": [
       "            Direccion                                          Hospedaje  \\\n",
       "0  Carrera 64 103C 16                               103 WONDERFULL HOUSE   \n",
       "1     Calle 51A 74 20                               A BOGOTA ON HOLIDAYS   \n",
       "2    Carrera 48 93 64                                ALPES BOGOTA HOSTAL   \n",
       "3       Calle 10 2 40                       APARTAESTUDIOS LA CANDELARIA   \n",
       "4      Calle 57 18 26                                  CASA COLONIAL INN   \n",
       "5   Carrera 18 124 50                               CASA DEL VALLE HOTEL   \n",
       "6   Carrera 12 119 26                                         CASA REGIS   \n",
       "7      Calle 93 18 11                                      CASABLANCA 93   \n",
       "8      Calle 74 10 33               CELEBRITIES SUITES - MODERNO PARK SA   \n",
       "9    Carrera 10 27 51  CROWNE PLAZA SUITES TEQUENDAMA BOGOTA (SUITES ...   \n",
       "\n",
       "   Latitud Longitud  \n",
       "0  4.69179 -74.0672  \n",
       "1  4.67247 -74.1108  \n",
       "2  4.67581 -74.0487  \n",
       "3  4.49595 -74.1156  \n",
       "4  4.64399 -74.0648  \n",
       "5   4.7037 -74.0465  \n",
       "6  4.69906 -74.0391  \n",
       "7  4.67783 -74.0541  \n",
       "8  4.65925 -74.0579  \n",
       "9  4.61464 -74.0696  "
      ]
     },
     "execution_count": 16,
     "metadata": {},
     "output_type": "execute_result"
    }
   ],
   "source": [
    "Alojamientos_hospedaje.head(10)"
   ]
  },
  {
   "cell_type": "markdown",
   "metadata": {},
   "source": [
    "# Forma automática: Geopy"
   ]
  },
  {
   "cell_type": "markdown",
   "metadata": {},
   "source": [
    "## Para una dirección"
   ]
  },
  {
   "cell_type": "code",
   "execution_count": 17,
   "metadata": {},
   "outputs": [],
   "source": [
    "Direccion = 'Carrera 64 103C 16'"
   ]
  },
  {
   "cell_type": "code",
   "execution_count": 18,
   "metadata": {},
   "outputs": [],
   "source": [
    "busqueda = Direccion + ', Bogotá, Colombia'\n",
    "### --- Se define el motor de geocoder que se va utilizar: En este caso se utilizara HERE ----- #### \n",
    "motor_busqueda = geopy.geocoders.Here(app_id=None, app_code=None, apikey=api_here)\n",
    "Resultado_busqueda = motor_busqueda.geocode(busqueda,timeout = 10000)"
   ]
  },
  {
   "cell_type": "code",
   "execution_count": 19,
   "metadata": {},
   "outputs": [
    {
     "data": {
      "text/plain": [
       "'Carrera 64 103C 16, Bogotá, Colombia'"
      ]
     },
     "execution_count": 19,
     "metadata": {},
     "output_type": "execute_result"
    }
   ],
   "source": [
    "busqueda"
   ]
  },
  {
   "cell_type": "markdown",
   "metadata": {},
   "source": [
    "Resultado"
   ]
  },
  {
   "cell_type": "code",
   "execution_count": 20,
   "metadata": {},
   "outputs": [
    {
     "data": {
      "text/plain": [
       "Location(Carrera 64 103C-16, 111121 Bogotá, Colombia, Bogotá 111121, COL, (4.69179, -74.0672, 0.0))"
      ]
     },
     "execution_count": 20,
     "metadata": {},
     "output_type": "execute_result"
    }
   ],
   "source": [
    "Resultado_busqueda"
   ]
  },
  {
   "cell_type": "markdown",
   "metadata": {},
   "source": [
    "## Busquéda inversa: Dirección a partir de una latitud, longitud"
   ]
  },
  {
   "cell_type": "code",
   "execution_count": 21,
   "metadata": {},
   "outputs": [],
   "source": [
    "cordenadas_buscar = str(Resultado_busqueda.latitude)+','+str(Resultado_busqueda.longitude)"
   ]
  },
  {
   "cell_type": "code",
   "execution_count": 22,
   "metadata": {},
   "outputs": [
    {
     "data": {
      "text/plain": [
       "'4.69179,-74.0672'"
      ]
     },
     "execution_count": 22,
     "metadata": {},
     "output_type": "execute_result"
    }
   ],
   "source": [
    "cordenadas_buscar"
   ]
  },
  {
   "cell_type": "code",
   "execution_count": 23,
   "metadata": {},
   "outputs": [
    {
     "data": {
      "text/plain": [
       "Location(Carrera 64 103C-16, 111121 Bogotá, D.C., Colombia, Bogotá, D.C. 111121, COL, (4.69181, -74.06725, 0.0))"
      ]
     },
     "execution_count": 23,
     "metadata": {},
     "output_type": "execute_result"
    }
   ],
   "source": [
    "motor_busqueda.reverse(cordenadas_buscar)"
   ]
  },
  {
   "cell_type": "markdown",
   "metadata": {},
   "source": [
    "# Para las 10 primeras"
   ]
  },
  {
   "cell_type": "code",
   "execution_count": 25,
   "metadata": {},
   "outputs": [
    {
     "name": "stdout",
     "output_type": "stream",
     "text": [
      "Carrera 64 103C 16, Bogotá, Colombia\n",
      "Calle 51A 74 20, Bogotá, Colombia\n",
      "Carrera 48 93 64, Bogotá, Colombia\n",
      "Calle 10 2 40, Bogotá, Colombia\n",
      "Calle 57 18 26, Bogotá, Colombia\n",
      "Carrera 18 124 50, Bogotá, Colombia\n",
      "Carrera 12 119 26, Bogotá, Colombia\n",
      "Calle 93 18 11, Bogotá, Colombia\n",
      "Calle 74 10 33, Bogotá, Colombia\n",
      "Carrera 10 27 51, Bogotá, Colombia\n"
     ]
    }
   ],
   "source": [
    "#### ---- El motor de busqueda solo se tiene que definir una vez --- ### \n",
    "motor_busqueda = geopy.geocoders.Here(app_id=None, app_code=None, apikey=api_here)\n",
    "\n",
    "for j in range(0,10):    \n",
    "    Direccion = Alojamientos_hospedaje['Direccion'].iloc[j]\n",
    "    busqueda = Direccion + ', Bogotá, Colombia'\n",
    "    print(busqueda)\n",
    "    #### ---- Se realiza la busqueda --- ### \n",
    "    Resultado_busqueda = motor_busqueda.geocode(busqueda,timeout = 10000)\n",
    "\n",
    "    ###### ----- Vamos a sobre escribir ----- #### \n",
    "    Alojamientos_hospedaje['Latitud'].iloc[j] = Resultado_busqueda.latitude\n",
    "    Alojamientos_hospedaje['Longitud'].iloc[j] = Resultado_busqueda.longitude"
   ]
  },
  {
   "cell_type": "markdown",
   "metadata": {},
   "source": [
    "## Nominatim: Open Street maps "
   ]
  },
  {
   "cell_type": "code",
   "execution_count": 26,
   "metadata": {},
   "outputs": [],
   "source": [
    "Direccion = 'Carrera 64 103C 16'\n",
    "busqueda = Direccion + ', Bogotá, Colombia'"
   ]
  },
  {
   "cell_type": "code",
   "execution_count": 27,
   "metadata": {},
   "outputs": [],
   "source": [
    "buscador_open = Nominatim(user_agent=\"correo@dominio.com.co\")\n",
    "## ----- Busqueda ---- ######\n",
    "Resultado = buscador_open.geocode(busqueda,timeout = 10000)"
   ]
  },
  {
   "cell_type": "code",
   "execution_count": 28,
   "metadata": {},
   "outputs": [
    {
     "data": {
      "text/plain": [
       "Location(Carrera 64, Entre Ríos, Barrios Unidos, Bogotá Distrito Capital, Bogotá, 11001, Colombia, (4.6778265, -74.0801752, 0.0))"
      ]
     },
     "execution_count": 28,
     "metadata": {},
     "output_type": "execute_result"
    }
   ],
   "source": [
    "Resultado"
   ]
  },
  {
   "cell_type": "markdown",
   "metadata": {},
   "source": [
    "## Busquéda inversa: Dirección a partir de una latitud, longitud"
   ]
  },
  {
   "cell_type": "code",
   "execution_count": 29,
   "metadata": {},
   "outputs": [],
   "source": [
    "cordenadas_buscar = str(Resultado.latitude)+','+str(Resultado.longitude)"
   ]
  },
  {
   "cell_type": "code",
   "execution_count": 34,
   "metadata": {},
   "outputs": [
    {
     "data": {
      "text/plain": [
       "'4.6778265,-74.0801752'"
      ]
     },
     "execution_count": 34,
     "metadata": {},
     "output_type": "execute_result"
    }
   ],
   "source": [
    "cordenadas_buscar"
   ]
  },
  {
   "cell_type": "code",
   "execution_count": 32,
   "metadata": {},
   "outputs": [],
   "source": [
    "Inversa = buscador_open.reverse(cordenadas_buscar,timeout = 10000)"
   ]
  },
  {
   "cell_type": "code",
   "execution_count": 33,
   "metadata": {},
   "outputs": [
    {
     "data": {
      "text/plain": [
       "Location(La Lamarada Ardiente, Carrera 64, Entre Ríos, Barrios Unidos, Bogotá Distrito Capital, Bogotá, 11001, Colombia, (4.677737, -74.0801841, 0.0))"
      ]
     },
     "execution_count": 33,
     "metadata": {},
     "output_type": "execute_result"
    }
   ],
   "source": [
    "Inversa"
   ]
  },
  {
   "cell_type": "markdown",
   "metadata": {},
   "source": [
    "## Distancias entre kilometros"
   ]
  },
  {
   "cell_type": "code",
   "execution_count": 36,
   "metadata": {},
   "outputs": [
    {
     "name": "stdout",
     "output_type": "stream",
     "text": [
      "0.116557303498864\n"
     ]
    }
   ],
   "source": [
    "ML_centro_comercial = (4.602927,-74.065299)\n",
    "SD = (4.603926,-74.065634)\n",
    "\n",
    "print(geodesic(ML_centro_comercial, SD).kilometers)"
   ]
  },
  {
   "cell_type": "code",
   "execution_count": null,
   "metadata": {},
   "outputs": [],
   "source": []
  }
 ],
 "metadata": {
  "kernelspec": {
   "display_name": "Python 3",
   "language": "python",
   "name": "python3"
  },
  "language_info": {
   "codemirror_mode": {
    "name": "ipython",
    "version": 3
   },
   "file_extension": ".py",
   "mimetype": "text/x-python",
   "name": "python",
   "nbconvert_exporter": "python",
   "pygments_lexer": "ipython3",
   "version": "3.7.5"
  }
 },
 "nbformat": 4,
 "nbformat_minor": 4
}
