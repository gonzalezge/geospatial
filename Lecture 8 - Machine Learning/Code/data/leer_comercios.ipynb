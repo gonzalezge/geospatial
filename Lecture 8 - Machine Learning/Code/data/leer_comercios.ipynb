{
 "cells": [
  {
   "cell_type": "code",
   "execution_count": null,
   "metadata": {},
   "outputs": [],
   "source": [
    "establecimientos_comerciales = pd.read_json('../data/establecimientos-comerciales-2016.geojson')\n",
    "establecimientos_comerciales = list(map(lambda Establecimiento: pd.DataFrame({'Nombre': [Establecimiento['properties']['razon_soci']],\n",
    "                                                                               'Actividad': [Establecimiento['properties']['actividad']],\n",
    "                                                                               'Direccion': [Establecimiento['properties']['direcc_com']],\n",
    "                                                                               'Latitude': [Establecimiento['properties']['geo_point_2d'][0]],\n",
    "                                                                               'Longitude': [Establecimiento['properties']['geo_point_2d'][1]]}),\n",
    "                                    list(establecimientos_comerciales['features'])))\n",
    "\n",
    "establecimientos_comerciales = pd.concat(establecimientos_comerciales,axis=0)\n",
    "establecimientos_comerciales.to_pickle('../data/comercios.p', 'gzip')"
   ]
  }
 ],
 "metadata": {
  "kernelspec": {
   "display_name": "Python 3",
   "language": "python",
   "name": "python3"
  },
  "language_info": {
   "codemirror_mode": {
    "name": "ipython",
    "version": 3
   },
   "file_extension": ".py",
   "mimetype": "text/x-python",
   "name": "python",
   "nbconvert_exporter": "python",
   "pygments_lexer": "ipython3",
   "version": "3.6.9"
  }
 },
 "nbformat": 4,
 "nbformat_minor": 4
}
