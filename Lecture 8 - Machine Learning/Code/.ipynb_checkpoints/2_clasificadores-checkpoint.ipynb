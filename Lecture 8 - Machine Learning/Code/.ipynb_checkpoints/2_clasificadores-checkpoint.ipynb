{
 "cells": [
  {
   "cell_type": "markdown",
   "metadata": {},
   "source": [
    "<img src=\"https://raw.githubusercontent.com/paular143/images_notebooks/master/logo-sin-nombre.png\" alt=\"Universidad de Los Andes\" style=\"width: 90px;\" align=\"left\" frameborder=\"300\"/>\n",
    "\n",
    "**UNIVERSIDAD DE LOS ANDES** <br>\n",
    "**FACULTAD DE ECONOMÍA - EDUCACIÓN CONTINUADA** <br>\n",
    "**Análisis espacial de datos y sus aplicaciones en Python 2021** <br>\n",
    "**PROFESOR:** Germán González <br><br>\n",
    "\n",
    "\n",
    "# Clase 8: Aprendizaje supervisado: Clasificación"
   ]
  },
  {
   "cell_type": "code",
   "execution_count": 2,
   "metadata": {},
   "outputs": [
    {
     "name": "stderr",
     "output_type": "stream",
     "text": [
      "/Users/germangonzalez/.pyenv/versions/3.7.5/envs/motus/lib/python3.7/site-packages/pandas/compat/__init__.py:120: UserWarning: Could not import the lzma module. Your installed Python is incomplete. Attempting to use lzma compression will result in a RuntimeError.\n",
      "  warnings.warn(msg)\n"
     ]
    }
   ],
   "source": [
    "# !pip3 install numpy \n",
    "# !pip3 install pandas \n",
    "# !pip3 install seaborn \n",
    "# !pip3 install sklearn \n",
    "\n",
    "import numpy as np \n",
    "import pandas as pd \n",
    "import seaborn as sns\n",
    "import matplotlib.pyplot as plt\n",
    "import os\n",
    "from sklearn.preprocessing import StandardScaler\n",
    "from sklearn.model_selection import train_test_split\n",
    "from sklearn.model_selection import GridSearchCV\n",
    "from sklearn.model_selection import KFold\n",
    "import numpy as np\n",
    "from sklearn.linear_model import LogisticRegression\n",
    "from sklearn.ensemble import RandomForestClassifier\n",
    "from sklearn.ensemble import BaggingClassifier\n",
    "from sklearn.svm import SVC\n",
    "from sklearn import metrics\n",
    "import itertools\n",
    "\n",
    "\n",
    "def graficar_matriz_confusion(cm, classes,\n",
    "                          normalize=False,\n",
    "                          title='Confusion matrix',\n",
    "                          cmap=plt.cm.Blues):\n",
    "    \"\"\"\n",
    "    This function prints and plots the confusion matrix.\n",
    "    Normalization can be applied by setting `normalize=True`.\n",
    "    \"\"\"\n",
    "    if normalize:\n",
    "        cm = cm.astype('float') / cm.sum(axis=1)[:, np.newaxis]\n",
    "        print(\"Normalized confusion matrix\")\n",
    "    else:\n",
    "        print('Confusion matrix, without normalization')\n",
    "\n",
    "    print(cm)\n",
    "\n",
    "    plt.imshow(cm, interpolation='nearest', cmap=cmap)\n",
    "    plt.title(title)\n",
    "    plt.colorbar()\n",
    "    tick_marks = np.arange(len(classes))\n",
    "    plt.xticks(tick_marks, classes)\n",
    "    plt.yticks(tick_marks, classes)\n",
    "\n",
    "    fmt = '.2f' if normalize else 'd'\n",
    "    thresh = cm.max() / 2.\n",
    "    for i, j in itertools.product(range(cm.shape[0]), range(cm.shape[1])):\n",
    "        plt.text(j, i, format(cm[i, j], fmt),\n",
    "                 horizontalalignment=\"center\",\n",
    "                 color=\"white\" if cm[i, j] > thresh else \"black\")\n",
    "\n",
    "    plt.tight_layout()\n",
    "    plt.ylabel('')\n",
    "    plt.xlabel('')\n",
    "\n",
    "    \n",
    "    "
   ]
  },
  {
   "cell_type": "markdown",
   "metadata": {},
   "source": [
    "## Cargar datos"
   ]
  },
  {
   "cell_type": "code",
   "execution_count": 3,
   "metadata": {},
   "outputs": [],
   "source": [
    "Datos_clima = pd.read_excel('data/Clima.xlsx')"
   ]
  },
  {
   "cell_type": "code",
   "execution_count": 5,
   "metadata": {},
   "outputs": [
    {
     "data": {
      "text/plain": [
       "['Date',\n",
       " 'Location',\n",
       " 'MinTemp',\n",
       " 'MaxTemp',\n",
       " 'Rainfall',\n",
       " 'WindGustSpeed',\n",
       " 'WindSpeed9am',\n",
       " 'WindSpeed3pm',\n",
       " 'Humidity9am',\n",
       " 'Humidity3pm',\n",
       " 'Pressure9am',\n",
       " 'Pressure3pm',\n",
       " 'Cloud9am',\n",
       " 'Cloud3pm',\n",
       " 'Temp9am',\n",
       " 'Temp3pm',\n",
       " 'RainToday',\n",
       " 'RainTomorrow']"
      ]
     },
     "execution_count": 5,
     "metadata": {},
     "output_type": "execute_result"
    }
   ],
   "source": [
    "list(Datos_clima)"
   ]
  },
  {
   "cell_type": "markdown",
   "metadata": {},
   "source": [
    "## Crear dummies espaciales"
   ]
  },
  {
   "cell_type": "code",
   "execution_count": 6,
   "metadata": {},
   "outputs": [],
   "source": [
    "Datos_clima =  pd.get_dummies(Datos_clima, prefix=['Location'], columns=['Location'])"
   ]
  },
  {
   "cell_type": "markdown",
   "metadata": {},
   "source": [
    "## Separar variable dependiente e independientes"
   ]
  },
  {
   "cell_type": "code",
   "execution_count": 9,
   "metadata": {},
   "outputs": [
    {
     "data": {
      "text/html": [
       "<div>\n",
       "<style scoped>\n",
       "    .dataframe tbody tr th:only-of-type {\n",
       "        vertical-align: middle;\n",
       "    }\n",
       "\n",
       "    .dataframe tbody tr th {\n",
       "        vertical-align: top;\n",
       "    }\n",
       "\n",
       "    .dataframe thead th {\n",
       "        text-align: right;\n",
       "    }\n",
       "</style>\n",
       "<table border=\"1\" class=\"dataframe\">\n",
       "  <thead>\n",
       "    <tr style=\"text-align: right;\">\n",
       "      <th></th>\n",
       "      <th>MinTemp</th>\n",
       "      <th>MaxTemp</th>\n",
       "      <th>Rainfall</th>\n",
       "      <th>WindGustSpeed</th>\n",
       "      <th>WindSpeed9am</th>\n",
       "      <th>WindSpeed3pm</th>\n",
       "      <th>Humidity9am</th>\n",
       "      <th>Humidity3pm</th>\n",
       "      <th>Pressure9am</th>\n",
       "      <th>Pressure3pm</th>\n",
       "      <th>...</th>\n",
       "      <th>Location_Townsville</th>\n",
       "      <th>Location_Tuggeranong</th>\n",
       "      <th>Location_Uluru</th>\n",
       "      <th>Location_WaggaWagga</th>\n",
       "      <th>Location_Walpole</th>\n",
       "      <th>Location_Watsonia</th>\n",
       "      <th>Location_Williamtown</th>\n",
       "      <th>Location_Witchcliffe</th>\n",
       "      <th>Location_Wollongong</th>\n",
       "      <th>Location_Woomera</th>\n",
       "    </tr>\n",
       "  </thead>\n",
       "  <tbody>\n",
       "    <tr>\n",
       "      <th>0</th>\n",
       "      <td>13.4</td>\n",
       "      <td>22.9</td>\n",
       "      <td>0.6</td>\n",
       "      <td>44.0</td>\n",
       "      <td>20.0</td>\n",
       "      <td>24.0</td>\n",
       "      <td>71.0</td>\n",
       "      <td>22.0</td>\n",
       "      <td>1007.7</td>\n",
       "      <td>1007.1</td>\n",
       "      <td>...</td>\n",
       "      <td>0</td>\n",
       "      <td>0</td>\n",
       "      <td>0</td>\n",
       "      <td>0</td>\n",
       "      <td>0</td>\n",
       "      <td>0</td>\n",
       "      <td>0</td>\n",
       "      <td>0</td>\n",
       "      <td>0</td>\n",
       "      <td>0</td>\n",
       "    </tr>\n",
       "    <tr>\n",
       "      <th>1</th>\n",
       "      <td>7.4</td>\n",
       "      <td>25.1</td>\n",
       "      <td>0.0</td>\n",
       "      <td>44.0</td>\n",
       "      <td>4.0</td>\n",
       "      <td>22.0</td>\n",
       "      <td>44.0</td>\n",
       "      <td>25.0</td>\n",
       "      <td>1010.6</td>\n",
       "      <td>1007.8</td>\n",
       "      <td>...</td>\n",
       "      <td>0</td>\n",
       "      <td>0</td>\n",
       "      <td>0</td>\n",
       "      <td>0</td>\n",
       "      <td>0</td>\n",
       "      <td>0</td>\n",
       "      <td>0</td>\n",
       "      <td>0</td>\n",
       "      <td>0</td>\n",
       "      <td>0</td>\n",
       "    </tr>\n",
       "    <tr>\n",
       "      <th>2</th>\n",
       "      <td>12.9</td>\n",
       "      <td>25.7</td>\n",
       "      <td>0.0</td>\n",
       "      <td>46.0</td>\n",
       "      <td>19.0</td>\n",
       "      <td>26.0</td>\n",
       "      <td>38.0</td>\n",
       "      <td>30.0</td>\n",
       "      <td>1007.6</td>\n",
       "      <td>1008.7</td>\n",
       "      <td>...</td>\n",
       "      <td>0</td>\n",
       "      <td>0</td>\n",
       "      <td>0</td>\n",
       "      <td>0</td>\n",
       "      <td>0</td>\n",
       "      <td>0</td>\n",
       "      <td>0</td>\n",
       "      <td>0</td>\n",
       "      <td>0</td>\n",
       "      <td>0</td>\n",
       "    </tr>\n",
       "    <tr>\n",
       "      <th>3</th>\n",
       "      <td>9.2</td>\n",
       "      <td>28.0</td>\n",
       "      <td>0.0</td>\n",
       "      <td>24.0</td>\n",
       "      <td>11.0</td>\n",
       "      <td>9.0</td>\n",
       "      <td>45.0</td>\n",
       "      <td>16.0</td>\n",
       "      <td>1017.6</td>\n",
       "      <td>1012.8</td>\n",
       "      <td>...</td>\n",
       "      <td>0</td>\n",
       "      <td>0</td>\n",
       "      <td>0</td>\n",
       "      <td>0</td>\n",
       "      <td>0</td>\n",
       "      <td>0</td>\n",
       "      <td>0</td>\n",
       "      <td>0</td>\n",
       "      <td>0</td>\n",
       "      <td>0</td>\n",
       "    </tr>\n",
       "    <tr>\n",
       "      <th>4</th>\n",
       "      <td>17.5</td>\n",
       "      <td>32.3</td>\n",
       "      <td>1.0</td>\n",
       "      <td>41.0</td>\n",
       "      <td>7.0</td>\n",
       "      <td>20.0</td>\n",
       "      <td>82.0</td>\n",
       "      <td>33.0</td>\n",
       "      <td>1010.8</td>\n",
       "      <td>1006.0</td>\n",
       "      <td>...</td>\n",
       "      <td>0</td>\n",
       "      <td>0</td>\n",
       "      <td>0</td>\n",
       "      <td>0</td>\n",
       "      <td>0</td>\n",
       "      <td>0</td>\n",
       "      <td>0</td>\n",
       "      <td>0</td>\n",
       "      <td>0</td>\n",
       "      <td>0</td>\n",
       "    </tr>\n",
       "  </tbody>\n",
       "</table>\n",
       "<p>5 rows × 64 columns</p>\n",
       "</div>"
      ],
      "text/plain": [
       "   MinTemp  MaxTemp  Rainfall  WindGustSpeed  WindSpeed9am  WindSpeed3pm  \\\n",
       "0     13.4     22.9       0.6           44.0          20.0          24.0   \n",
       "1      7.4     25.1       0.0           44.0           4.0          22.0   \n",
       "2     12.9     25.7       0.0           46.0          19.0          26.0   \n",
       "3      9.2     28.0       0.0           24.0          11.0           9.0   \n",
       "4     17.5     32.3       1.0           41.0           7.0          20.0   \n",
       "\n",
       "   Humidity9am  Humidity3pm  Pressure9am  Pressure3pm  ...  \\\n",
       "0         71.0         22.0       1007.7       1007.1  ...   \n",
       "1         44.0         25.0       1010.6       1007.8  ...   \n",
       "2         38.0         30.0       1007.6       1008.7  ...   \n",
       "3         45.0         16.0       1017.6       1012.8  ...   \n",
       "4         82.0         33.0       1010.8       1006.0  ...   \n",
       "\n",
       "   Location_Townsville  Location_Tuggeranong  Location_Uluru  \\\n",
       "0                    0                     0               0   \n",
       "1                    0                     0               0   \n",
       "2                    0                     0               0   \n",
       "3                    0                     0               0   \n",
       "4                    0                     0               0   \n",
       "\n",
       "   Location_WaggaWagga  Location_Walpole  Location_Watsonia  \\\n",
       "0                    0                 0                  0   \n",
       "1                    0                 0                  0   \n",
       "2                    0                 0                  0   \n",
       "3                    0                 0                  0   \n",
       "4                    0                 0                  0   \n",
       "\n",
       "   Location_Williamtown  Location_Witchcliffe  Location_Wollongong  \\\n",
       "0                     0                     0                    0   \n",
       "1                     0                     0                    0   \n",
       "2                     0                     0                    0   \n",
       "3                     0                     0                    0   \n",
       "4                     0                     0                    0   \n",
       "\n",
       "   Location_Woomera  \n",
       "0                 0  \n",
       "1                 0  \n",
       "2                 0  \n",
       "3                 0  \n",
       "4                 0  \n",
       "\n",
       "[5 rows x 64 columns]"
      ]
     },
     "execution_count": 9,
     "metadata": {},
     "output_type": "execute_result"
    }
   ],
   "source": [
    "y = np.array(Datos_clima['RainTomorrow'])\n",
    "#### --- Quitamos la variable dependiente y los datos de localizacion --- #### \n",
    "x_data = Datos_clima.drop(['RainTomorrow','Date'], axis=1)\n",
    "x_data.head()"
   ]
  },
  {
   "cell_type": "code",
   "execution_count": 13,
   "metadata": {},
   "outputs": [
    {
     "data": {
      "text/plain": [
       "0    0.775819\n",
       "1    0.224181\n",
       "Name: RainTomorrow, dtype: float64"
      ]
     },
     "execution_count": 13,
     "metadata": {},
     "output_type": "execute_result"
    }
   ],
   "source": [
    "pd.value_counts(Datos_clima['RainTomorrow'],normalize=True)"
   ]
  },
  {
   "cell_type": "code",
   "execution_count": 13,
   "metadata": {},
   "outputs": [
    {
     "data": {
      "text/plain": [
       "0    110316\n",
       "1     31877\n",
       "dtype: int64"
      ]
     },
     "execution_count": 13,
     "metadata": {},
     "output_type": "execute_result"
    }
   ],
   "source": [
    "0    0.99\n",
    "1    0.01"
   ]
  },
  {
   "cell_type": "markdown",
   "metadata": {},
   "source": [
    "## Normalización de los Datos"
   ]
  },
  {
   "cell_type": "code",
   "execution_count": 15,
   "metadata": {},
   "outputs": [],
   "source": [
    "x = (x_data - np.mean(x_data)) / np.std(x_data)"
   ]
  },
  {
   "cell_type": "code",
   "execution_count": 16,
   "metadata": {},
   "outputs": [
    {
     "data": {
      "text/html": [
       "<div>\n",
       "<style scoped>\n",
       "    .dataframe tbody tr th:only-of-type {\n",
       "        vertical-align: middle;\n",
       "    }\n",
       "\n",
       "    .dataframe tbody tr th {\n",
       "        vertical-align: top;\n",
       "    }\n",
       "\n",
       "    .dataframe thead th {\n",
       "        text-align: right;\n",
       "    }\n",
       "</style>\n",
       "<table border=\"1\" class=\"dataframe\">\n",
       "  <thead>\n",
       "    <tr style=\"text-align: right;\">\n",
       "      <th></th>\n",
       "      <th>MinTemp</th>\n",
       "      <th>MaxTemp</th>\n",
       "      <th>Rainfall</th>\n",
       "      <th>WindGustSpeed</th>\n",
       "      <th>WindSpeed9am</th>\n",
       "      <th>WindSpeed3pm</th>\n",
       "      <th>Humidity9am</th>\n",
       "      <th>Humidity3pm</th>\n",
       "      <th>Pressure9am</th>\n",
       "      <th>Pressure3pm</th>\n",
       "      <th>...</th>\n",
       "      <th>Location_Townsville</th>\n",
       "      <th>Location_Tuggeranong</th>\n",
       "      <th>Location_Uluru</th>\n",
       "      <th>Location_WaggaWagga</th>\n",
       "      <th>Location_Walpole</th>\n",
       "      <th>Location_Watsonia</th>\n",
       "      <th>Location_Williamtown</th>\n",
       "      <th>Location_Witchcliffe</th>\n",
       "      <th>Location_Wollongong</th>\n",
       "      <th>Location_Woomera</th>\n",
       "    </tr>\n",
       "  </thead>\n",
       "  <tbody>\n",
       "    <tr>\n",
       "      <th>0</th>\n",
       "      <td>0.189954</td>\n",
       "      <td>-0.045964</td>\n",
       "      <td>-0.207757</td>\n",
       "      <td>0.305648</td>\n",
       "      <td>0.677661</td>\n",
       "      <td>0.614850</td>\n",
       "      <td>0.113891</td>\n",
       "      <td>-1.435935</td>\n",
       "      <td>-1.475456</td>\n",
       "      <td>-1.220966</td>\n",
       "      <td>...</td>\n",
       "      <td>-0.147631</td>\n",
       "      <td>-0.146759</td>\n",
       "      <td>-0.103983</td>\n",
       "      <td>-0.146208</td>\n",
       "      <td>-0.142219</td>\n",
       "      <td>-0.146784</td>\n",
       "      <td>-0.135214</td>\n",
       "      <td>-0.145604</td>\n",
       "      <td>-0.146383</td>\n",
       "      <td>-0.146559</td>\n",
       "    </tr>\n",
       "    <tr>\n",
       "      <th>1</th>\n",
       "      <td>-0.749174</td>\n",
       "      <td>0.263480</td>\n",
       "      <td>-0.278989</td>\n",
       "      <td>0.305648</td>\n",
       "      <td>-1.130034</td>\n",
       "      <td>0.385532</td>\n",
       "      <td>-1.312265</td>\n",
       "      <td>-1.289821</td>\n",
       "      <td>-1.045586</td>\n",
       "      <td>-1.116203</td>\n",
       "      <td>...</td>\n",
       "      <td>-0.147631</td>\n",
       "      <td>-0.146759</td>\n",
       "      <td>-0.103983</td>\n",
       "      <td>-0.146208</td>\n",
       "      <td>-0.142219</td>\n",
       "      <td>-0.146784</td>\n",
       "      <td>-0.135214</td>\n",
       "      <td>-0.145604</td>\n",
       "      <td>-0.146383</td>\n",
       "      <td>-0.146559</td>\n",
       "    </tr>\n",
       "    <tr>\n",
       "      <th>2</th>\n",
       "      <td>0.111694</td>\n",
       "      <td>0.347873</td>\n",
       "      <td>-0.278989</td>\n",
       "      <td>0.457874</td>\n",
       "      <td>0.564680</td>\n",
       "      <td>0.844167</td>\n",
       "      <td>-1.629188</td>\n",
       "      <td>-1.046299</td>\n",
       "      <td>-1.490279</td>\n",
       "      <td>-0.981508</td>\n",
       "      <td>...</td>\n",
       "      <td>-0.147631</td>\n",
       "      <td>-0.146759</td>\n",
       "      <td>-0.103983</td>\n",
       "      <td>-0.146208</td>\n",
       "      <td>-0.142219</td>\n",
       "      <td>-0.146784</td>\n",
       "      <td>-0.135214</td>\n",
       "      <td>-0.145604</td>\n",
       "      <td>-0.146383</td>\n",
       "      <td>-0.146559</td>\n",
       "    </tr>\n",
       "    <tr>\n",
       "      <th>3</th>\n",
       "      <td>-0.467436</td>\n",
       "      <td>0.671383</td>\n",
       "      <td>-0.278989</td>\n",
       "      <td>-1.216614</td>\n",
       "      <td>-0.339167</td>\n",
       "      <td>-1.105034</td>\n",
       "      <td>-1.259444</td>\n",
       "      <td>-1.728162</td>\n",
       "      <td>-0.007969</td>\n",
       "      <td>-0.367897</td>\n",
       "      <td>...</td>\n",
       "      <td>-0.147631</td>\n",
       "      <td>-0.146759</td>\n",
       "      <td>-0.103983</td>\n",
       "      <td>-0.146208</td>\n",
       "      <td>-0.142219</td>\n",
       "      <td>-0.146784</td>\n",
       "      <td>-0.135214</td>\n",
       "      <td>-0.145604</td>\n",
       "      <td>-0.146383</td>\n",
       "      <td>-0.146559</td>\n",
       "    </tr>\n",
       "    <tr>\n",
       "      <th>4</th>\n",
       "      <td>0.831692</td>\n",
       "      <td>1.276205</td>\n",
       "      <td>-0.160269</td>\n",
       "      <td>0.077309</td>\n",
       "      <td>-0.791091</td>\n",
       "      <td>0.156214</td>\n",
       "      <td>0.694918</td>\n",
       "      <td>-0.900186</td>\n",
       "      <td>-1.015940</td>\n",
       "      <td>-1.385593</td>\n",
       "      <td>...</td>\n",
       "      <td>-0.147631</td>\n",
       "      <td>-0.146759</td>\n",
       "      <td>-0.103983</td>\n",
       "      <td>-0.146208</td>\n",
       "      <td>-0.142219</td>\n",
       "      <td>-0.146784</td>\n",
       "      <td>-0.135214</td>\n",
       "      <td>-0.145604</td>\n",
       "      <td>-0.146383</td>\n",
       "      <td>-0.146559</td>\n",
       "    </tr>\n",
       "  </tbody>\n",
       "</table>\n",
       "<p>5 rows × 64 columns</p>\n",
       "</div>"
      ],
      "text/plain": [
       "    MinTemp   MaxTemp  Rainfall  WindGustSpeed  WindSpeed9am  WindSpeed3pm  \\\n",
       "0  0.189954 -0.045964 -0.207757       0.305648      0.677661      0.614850   \n",
       "1 -0.749174  0.263480 -0.278989       0.305648     -1.130034      0.385532   \n",
       "2  0.111694  0.347873 -0.278989       0.457874      0.564680      0.844167   \n",
       "3 -0.467436  0.671383 -0.278989      -1.216614     -0.339167     -1.105034   \n",
       "4  0.831692  1.276205 -0.160269       0.077309     -0.791091      0.156214   \n",
       "\n",
       "   Humidity9am  Humidity3pm  Pressure9am  Pressure3pm  ...  \\\n",
       "0     0.113891    -1.435935    -1.475456    -1.220966  ...   \n",
       "1    -1.312265    -1.289821    -1.045586    -1.116203  ...   \n",
       "2    -1.629188    -1.046299    -1.490279    -0.981508  ...   \n",
       "3    -1.259444    -1.728162    -0.007969    -0.367897  ...   \n",
       "4     0.694918    -0.900186    -1.015940    -1.385593  ...   \n",
       "\n",
       "   Location_Townsville  Location_Tuggeranong  Location_Uluru  \\\n",
       "0            -0.147631             -0.146759       -0.103983   \n",
       "1            -0.147631             -0.146759       -0.103983   \n",
       "2            -0.147631             -0.146759       -0.103983   \n",
       "3            -0.147631             -0.146759       -0.103983   \n",
       "4            -0.147631             -0.146759       -0.103983   \n",
       "\n",
       "   Location_WaggaWagga  Location_Walpole  Location_Watsonia  \\\n",
       "0            -0.146208         -0.142219          -0.146784   \n",
       "1            -0.146208         -0.142219          -0.146784   \n",
       "2            -0.146208         -0.142219          -0.146784   \n",
       "3            -0.146208         -0.142219          -0.146784   \n",
       "4            -0.146208         -0.142219          -0.146784   \n",
       "\n",
       "   Location_Williamtown  Location_Witchcliffe  Location_Wollongong  \\\n",
       "0             -0.135214             -0.145604            -0.146383   \n",
       "1             -0.135214             -0.145604            -0.146383   \n",
       "2             -0.135214             -0.145604            -0.146383   \n",
       "3             -0.135214             -0.145604            -0.146383   \n",
       "4             -0.135214             -0.145604            -0.146383   \n",
       "\n",
       "   Location_Woomera  \n",
       "0         -0.146559  \n",
       "1         -0.146559  \n",
       "2         -0.146559  \n",
       "3         -0.146559  \n",
       "4         -0.146559  \n",
       "\n",
       "[5 rows x 64 columns]"
      ]
     },
     "execution_count": 16,
     "metadata": {},
     "output_type": "execute_result"
    }
   ],
   "source": [
    "x.head()"
   ]
  },
  {
   "cell_type": "code",
   "execution_count": 20,
   "metadata": {},
   "outputs": [
    {
     "name": "stdout",
     "output_type": "stream",
     "text": [
      "StandardScaler()\n"
     ]
    }
   ],
   "source": [
    "## ---- Definir clase --- # \n",
    "scaler = StandardScaler()\n",
    "## ---- Ajustar datos --- ### \n",
    "print(scaler.fit(x_data))"
   ]
  },
  {
   "cell_type": "code",
   "execution_count": 21,
   "metadata": {},
   "outputs": [],
   "source": [
    "## --- Estimar transformación --- ## \n",
    "x = scaler.transform(x_data)"
   ]
  },
  {
   "cell_type": "code",
   "execution_count": 22,
   "metadata": {},
   "outputs": [
    {
     "data": {
      "text/plain": [
       "array([[ 0.18995446, -0.04596425, -0.20775676, ..., -0.14560444,\n",
       "        -0.14638326, -0.1465586 ],\n",
       "       [-0.74917416,  0.26347957, -0.2789887 , ..., -0.14560444,\n",
       "        -0.14638326, -0.1465586 ],\n",
       "       [ 0.11169374,  0.34787335, -0.2789887 , ..., -0.14560444,\n",
       "        -0.14638326, -0.1465586 ],\n",
       "       ...,\n",
       "       [-1.34395563,  0.29161083, -0.2789887 , ..., -0.14560444,\n",
       "        -0.14638326, -0.1465586 ],\n",
       "       [-1.06221704,  0.51666089, -0.2789887 , ..., -0.14560444,\n",
       "        -0.14638326, -0.1465586 ],\n",
       "       [-0.68656559,  0.53072651, -0.2789887 , ..., -0.14560444,\n",
       "        -0.14638326, -0.1465586 ]])"
      ]
     },
     "execution_count": 22,
     "metadata": {},
     "output_type": "execute_result"
    }
   ],
   "source": [
    "x"
   ]
  },
  {
   "cell_type": "code",
   "execution_count": 24,
   "metadata": {},
   "outputs": [
    {
     "data": {
      "text/plain": [
       "array([[13.4, 22.9,  0.6, ...,  0. ,  0. ,  0. ],\n",
       "       [ 7.4, 25.1,  0. , ...,  0. ,  0. ,  0. ],\n",
       "       [12.9, 25.7,  0. , ...,  0. ,  0. ,  0. ],\n",
       "       ...,\n",
       "       [ 3.6, 25.3,  0. , ...,  0. ,  0. ,  0. ],\n",
       "       [ 5.4, 26.9,  0. , ...,  0. ,  0. ,  0. ],\n",
       "       [ 7.8, 27. ,  0. , ...,  0. ,  0. ,  0. ]])"
      ]
     },
     "execution_count": 24,
     "metadata": {},
     "output_type": "execute_result"
    }
   ],
   "source": [
    "## --- Devolver --- ###\n",
    "scaler.inverse_transform(x)"
   ]
  },
  {
   "cell_type": "markdown",
   "metadata": {},
   "source": [
    "## Crear muestra de entrenamiento y de prueba"
   ]
  },
  {
   "cell_type": "code",
   "execution_count": 25,
   "metadata": {},
   "outputs": [
    {
     "name": "stdout",
     "output_type": "stream",
     "text": [
      "x entrenamiento dimension (113754, 64)\n",
      "y entrenamiento dimension:  (113754,)\n",
      "x prueba dimension:  (28439, 64)\n",
      "y prueba dimension:  (28439,)\n"
     ]
    }
   ],
   "source": [
    "x_train, x_test, y_train, y_test = train_test_split(x, y, test_size=0.2, random_state=75)\n",
    "\n",
    "print('x entrenamiento dimension', x_train.shape)\n",
    "print('y entrenamiento dimension: ', y_train.shape)\n",
    "print('x prueba dimension: ', x_test.shape)\n",
    "print('y prueba dimension: ', y_test.shape)"
   ]
  },
  {
   "cell_type": "markdown",
   "metadata": {},
   "source": [
    "# Modelos de clasificación"
   ]
  },
  {
   "cell_type": "markdown",
   "metadata": {},
   "source": [
    "## Logit"
   ]
  },
  {
   "cell_type": "code",
   "execution_count": 26,
   "metadata": {},
   "outputs": [
    {
     "name": "stdout",
     "output_type": "stream",
     "text": [
      "Precisión: 0.8450367453145329\n"
     ]
    }
   ],
   "source": [
    "Logit = LogisticRegression(max_iter=1000)\n",
    "\n",
    "### --- Ajustar a los datos de entrenamiento --- ### \n",
    "Logit.fit(x_train, y_train)\n",
    "\n",
    "# Calcular la precisión utilizando nuestro modelo entrenado y datos de prueba:\n",
    "print('Precisión: {}'.format(Logit.score(x_test, y_test)))"
   ]
  },
  {
   "cell_type": "markdown",
   "metadata": {},
   "source": [
    "## Logit Optimizado"
   ]
  },
  {
   "cell_type": "code",
   "execution_count": 36,
   "metadata": {},
   "outputs": [
    {
     "name": "stdout",
     "output_type": "stream",
     "text": [
      "Precisión: 0.8652477046027194\n"
     ]
    }
   ],
   "source": [
    "### \n",
    "fold = KFold(n_splits=10, shuffle=True, random_state=777)\n",
    "### --- Grilla de parametros a optimizar --- ### \n",
    "grid = {'C': np.power(10.0, np.arange(-10, 10)), 'solver': ['newton-cg']}\n",
    "\n",
    "### --- Parametros generales --- ### \n",
    "clf = LogisticRegression(penalty='l2', random_state=777, max_iter=10000, tol=20)\n",
    "\n",
    "### --- Optimizacion de parametros --- ### \n",
    "Logit_optimizado = GridSearchCV(clf, grid, scoring='roc_auc', cv=fold)\n",
    "\n",
    "### --- Ajustar a los datos de entrenamiento --- ### \n",
    "Logit_optimizado.fit(x_train, y_train)\n",
    "### --- Resultados --- ### \n",
    "print('Precisión:', Logit_optimizado.best_score_)"
   ]
  },
  {
   "cell_type": "code",
   "execution_count": 19,
   "metadata": {},
   "outputs": [
    {
     "data": {
      "text/plain": [
       "LogisticRegression(C=1000.0, max_iter=10000, random_state=777,\n",
       "                   solver='newton-cg', tol=20)"
      ]
     },
     "execution_count": 19,
     "metadata": {},
     "output_type": "execute_result"
    }
   ],
   "source": [
    "Logit_optimizado.best_estimator_"
   ]
  },
  {
   "cell_type": "code",
   "execution_count": 54,
   "metadata": {},
   "outputs": [
    {
     "name": "stdout",
     "output_type": "stream",
     "text": [
      "Confusion matrix, without normalization\n",
      "[[20744  1208]\n",
      " [ 3206  3281]]\n"
     ]
    },
    {
     "data": {
      "image/png": "[encoded data removed]",
      "text/plain": [
       "<Figure size 432x288 with 2 Axes>"
      ]
     },
     "metadata": {
      "needs_background": "light"
     },
     "output_type": "display_data"
    }
   ],
   "source": [
    "################# -------------- Random Forest ---------- #################\n",
    "Probabilidades = Logit_optimizado.predict_proba(x_test)\n",
    "Resultados = Probabilidades[:,1] \n",
    "prob = 0.5\n",
    "Resultados[Resultados >=prob,] = 1\n",
    "Resultados[Resultados < prob,] = 0\n",
    "cnf_matrix = metrics.confusion_matrix(y_test,pd.DataFrame(Resultados))\n",
    "plt.figure()\n",
    "graficar_matriz_confusion(cnf_matrix, classes=['Negativo','Positivo'],title='Logit')"
   ]
  },
  {
   "cell_type": "markdown",
   "metadata": {},
   "source": [
    "## Maquina de Soporte Vectorial"
   ]
  },
  {
   "cell_type": "code",
   "execution_count": 55,
   "metadata": {},
   "outputs": [
    {
     "name": "stdout",
     "output_type": "stream",
     "text": [
      "[LibSVM][LibSVM][LibSVM][LibSVM][LibSVM][LibSVM][LibSVM][LibSVM][LibSVM][LibSVM][LibSVM][LibSVM][LibSVM][LibSVM][LibSVM][LibSVM][LibSVM][LibSVM][LibSVM][LibSVM][LibSVM][LibSVM][LibSVM][LibSVM][LibSVM][LibSVM][LibSVM][LibSVM][LibSVM][LibSVM][LibSVM][LibSVM][LibSVM][LibSVM][LibSVM][LibSVM][LibSVM][LibSVM][LibSVM][LibSVM][LibSVM][LibSVM][LibSVM][LibSVM][LibSVM][LibSVM][LibSVM][LibSVM][LibSVM][LibSVM][LibSVM][LibSVM][LibSVM][LibSVM][LibSVM][LibSVM][LibSVM][LibSVM][LibSVM][LibSVM][LibSVM][LibSVM][LibSVM][LibSVM][LibSVM][LibSVM][LibSVM][LibSVM][LibSVM][LibSVM][LibSVM][LibSVM][LibSVM][LibSVM][LibSVM][LibSVM][LibSVM][LibSVM][LibSVM][LibSVM][LibSVM][LibSVM][LibSVM][LibSVM][LibSVM][LibSVM][LibSVM][LibSVM][LibSVM][LibSVM][LibSVM][LibSVM][LibSVM][LibSVM][LibSVM][LibSVM][LibSVM][LibSVM][LibSVM][LibSVM]"
     ]
    },
    {
     "data": {
      "text/plain": [
       "0.8424346847638806"
      ]
     },
     "execution_count": 55,
     "metadata": {},
     "output_type": "execute_result"
    }
   ],
   "source": [
    "################# -------------- Bagging SVM ---------- #################\n",
    "n_estimators = 100\n",
    "SVM = BaggingClassifier(SVC(C=1, kernel='linear', probability = True,verbose=10), max_samples=1.0 / n_estimators, n_estimators=n_estimators)\n",
    "SVM.fit(x_train, y_train)\n",
    "SVM.score(x_test, y_test)"
   ]
  },
  {
   "cell_type": "markdown",
   "metadata": {},
   "source": [
    "## Random Forest"
   ]
  },
  {
   "cell_type": "code",
   "execution_count": 56,
   "metadata": {},
   "outputs": [
    {
     "data": {
      "text/plain": [
       "0.8496079327683814"
      ]
     },
     "execution_count": 56,
     "metadata": {},
     "output_type": "execute_result"
    }
   ],
   "source": [
    "################# -------------- Random Forest ---------- #################\n",
    "RandomForest = RandomForestClassifier(n_estimators = 50, random_state = 42)\n",
    "RandomForest.fit(x_train, y_train)\n",
    "RandomForest.score(x_test, y_test)"
   ]
  },
  {
   "cell_type": "markdown",
   "metadata": {},
   "source": [
    "## Matriz de confusión"
   ]
  },
  {
   "cell_type": "code",
   "execution_count": 34,
   "metadata": {},
   "outputs": [
    {
     "name": "stdout",
     "output_type": "stream",
     "text": [
      "Confusion matrix, without normalization\n",
      "[[19969  1983]\n",
      " [ 2455  4032]]\n"
     ]
    },
    {
     "data": {
      "image/png": "[encoded data removed]",
      "text/plain": [
       "<Figure size 432x288 with 2 Axes>"
      ]
     },
     "metadata": {
      "needs_background": "light"
     },
     "output_type": "display_data"
    }
   ],
   "source": [
    "################# -------------- Random Forest ---------- #################\n",
    "Probabilidades = RandomForest.predict_proba(x_test)\n",
    "Resultados = Probabilidades[:,1] \n",
    "prob = 0.4\n",
    "Resultados[Resultados >=prob,] = 1\n",
    "Resultados[Resultados < prob,] = 0\n",
    "cnf_matrix = metrics.confusion_matrix(y_test,pd.DataFrame(Resultados))\n",
    "plt.figure()\n",
    "graficar_matriz_confusion(cnf_matrix, classes=['Negativo','Positivo'],title='Logit')"
   ]
  },
  {
   "cell_type": "markdown",
   "metadata": {},
   "source": [
    "## Logit"
   ]
  },
  {
   "cell_type": "code",
   "execution_count": 35,
   "metadata": {},
   "outputs": [
    {
     "name": "stdout",
     "output_type": "stream",
     "text": [
      "Confusion matrix, without normalization\n",
      "[[20040  1912]\n",
      " [ 2608  3879]]\n"
     ]
    },
    {
     "data": {
      "image/png": "[encoded data removed]",
      "text/plain": [
       "<Figure size 432x288 with 2 Axes>"
      ]
     },
     "metadata": {
      "needs_background": "light"
     },
     "output_type": "display_data"
    }
   ],
   "source": [
    "################# -------------- Logit ---------- #################\n",
    "Probabilidades = Logit.predict_proba(x_test)\n",
    "Resultados = Probabilidades[:,1] \n",
    "prob = 0.4\n",
    "Resultados[Resultados >=prob,] = 1\n",
    "Resultados[Resultados < prob,] = 0\n",
    "cnf_matrix = metrics.confusion_matrix(y_test,pd.DataFrame(Resultados))\n",
    "plt.figure()\n",
    "graficar_matriz_confusion(cnf_matrix, classes=['Negativo','Positivo'],title='Logit')"
   ]
  },
  {
   "cell_type": "markdown",
   "metadata": {},
   "source": [
    "## SVM"
   ]
  },
  {
   "cell_type": "code",
   "execution_count": 36,
   "metadata": {},
   "outputs": [
    {
     "name": "stdout",
     "output_type": "stream",
     "text": [
      "Confusion matrix, without normalization\n",
      "[[21155   797]\n",
      " [ 3688  2799]]\n"
     ]
    },
    {
     "data": {
      "image/png": "[encoded data removed]",
      "text/plain": [
       "<Figure size 432x288 with 2 Axes>"
      ]
     },
     "metadata": {
      "needs_background": "light"
     },
     "output_type": "display_data"
    }
   ],
   "source": [
    "################# -------------- SVM ---------- #################\n",
    "Probabilidades = SVM.predict_proba(x_test)\n",
    "Resultados = Probabilidades[:,1] \n",
    "prob = 0.5\n",
    "Resultados[Resultados >=prob,] = 1\n",
    "Resultados[Resultados < prob,] = 0\n",
    "cnf_matrix = metrics.confusion_matrix(y_test,pd.DataFrame(Resultados))\n",
    "plt.figure()\n",
    "graficar_matriz_confusion(cnf_matrix, classes=['Negativo','Positivo'],title='SVM')"
   ]
  },
  {
   "cell_type": "code",
   "execution_count": 37,
   "metadata": {},
   "outputs": [
    {
     "name": "stdout",
     "output_type": "stream",
     "text": [
      "Confusion matrix, without normalization\n",
      "[[19969  1983]\n",
      " [ 2455  4032]]\n"
     ]
    },
    {
     "data": {
      "image/png": "[encoded data removed]",
      "text/plain": [
       "<Figure size 432x288 with 2 Axes>"
      ]
     },
     "metadata": {
      "needs_background": "light"
     },
     "output_type": "display_data"
    }
   ],
   "source": [
    "################# -------------- Random Forest ---------- #################\n",
    "Probabilidades = RandomForest.predict_proba(x_test)\n",
    "Resultados = Probabilidades[:,1] \n",
    "prob = 0.4\n",
    "Resultados[Resultados >=prob,] = 1\n",
    "Resultados[Resultados < prob,] = 0\n",
    "cnf_matrix = metrics.confusion_matrix(y_test,pd.DataFrame(Resultados))\n",
    "plt.figure()\n",
    "graficar_matriz_confusion(cnf_matrix, classes=['Negativo','Positivo'],title='Random Forest')"
   ]
  },
  {
   "cell_type": "markdown",
   "metadata": {},
   "source": [
    "## Métricas de evaluación"
   ]
  },
  {
   "cell_type": "code",
   "execution_count": 57,
   "metadata": {},
   "outputs": [],
   "source": [
    "####### -------- Predict test -------- ######\n",
    "####### -------- Logit -------- ######\n",
    "yhat_Logit = Logit_optimizado.predict_proba(x_test)\n",
    "\n",
    "####### -------- SVM -------- ######\n",
    "yhat_Svm = SVM.predict_proba(x_test)\n",
    "\n",
    "####### -------- Random Forest -------- ######\n",
    "yhat_Random = RandomForest.predict_proba(x_test)"
   ]
  },
  {
   "cell_type": "code",
   "execution_count": 59,
   "metadata": {},
   "outputs": [],
   "source": [
    "####### -------- Logit -------- ######\n",
    "fpr_logit, tpr_logit, threshold = metrics.roc_curve(y_test, yhat_Logit[:,1])\n",
    "roc_auc_logit = metrics.auc(fpr_logit, tpr_logit)\n",
    "####### -------- SVM -------- ######\n",
    "fpr_svm, tpr_svm, threshold = metrics.roc_curve(y_test, yhat_Svm[:,1])\n",
    "roc_auc_svm = metrics.auc(fpr_svm, tpr_svm)\n",
    "####### -------- Random Forest -------- ######\n",
    "fpr_random, tpr_random, threshold = metrics.roc_curve(y_test, yhat_Random[:,1])\n",
    "roc_auc_random = metrics.auc(fpr_random, tpr_random)"
   ]
  },
  {
   "cell_type": "code",
   "execution_count": 60,
   "metadata": {},
   "outputs": [
    {
     "data": {
      "image/png": "[encoded data removed]",
      "text/plain": [
       "<Figure size 576x504 with 1 Axes>"
      ]
     },
     "metadata": {
      "needs_background": "light"
     },
     "output_type": "display_data"
    }
   ],
   "source": [
    "####### ------------------ Metrics ------------------------ ######\n",
    "plt.figure(figsize=(8,7))\n",
    "plt.plot(fpr_logit, tpr_logit, label='Logit (area = %0.3f)' % roc_auc_logit, linewidth=2)\n",
    "plt.plot(fpr_svm, tpr_svm, label='SVM (area = %0.3f)' % roc_auc_svm, linewidth=2)\n",
    "plt.plot(fpr_random, tpr_random, label='Random Forest (area = %0.3f)' % roc_auc_random, linewidth=2)\n",
    "\n",
    "plt.plot([0, 1], [0, 1], 'k--', linewidth=2)\n",
    "plt.xlim([-0.05, 1.0])\n",
    "plt.ylim([-0.05, 1.05])\n",
    "plt.xlabel('Tasa falsos positivos', fontsize=18)\n",
    "plt.ylabel('Tasa verdaderos positivos', fontsize=18)\n",
    "plt.title('ROC', fontsize=18)\n",
    "plt.legend(loc=\"lower right\")\n",
    "plt.show()"
   ]
  },
  {
   "cell_type": "code",
   "execution_count": null,
   "metadata": {},
   "outputs": [],
   "source": []
  },
  {
   "cell_type": "code",
   "execution_count": null,
   "metadata": {},
   "outputs": [],
   "source": []
  }
 ],
 "metadata": {
  "kernelspec": {
   "display_name": "Python 3",
   "language": "python",
   "name": "python3"
  },
  "language_info": {
   "codemirror_mode": {
    "name": "ipython",
    "version": 3
   },
   "file_extension": ".py",
   "mimetype": "text/x-python",
   "name": "python",
   "nbconvert_exporter": "python",
   "pygments_lexer": "ipython3",
   "version": "3.7.5"
  }
 },
 "nbformat": 4,
 "nbformat_minor": 4
}
