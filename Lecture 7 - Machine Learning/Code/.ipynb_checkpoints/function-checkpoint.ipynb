{
 "cells": [
  {
   "cell_type": "code",
   "execution_count": 276,
   "id": "8aeb535d-b3c7-469b-91a0-dabbc59da0f9",
   "metadata": {},
   "outputs": [],
   "source": [
    "###### ---- GetSumThreshold ---- #####\n",
    "#### GetSumThreshold algorithm find the index number at which \n",
    "#### the left and right side of the array gives the same resul. \n",
    "#### Input: Vector \n",
    "import re\n",
    "\n",
    "def GetSumThreshold(RawVector):\n",
    "    ### ----- Parsing and clean vector ---- ##\n",
    "    ### --- Transformate all in strings --- ###\n",
    "    Vector = list(map(lambda x: str(x),RawVector))\n",
    "    ### --- Filter just transformation to numbers --- ###\n",
    "    r = re.compile(r'-?\\d+(?:\\.\\d+)?')\n",
    "    ### --- Clean Numbers ---- ##\n",
    "    Vector = list(filter(r.match, Vector)) \n",
    "    ### ---- Return float ---- ###\n",
    "    Vector = list(map(lambda x: float(x),Vector))\n",
    "\n",
    "    \n",
    "    ### ---- Input: Have to len > 1 and doesnt content string ---- #### \n",
    "    if (len(Vector)>1) & (len(RawVector) == len(Vector)): \n",
    "        \n",
    "        ### -------- Evaluate the restriction for each position ------ ###\n",
    "        Candidates = [(sum(Vector[t+1:])==sum(Vector[:t]))*1 for t in range(0,len(Vector))]\n",
    "\n",
    "        ### ---- Case 1: unique solution or more---- ###\n",
    "        if sum(Candidates) >= 1: \n",
    "            Threshold = [i for i in range(len(Candidates)) if Candidates[i] in [1]]\n",
    "            Total_sum = list(map(lambda t: sum(Vector[t+1:]),Threshold))\n",
    "            \n",
    "        ### ---- Case 2: Not solution ---- ####  \n",
    "        else: \n",
    "            Threshold = [None]\n",
    "            Total_sum = [None]\n",
    "\n",
    "    ### ---- Input: Have to len < 1 ---- #### \n",
    "    else: \n",
    "        Threshold = [None] \n",
    "        Total_sum = [None]\n",
    "    \n",
    "    print('The solution is ' + ','.join(list(map(lambda x: str(x),Threshold))))\n",
    "    print('The sum is ' + ','.join(list(map(lambda x: str(x),Total_sum))))\n",
    "\n",
    "    return(Threshold,Total_sum)\n",
    "\n"
   ]
  },
  {
   "cell_type": "code",
   "execution_count": 281,
   "id": "4a51269f-49f3-4421-8053-e2ace546360d",
   "metadata": {},
   "outputs": [
    {
     "name": "stdout",
     "output_type": "stream",
     "text": [
      "The solution is 2\n",
      "The sum is 3.0\n",
      "The solution is 3\n",
      "The sum is 5.0\n",
      "The solution is 10\n",
      "The sum is 33.0\n"
     ]
    },
    {
     "data": {
      "text/plain": [
       "([10], [33.0])"
      ]
     },
     "execution_count": 281,
     "metadata": {},
     "output_type": "execute_result"
    }
   ],
   "source": [
    "Example1 = [ 1, 2, 6, 3 ]\n",
    "Example2 = [2, 1, 2, 1, 3, 2]\n",
    "Example3 = [ 2, 2, 2, 2, 2, 2, 2, 6, 10, 3, 1, 5, 2, 5, 3, 1, 3, 14]\n",
    "\n",
    "GetSumThreshold(RawVector=Example1)\n",
    "GetSumThreshold(RawVector=Example2)\n",
    "GetSumThreshold(RawVector=Example3)"
   ]
  },
  {
   "cell_type": "code",
   "execution_count": null,
   "id": "6a4af618-ec49-4e6d-b0d4-d6c2757ab8a0",
   "metadata": {},
   "outputs": [],
   "source": []
  }
 ],
 "metadata": {
  "kernelspec": {
   "display_name": "Python 3",
   "language": "python",
   "name": "python3"
  },
  "language_info": {
   "codemirror_mode": {
    "name": "ipython",
    "version": 3
   },
   "file_extension": ".py",
   "mimetype": "text/x-python",
   "name": "python",
   "nbconvert_exporter": "python",
   "pygments_lexer": "ipython3",
   "version": "3.7.5"
  }
 },
 "nbformat": 4,
 "nbformat_minor": 5
}
